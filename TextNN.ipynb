{
 "nbformat": 4,
 "nbformat_minor": 0,
 "metadata": {
  "colab": {
   "name": "TextNN.ipynb",
   "provenance": [],
   "collapsed_sections": []
  },
  "kernelspec": {
   "name": "python3",
   "language": "python",
   "display_name": "Python 3 (ipykernel)"
  },
  "language_info": {
   "name": "python"
  },
  "pycharm": {
   "stem_cell": {
    "cell_type": "raw",
    "source": [],
    "metadata": {
     "collapsed": false
    }
   }
  }
 },
 "cells": [
  {
   "cell_type": "code",
   "execution_count": 292,
   "metadata": {
    "id": "IsGCna7vIXxv",
    "pycharm": {
     "is_executing": false
    }
   },
   "outputs": [],
   "source": [
    "import string\n",
    "from sklearn import preprocessing\n",
    "import pandas as pd\n",
    "import plotly.express as px\n",
    "from tqdm import tqdm\n",
    "tqdm.pandas()\n"
   ]
  },
  {
   "cell_type": "code",
   "source": [
    "import nltk\n",
    "nltk.download(\"stopwords\")\n",
    "from nltk.corpus import stopwords\n",
    "from string import punctuation\n",
    "english_stopwords = stopwords.words(\"english\")"
   ],
   "metadata": {
    "colab": {
     "base_uri": "https://localhost:8080/"
    },
    "id": "I8QATtZzb0DY",
    "outputId": "116d85e9-0aa6-4e07-8b3f-4083d8a42cb2",
    "pycharm": {
     "is_executing": false
    }
   },
   "execution_count": 293,
   "outputs": [
    {
     "name": "stderr",
     "text": [
      "[nltk_data] Downloading package stopwords to\n",
      "[nltk_data]     C:\\Users\\rafaga\\AppData\\Roaming\\nltk_data...\n",
      "[nltk_data]   Package stopwords is already up-to-date!\n"
     ],
     "output_type": "stream"
    }
   ]
  },
  {
   "cell_type": "code",
   "source": [
    "from sklearn.pipeline import Pipeline\n",
    "# pipeline позволяет объединить в один блок трансформер и модель, что упрощает написание кода и улучшает его читаемость\n",
    "from sklearn.feature_extraction.text import TfidfVectorizer\n",
    "# TfidfVectorizer преобразует тексты в числовые векторы, отражающие важность использования каждого слова из некоторого набора слов (количество слов набора определяет размерность вектора) в каждом тексте\n",
    "from sklearn.linear_model import SGDClassifier\n",
    "from sklearn.neighbors import KNeighborsClassifier\n",
    "# линейный классификатор и классификатор методом ближайших соседей\n",
    "from sklearn import metrics\n",
    "# набор метрик для оценки качества модели"
   ],
   "metadata": {
    "id": "5ytvD4X76gH2",
    "pycharm": {
     "is_executing": false
    }
   },
   "execution_count": 294,
   "outputs": []
  },
  {
   "cell_type": "code",
   "source": [
    "DF = pd.read_excel(\"input/Content Automation (1).xlsx\", header=1)"
   ],
   "metadata": {
    "id": "TohKOXJDIpTQ",
    "pycharm": {
     "is_executing": false
    }
   },
   "execution_count": 295,
   "outputs": []
  },
  {
   "cell_type": "code",
   "source": [
    "DF.head()"
   ],
   "metadata": {
    "colab": {
     "base_uri": "https://localhost:8080/",
     "height": 354
    },
    "id": "O8hE9Yd0JCI_",
    "outputId": "ad8849e1-aa83-4c9d-e50d-36c57d4d9c60",
    "pycharm": {
     "is_executing": false
    }
   },
   "execution_count": 296,
   "outputs": [
    {
     "data": {
      "text/plain": "   Subject  Text Modification  \\\n0      1.0                1.0   \n1      1.0                2.0   \n2      1.0                3.0   \n3      1.0                4.0   \n4      1.0                5.0   \n\n                                                TEXT     Style  \\\n0  Friction is the force that resists motion when...  Academic   \n1  Friction is the force resisting the relative m...  Academic   \n2  Friction is the force between two surfaces tha...  Academic   \n3  Friction is the force that resists motion when...  Academic   \n4  Friction is the unseen force that resists moti...  Academic   \n\n   Length\\n (Words)                                           Keywords  \\\n0             110.0  - Friction\\n- Static Friction\\n- Sliding Frict...   \n1             110.0  - Friction\\n- Static Friction\\n- Sliding Frict...   \n2             110.0  - Friction\\n- Static Friction\\n- Sliding Frict...   \n3             110.0  - Friction\\n- Static Friction\\n- Sliding Frict...   \n4             110.0  - Friction\\n- Static Friction\\n- Sliding Frict...   \n\n   Clarity of the point  Completeness  Style as per requested  Length  \\\n0                  1.00          1.00                     1.0     1.0   \n1                  0.90          1.00                     0.9     1.0   \n2                  0.80          0.85                     0.9     0.9   \n3                  0.95          0.80                     0.7     0.9   \n4                  0.80          0.80                     0.6     0.8   \n\n   Keywords usage  Rank   Avg  Word Count  \n0             1.0   1.0  1.00       110.0  \n1             0.5   2.0  0.86       113.0  \n2             0.8   3.0  0.85       102.0  \n3             0.8   4.0  0.83       106.0  \n4             1.0   5.0  0.80       109.0  ",
      "text/html": "<div>\n<style scoped>\n    .dataframe tbody tr th:only-of-type {\n        vertical-align: middle;\n    }\n\n    .dataframe tbody tr th {\n        vertical-align: top;\n    }\n\n    .dataframe thead th {\n        text-align: right;\n    }\n</style>\n<table border=\"1\" class=\"dataframe\">\n  <thead>\n    <tr style=\"text-align: right;\">\n      <th></th>\n      <th>Subject</th>\n      <th>Text Modification</th>\n      <th>TEXT</th>\n      <th>Style</th>\n      <th>Length\\n (Words)</th>\n      <th>Keywords</th>\n      <th>Clarity of the point</th>\n      <th>Completeness</th>\n      <th>Style as per requested</th>\n      <th>Length</th>\n      <th>Keywords usage</th>\n      <th>Rank</th>\n      <th>Avg</th>\n      <th>Word Count</th>\n    </tr>\n  </thead>\n  <tbody>\n    <tr>\n      <th>0</th>\n      <td>1.0</td>\n      <td>1.0</td>\n      <td>Friction is the force that resists motion when...</td>\n      <td>Academic</td>\n      <td>110.0</td>\n      <td>- Friction\\n- Static Friction\\n- Sliding Frict...</td>\n      <td>1.00</td>\n      <td>1.00</td>\n      <td>1.0</td>\n      <td>1.0</td>\n      <td>1.0</td>\n      <td>1.0</td>\n      <td>1.00</td>\n      <td>110.0</td>\n    </tr>\n    <tr>\n      <th>1</th>\n      <td>1.0</td>\n      <td>2.0</td>\n      <td>Friction is the force resisting the relative m...</td>\n      <td>Academic</td>\n      <td>110.0</td>\n      <td>- Friction\\n- Static Friction\\n- Sliding Frict...</td>\n      <td>0.90</td>\n      <td>1.00</td>\n      <td>0.9</td>\n      <td>1.0</td>\n      <td>0.5</td>\n      <td>2.0</td>\n      <td>0.86</td>\n      <td>113.0</td>\n    </tr>\n    <tr>\n      <th>2</th>\n      <td>1.0</td>\n      <td>3.0</td>\n      <td>Friction is the force between two surfaces tha...</td>\n      <td>Academic</td>\n      <td>110.0</td>\n      <td>- Friction\\n- Static Friction\\n- Sliding Frict...</td>\n      <td>0.80</td>\n      <td>0.85</td>\n      <td>0.9</td>\n      <td>0.9</td>\n      <td>0.8</td>\n      <td>3.0</td>\n      <td>0.85</td>\n      <td>102.0</td>\n    </tr>\n    <tr>\n      <th>3</th>\n      <td>1.0</td>\n      <td>4.0</td>\n      <td>Friction is the force that resists motion when...</td>\n      <td>Academic</td>\n      <td>110.0</td>\n      <td>- Friction\\n- Static Friction\\n- Sliding Frict...</td>\n      <td>0.95</td>\n      <td>0.80</td>\n      <td>0.7</td>\n      <td>0.9</td>\n      <td>0.8</td>\n      <td>4.0</td>\n      <td>0.83</td>\n      <td>106.0</td>\n    </tr>\n    <tr>\n      <th>4</th>\n      <td>1.0</td>\n      <td>5.0</td>\n      <td>Friction is the unseen force that resists moti...</td>\n      <td>Academic</td>\n      <td>110.0</td>\n      <td>- Friction\\n- Static Friction\\n- Sliding Frict...</td>\n      <td>0.80</td>\n      <td>0.80</td>\n      <td>0.6</td>\n      <td>0.8</td>\n      <td>1.0</td>\n      <td>5.0</td>\n      <td>0.80</td>\n      <td>109.0</td>\n    </tr>\n  </tbody>\n</table>\n</div>"
     },
     "metadata": {},
     "output_type": "execute_result",
     "execution_count": 296
    }
   ]
  },
  {
   "cell_type": "markdown",
   "source": [
    "Посмотрим на разменрность данных"
   ],
   "metadata": {
    "id": "WNqQ7zB2T9Dn"
   }
  },
  {
   "cell_type": "code",
   "source": [
    "DF.shape"
   ],
   "metadata": {
    "colab": {
     "base_uri": "https://localhost:8080/"
    },
    "id": "JRZhyvGyKhPW",
    "outputId": "eb7471a1-85ad-418b-c90e-7193db294530",
    "pycharm": {
     "is_executing": false
    }
   },
   "execution_count": 297,
   "outputs": [
    {
     "data": {
      "text/plain": "(605, 14)"
     },
     "metadata": {},
     "output_type": "execute_result",
     "execution_count": 297
    }
   ]
  },
  {
   "cell_type": "markdown",
   "source": [
    "Построим распределение стилей текста"
   ],
   "metadata": {
    "id": "BqewFNF2UH5D"
   }
  },
  {
   "cell_type": "code",
   "source": [
    "DF[\"Style\"].value_counts()"
   ],
   "metadata": {
    "colab": {
     "base_uri": "https://localhost:8080/"
    },
    "id": "DH72-IU7KWtt",
    "outputId": "1b578a38-d9ce-41bb-c3d3-be270b6447b0",
    "pycharm": {
     "is_executing": false
    }
   },
   "execution_count": 298,
   "outputs": [
    {
     "data": {
      "text/plain": "Academic        115\nInformative      95\nAnalytical       60\nCasual           60\nDescriptive      50\nFor Kids         45\nHelpful          40\nMotivational     30\nExplainer         5\nDetailed          5\nName: Style, dtype: int64"
     },
     "metadata": {},
     "output_type": "execute_result",
     "execution_count": 298
    }
   ]
  },
  {
   "cell_type": "code",
   "source": [
    "fig = px.bar(DF, x='Style',\n",
    "             hover_data=['Style as per requested', 'Completeness', 'Clarity of the point', 'Length', 'Keywords usage', 'Word Count'], color='Word Count',\n",
    "             labels={'pop':'population of Canada'}, height=400)\n",
    "fig.show()"
   ],
   "metadata": {
    "colab": {
     "base_uri": "https://localhost:8080/",
     "height": 417
    },
    "id": "uh2tMa-hwhgs",
    "outputId": "3de1d48a-011d-4b69-ba2e-252108b378f5",
    "pycharm": {
     "is_executing": false
    }
   },
   "execution_count": 299,
   "outputs": [
    {
     "data": {
      "application/vnd.plotly.v1+json": {
       "data": [
        {
         "alignmentgroup": "True",
         "customdata": [
          [
           1.0,
           1.0,
           1.0,
           1.0,
           1.0,
           110.0
          ],
          [
           0.9,
           1.0,
           0.9,
           1.0,
           0.5,
           113.0
          ],
          [
           0.9,
           0.85,
           0.8,
           0.9,
           0.8,
           102.0
          ],
          [
           0.7,
           0.8,
           0.95,
           0.9,
           0.8,
           106.0
          ],
          [
           0.6,
           0.8,
           0.8,
           0.8,
           1.0,
           109.0
          ],
          [
           null,
           null,
           null,
           null,
           null,
           null
          ],
          [
           1.0,
           1.0,
           1.0,
           1.0,
           1.0,
           null
          ],
          [
           0.9,
           0.8,
           0.85,
           1.0,
           0.75,
           null
          ],
          [
           0.8,
           0.7,
           0.85,
           0.9,
           1.0,
           null
          ],
          [
           0.7,
           0.7,
           0.8,
           1.0,
           1.0,
           null
          ],
          [
           0.7,
           0.8,
           0.7,
           0.9,
           0.5,
           null
          ],
          [
           null,
           null,
           null,
           null,
           null,
           null
          ],
          [
           1.0,
           1.0,
           1.0,
           1.0,
           1.0,
           null
          ],
          [
           0.7,
           0.7,
           0.85,
           0.9,
           1.0,
           null
          ],
          [
           0.8,
           0.8,
           0.8,
           0.9,
           0.7,
           null
          ],
          [
           0.8,
           0.75,
           0.8,
           0.9,
           0.7,
           null
          ],
          [
           0.8,
           0.6,
           0.7,
           0.8,
           0.7,
           null
          ],
          [
           null,
           null,
           null,
           null,
           null,
           null
          ],
          [
           1.0,
           1.0,
           1.0,
           1.0,
           1.0,
           null
          ],
          [
           0.9,
           0.9,
           0.85,
           1.0,
           0.7,
           null
          ],
          [
           0.9,
           0.85,
           0.85,
           0.8,
           1.0,
           null
          ],
          [
           0.8,
           0.7,
           0.8,
           1.0,
           0.7,
           null
          ],
          [
           0.75,
           0.7,
           0.8,
           0.75,
           0.7,
           null
          ],
          [
           null,
           null,
           null,
           null,
           null,
           null
          ],
          [
           1.0,
           1.0,
           1.0,
           1.0,
           1.0,
           null
          ],
          [
           0.9,
           1.0,
           0.9,
           0.9,
           0.5,
           null
          ],
          [
           0.8,
           0.8,
           0.8,
           1.0,
           1.0,
           null
          ],
          [
           0.8,
           0.9,
           0.9,
           0.8,
           0.5,
           null
          ],
          [
           0.7,
           0.7,
           0.8,
           0.7,
           0.5,
           null
          ],
          [
           null,
           null,
           null,
           null,
           null,
           null
          ],
          [
           1.0,
           1.0,
           1.0,
           1.0,
           1.0,
           null
          ],
          [
           0.9,
           0.9,
           0.9,
           0.9,
           0.75,
           null
          ],
          [
           0.85,
           0.9,
           0.85,
           1.0,
           0.5,
           null
          ],
          [
           0.8,
           0.85,
           0.8,
           0.95,
           0.5,
           null
          ],
          [
           0.5,
           0.7,
           0.7,
           0.8,
           0.25,
           null
          ],
          [
           null,
           null,
           null,
           null,
           null,
           null
          ],
          [
           1.0,
           1.0,
           1.0,
           1.0,
           1.0,
           null
          ],
          [
           1.0,
           0.9,
           0.9,
           0.85,
           0.7,
           null
          ],
          [
           0.9,
           0.95,
           0.9,
           0.85,
           1.0,
           null
          ],
          [
           0.5,
           0.5,
           0.5,
           0.85,
           0.35,
           null
          ],
          [
           0.8,
           0.8,
           0.8,
           0.9,
           0.7,
           null
          ],
          [
           null,
           null,
           null,
           null,
           null,
           null
          ],
          [
           1.0,
           1.0,
           1.0,
           1.0,
           1.0,
           null
          ],
          [
           0.95,
           0.9,
           0.95,
           0.95,
           0.75,
           null
          ],
          [
           0.9,
           0.95,
           0.9,
           0.9,
           0.5,
           null
          ],
          [
           0.8,
           0.8,
           0.8,
           0.9,
           1.0,
           null
          ],
          [
           0.5,
           0.8,
           0.8,
           0.9,
           0.75,
           null
          ],
          [
           null,
           null,
           null,
           null,
           null,
           null
          ],
          [
           1.0,
           1.0,
           1.0,
           1.0,
           1.0,
           null
          ],
          [
           0.95,
           0.9,
           0.95,
           0.95,
           0.5,
           null
          ],
          [
           1.0,
           0.9,
           0.9,
           1.0,
           1.0,
           null
          ],
          [
           0.9,
           0.85,
           0.8,
           0.95,
           1.0,
           null
          ],
          [
           0.8,
           0.8,
           0.85,
           1.0,
           1.0,
           null
          ],
          [
           null,
           null,
           null,
           null,
           null,
           null
          ],
          [
           1.0,
           1.0,
           1.0,
           1.0,
           1.0,
           95.0
          ],
          [
           0.95,
           0.8,
           0.9,
           0.9,
           0.75,
           91.0
          ],
          [
           0.5,
           0.8,
           0.8,
           1.0,
           0.75,
           94.0
          ],
          [
           0.9,
           0.9,
           0.9,
           0.9,
           1.0,
           92.0
          ],
          [
           0.8,
           0.8,
           0.8,
           0.8,
           0.75,
           86.0
          ],
          [
           null,
           null,
           null,
           null,
           null,
           null
          ],
          [
           1.0,
           1.0,
           1.0,
           1.0,
           1.0,
           95.0
          ],
          [
           0.95,
           0.8,
           0.9,
           0.9,
           0.75,
           91.0
          ],
          [
           0.5,
           0.8,
           0.8,
           1.0,
           0.75,
           94.0
          ],
          [
           0.9,
           0.9,
           0.9,
           0.9,
           1.0,
           92.0
          ],
          [
           0.8,
           0.8,
           0.8,
           0.8,
           0.75,
           86.0
          ],
          [
           null,
           null,
           null,
           null,
           null,
           null
          ],
          [
           1.0,
           1.0,
           1.0,
           1.0,
           1.0,
           70.0
          ],
          [
           0.9,
           0.8,
           0.8,
           1.0,
           1.0,
           74.0
          ],
          [
           0.6,
           0.75,
           0.7,
           1.0,
           1.0,
           76.0
          ],
          [
           0.8,
           0.75,
           0.8,
           0.9,
           0.75,
           68.0
          ],
          [
           0.75,
           0.6,
           0.8,
           1.0,
           1.0,
           79.0
          ],
          [
           null,
           null,
           null,
           null,
           null,
           null
          ],
          [
           1.0,
           1.0,
           1.0,
           1.0,
           1.0,
           72.0
          ],
          [
           0.6,
           0.9,
           0.8,
           0.8,
           0.75,
           69.0
          ],
          [
           0.8,
           0.9,
           0.9,
           0.7,
           0.75,
           60.0
          ],
          [
           0.7,
           0.8,
           0.8,
           0.8,
           0.5,
           66.0
          ],
          [
           0.5,
           0.6,
           0.7,
           1.0,
           0.5,
           83.0
          ],
          [
           null,
           null,
           null,
           null,
           null,
           null
          ],
          [
           1.0,
           1.0,
           1.0,
           1.0,
           1.0,
           72.0
          ],
          [
           0.8,
           0.9,
           0.9,
           0.7,
           0.5,
           58.0
          ],
          [
           0.8,
           0.8,
           0.75,
           1.0,
           1.0,
           71.0
          ],
          [
           0.6,
           0.5,
           0.6,
           0.6,
           1.0,
           52.0
          ],
          [
           0.6,
           0.6,
           0.7,
           1.0,
           1.0,
           75.0
          ],
          [
           null,
           null,
           null,
           null,
           null,
           null
          ],
          [
           1.0,
           1.0,
           1.0,
           1.0,
           1.0,
           77.0
          ],
          [
           0.8,
           0.9,
           0.9,
           0.8,
           0.75,
           58.0
          ],
          [
           0.8,
           0.8,
           0.85,
           0.9,
           0.75,
           65.0
          ],
          [
           0.5,
           0.6,
           0.7,
           0.7,
           0.35,
           48.0
          ],
          [
           0.8,
           0.6,
           0.75,
           1.0,
           0.75,
           80.0
          ],
          [
           null,
           null,
           null,
           null,
           null,
           null
          ],
          [
           1.0,
           1.0,
           1.0,
           1.0,
           1.0,
           96.0
          ],
          [
           0.75,
           0.9,
           0.9,
           0.9,
           0.75,
           86.0
          ],
          [
           0.8,
           0.7,
           0.8,
           0.85,
           0.75,
           82.0
          ],
          [
           0.8,
           0.9,
           0.9,
           0.8,
           0.75,
           78.0
          ],
          [
           0.4,
           0.6,
           0.75,
           0.8,
           0.35,
           73.0
          ],
          [
           null,
           null,
           null,
           null,
           null,
           null
          ],
          [
           1.0,
           1.0,
           1.0,
           1.0,
           1.0,
           76.0
          ],
          [
           0.9,
           0.8,
           0.9,
           1.0,
           0.75,
           76.0
          ],
          [
           0.7,
           0.9,
           0.75,
           0.9,
           0.75,
           65.0
          ],
          [
           0.8,
           0.95,
           0.7,
           1.0,
           0.75,
           76.0
          ],
          [
           0.6,
           0.8,
           0.75,
           0.9,
           0.5,
           67.0
          ],
          [
           null,
           null,
           null,
           null,
           null,
           null
          ],
          [
           1.0,
           1.0,
           1.0,
           1.0,
           1.0,
           82.0
          ],
          [
           0.9,
           0.8,
           0.9,
           1.0,
           0.75,
           90.0
          ],
          [
           0.7,
           0.75,
           0.75,
           0.8,
           0.5,
           65.0
          ],
          [
           0.7,
           0.8,
           0.8,
           0.8,
           0.5,
           66.0
          ],
          [
           0.8,
           0.8,
           0.9,
           1.0,
           0.75,
           80.0
          ],
          [
           null,
           null,
           null,
           null,
           null,
           null
          ],
          [
           1.0,
           1.0,
           1.0,
           1.0,
           1.0,
           72.0
          ],
          [
           0.8,
           0.75,
           0.9,
           0.95,
           0.75,
           66.0
          ],
          [
           0.6,
           0.75,
           0.8,
           1.0,
           0.5,
           72.0
          ],
          [
           0.4,
           0.8,
           0.7,
           1.0,
           0.25,
           79.0
          ],
          [
           0.7,
           0.9,
           0.8,
           1.0,
           0.5,
           80.0
          ],
          [
           null,
           null,
           null,
           null,
           null,
           null
          ],
          [
           1.0,
           1.0,
           1.0,
           1.0,
           1.0,
           113.0
          ],
          [
           0.8,
           0.5,
           0.9,
           0.75,
           0.5,
           77.0
          ],
          [
           0.5,
           0.9,
           0.75,
           0.9,
           1.0,
           94.0
          ],
          [
           0.8,
           0.75,
           0.9,
           0.75,
           1.0,
           78.0
          ],
          [
           0.6,
           0.8,
           0.6,
           1.0,
           0.75,
           109.0
          ],
          [
           null,
           null,
           null,
           null,
           null,
           null
          ],
          [
           1.0,
           1.0,
           1.0,
           1.0,
           1.0,
           76.0
          ],
          [
           0.7,
           0.9,
           0.8,
           0.8,
           0.75,
           62.0
          ],
          [
           0.8,
           0.8,
           0.9,
           1.0,
           0.35,
           81.0
          ],
          [
           0.4,
           0.7,
           0.7,
           1.0,
           0.35,
           80.0
          ],
          [
           0.6,
           0.75,
           0.8,
           1.0,
           0.5,
           87.0
          ],
          [
           null,
           null,
           null,
           null,
           null,
           null
          ],
          [
           1.0,
           1.0,
           1.0,
           1.0,
           1.0,
           102.0
          ],
          [
           0.5,
           0.8,
           0.8,
           0.7,
           0.75,
           70.0
          ],
          [
           0.6,
           0.9,
           0.95,
           0.7,
           0.75,
           68.0
          ],
          [
           0.8,
           0.7,
           0.8,
           0.95,
           0.75,
           95.0
          ],
          [
           0.9,
           0.9,
           0.9,
           0.8,
           1.0,
           81.0
          ],
          [
           null,
           null,
           null,
           null,
           null,
           null
          ],
          [
           1.0,
           1.0,
           1.0,
           1.0,
           1.0,
           95.0
          ],
          [
           0.8,
           0.7,
           0.9,
           0.85,
           1.0,
           77.0
          ],
          [
           0.7,
           0.8,
           0.8,
           0.8,
           0.75,
           73.0
          ],
          [
           0.9,
           0.9,
           0.9,
           1.0,
           0.75,
           104.0
          ],
          [
           0.5,
           0.8,
           0.7,
           0.85,
           0.35,
           76.0
          ],
          [
           null,
           null,
           null,
           null,
           null,
           null
          ],
          [
           1.0,
           1.0,
           1.0,
           1.0,
           1.0,
           63.0
          ],
          [
           0.5,
           0.8,
           0.75,
           1.0,
           0.75,
           61.0
          ],
          [
           0.8,
           0.7,
           0.85,
           1.0,
           0.75,
           68.0
          ],
          [
           0.4,
           0.6,
           0.5,
           0.8,
           0.75,
           52.0
          ],
          [
           0.9,
           0.9,
           0.8,
           1.0,
           1.0,
           59.0
          ],
          [
           null,
           null,
           null,
           null,
           null,
           null
          ],
          [
           1.0,
           1.0,
           1.0,
           1.0,
           1.0,
           81.0
          ],
          [
           0.8,
           0.75,
           0.75,
           1.0,
           0.75,
           97.0
          ],
          [
           0.9,
           0.9,
           0.85,
           1.0,
           0.5,
           86.0
          ],
          [
           0.7,
           0.8,
           0.7,
           1.0,
           0.25,
           82.0
          ],
          [
           0.5,
           0.5,
           0.6,
           0.8,
           0.5,
           66.0
          ],
          [
           null,
           null,
           null,
           null,
           null,
           null
          ],
          [
           1.0,
           1.0,
           1.0,
           1.0,
           1.0,
           81.0
          ],
          [
           0.8,
           0.75,
           0.75,
           1.0,
           0.75,
           97.0
          ],
          [
           0.9,
           0.9,
           0.85,
           1.0,
           0.5,
           86.0
          ],
          [
           0.7,
           0.8,
           0.7,
           1.0,
           0.25,
           82.0
          ],
          [
           0.5,
           0.5,
           0.6,
           0.8,
           0.5,
           66.0
          ],
          [
           null,
           null,
           null,
           null,
           null,
           null
          ],
          [
           1.0,
           1.0,
           1.0,
           1.0,
           1.0,
           81.0
          ],
          [
           0.7,
           0.8,
           0.7,
           1.0,
           0.75,
           82.0
          ],
          [
           0.9,
           0.9,
           0.9,
           1.0,
           0.75,
           86.0
          ],
          [
           0.5,
           0.5,
           0.7,
           0.8,
           0.75,
           67.0
          ],
          [
           0.6,
           0.7,
           0.8,
           0.8,
           0.75,
           68.0
          ],
          [
           null,
           null,
           null,
           null,
           null,
           null
          ],
          [
           1.0,
           1.0,
           1.0,
           1.0,
           1.0,
           81.0
          ],
          [
           0.7,
           0.8,
           0.7,
           1.0,
           0.75,
           82.0
          ],
          [
           0.9,
           0.9,
           0.9,
           1.0,
           0.75,
           86.0
          ],
          [
           0.5,
           0.5,
           0.7,
           0.8,
           0.75,
           67.0
          ],
          [
           0.6,
           0.7,
           0.8,
           0.8,
           0.75,
           68.0
          ],
          [
           null,
           null,
           null,
           null,
           null,
           null
          ],
          [
           1.0,
           1.0,
           1.0,
           1.0,
           1.0,
           97.0
          ],
          [
           0.9,
           0.7,
           0.9,
           0.75,
           0.75,
           77.0
          ],
          [
           0.5,
           0.8,
           0.7,
           0.8,
           0.35,
           78.0
          ],
          [
           0.8,
           0.9,
           0.8,
           0.9,
           0.75,
           92.0
          ],
          [
           0.7,
           0.7,
           0.85,
           0.8,
           0.35,
           79.0
          ],
          [
           null,
           null,
           null,
           null,
           null,
           null
          ],
          [
           1.0,
           1.0,
           1.0,
           1.0,
           1.0,
           75.0
          ],
          [
           0.4,
           0.5,
           0.6,
           0.9,
           0.5,
           66.0
          ],
          [
           0.5,
           0.6,
           0.7,
           0.8,
           0.5,
           50.0
          ],
          [
           0.9,
           0.8,
           0.9,
           0.9,
           1.0,
           62.0
          ],
          [
           0.8,
           0.7,
           0.8,
           0.8,
           0.75,
           52.0
          ],
          [
           null,
           null,
           null,
           null,
           null,
           null
          ],
          [
           1.0,
           1.0,
           1.0,
           1.0,
           1.0,
           105.0
          ],
          [
           0.5,
           0.8,
           0.7,
           0.7,
           0.5,
           70.0
          ],
          [
           0.7,
           0.8,
           0.9,
           0.85,
           0.5,
           84.0
          ],
          [
           0.7,
           0.6,
           0.9,
           1.0,
           0.75,
           102.0
          ],
          [
           0.9,
           0.7,
           0.8,
           0.9,
           0.5,
           92.0
          ],
          [
           null,
           null,
           null,
           null,
           null,
           null
          ],
          [
           1.0,
           1.0,
           1.0,
           1.0,
           1.0,
           73.0
          ],
          [
           0.8,
           0.9,
           0.9,
           1.0,
           0.5,
           81.0
          ],
          [
           0.7,
           0.8,
           0.8,
           0.9,
           1.0,
           69.0
          ],
          [
           0.5,
           0.6,
           0.6,
           1.0,
           1.0,
           74.0
          ],
          [
           0.8,
           0.7,
           0.8,
           1.0,
           0.5,
           75.0
          ],
          [
           null,
           null,
           null,
           null,
           null,
           null
          ],
          [
           1.0,
           1.0,
           1.0,
           1.0,
           1.0,
           103.0
          ],
          [
           0.9,
           0.8,
           0.9,
           1.0,
           0.75,
           98.0
          ],
          [
           0.8,
           0.8,
           0.9,
           0.9,
           1.0,
           92.0
          ],
          [
           0.6,
           0.7,
           0.6,
           0.8,
           0.25,
           77.0
          ],
          [
           0.7,
           0.8,
           0.8,
           0.75,
           0.5,
           76.0
          ],
          [
           null,
           null,
           null,
           null,
           null,
           null
          ],
          [
           1.0,
           1.0,
           1.0,
           1.0,
           1.0,
           80.0
          ],
          [
           0.8,
           0.8,
           0.9,
           0.8,
           1.0,
           72.0
          ],
          [
           0.5,
           0.7,
           0.8,
           1.0,
           0.35,
           84.0
          ],
          [
           0.7,
           0.6,
           0.6,
           0.8,
           0.35,
           74.0
          ],
          [
           0.9,
           0.8,
           0.8,
           1.0,
           1.0,
           85.0
          ],
          [
           null,
           null,
           null,
           null,
           null,
           null
          ],
          [
           1.0,
           1.0,
           1.0,
           1.0,
           1.0,
           62.0
          ],
          [
           0.9,
           0.8,
           0.9,
           1.0,
           1.0,
           78.0
          ],
          [
           0.6,
           0.6,
           0.6,
           1.0,
           0.35,
           66.0
          ],
          [
           0.8,
           0.8,
           0.8,
           1.0,
           1.0,
           71.0
          ],
          [
           0.7,
           0.7,
           0.8,
           0.8,
           0.75,
           45.0
          ],
          [
           null,
           null,
           null,
           null,
           null,
           null
          ],
          [
           1.0,
           1.0,
           1.0,
           1.0,
           1.0,
           101.0
          ],
          [
           0.8,
           0.8,
           0.9,
           1.0,
           0.75,
           98.0
          ],
          [
           0.4,
           0.7,
           0.7,
           0.7,
           0.35,
           68.0
          ],
          [
           0.5,
           0.4,
           0.6,
           0.8,
           0.75,
           75.0
          ],
          [
           0.8,
           0.8,
           0.9,
           0.7,
           0.75,
           73.0
          ],
          [
           null,
           null,
           null,
           null,
           null,
           null
          ],
          [
           1.0,
           1.0,
           1.0,
           1.0,
           1.0,
           82.0
          ],
          [
           0.9,
           0.9,
           0.9,
           0.9,
           0.75,
           74.0
          ],
          [
           0.8,
           0.8,
           0.8,
           1.0,
           0.25,
           93.0
          ],
          [
           0.4,
           0.4,
           0.6,
           0.8,
           0.25,
           68.0
          ],
          [
           0.9,
           0.9,
           0.9,
           1.0,
           0.75,
           85.0
          ],
          [
           null,
           null,
           null,
           null,
           null,
           null
          ],
          [
           1.0,
           1.0,
           1.0,
           1.0,
           1.0,
           72.0
          ],
          [
           0.6,
           0.7,
           0.8,
           0.9,
           0.35,
           62.0
          ],
          [
           0.8,
           0.8,
           0.8,
           1.0,
           0.35,
           77.0
          ],
          [
           0.4,
           0.4,
           0.6,
           1.0,
           0.75,
           80.0
          ],
          [
           0.8,
           0.6,
           0.8,
           1.0,
           1.0,
           79.0
          ],
          [
           null,
           null,
           null,
           null,
           null,
           null
          ],
          [
           1.0,
           1.0,
           1.0,
           1.0,
           1.0,
           73.0
          ],
          [
           0.8,
           0.7,
           0.8,
           1.0,
           0.35,
           80.0
          ],
          [
           0.8,
           0.7,
           0.8,
           0.9,
           0.35,
           65.0
          ],
          [
           0.7,
           0.8,
           0.8,
           1.0,
           1.0,
           76.0
          ],
          [
           0.7,
           0.8,
           0.7,
           0.9,
           0.75,
           60.0
          ],
          [
           null,
           null,
           null,
           null,
           null,
           null
          ],
          [
           1.0,
           1.0,
           1.0,
           1.0,
           1.0,
           95.0
          ],
          [
           0.8,
           0.8,
           0.8,
           0.8,
           1.0,
           71.0
          ],
          [
           0.9,
           0.9,
           0.9,
           0.9,
           0.75,
           79.0
          ],
          [
           0.5,
           0.5,
           0.6,
           0.85,
           0.75,
           77.0
          ],
          [
           0.8,
           0.7,
           0.8,
           0.95,
           0.75,
           89.0
          ],
          [
           null,
           null,
           null,
           null,
           null,
           null
          ],
          [
           1.0,
           1.0,
           1.0,
           1.0,
           1.0,
           109.0
          ],
          [
           0.9,
           0.9,
           0.9,
           0.9,
           1.0,
           88.0
          ],
          [
           0.4,
           0.6,
           0.4,
           0.95,
           0.5,
           92.0
          ],
          [
           0.7,
           0.8,
           0.7,
           0.6,
           0.25,
           61.0
          ],
          [
           0.9,
           0.7,
           0.8,
           0.95,
           1.0,
           99.0
          ],
          [
           null,
           null,
           null,
           null,
           null,
           null
          ],
          [
           1.0,
           1.0,
           1.0,
           1.0,
           1.0,
           92.0
          ],
          [
           0.8,
           0.9,
           0.8,
           0.8,
           0.35,
           77.0
          ],
          [
           0.5,
           0.6,
           0.6,
           0.7,
           0.35,
           66.0
          ],
          [
           0.7,
           0.8,
           0.8,
           1.0,
           1.0,
           87.0
          ],
          [
           0.8,
           0.8,
           0.8,
           1.0,
           1.0,
           87.0
          ],
          [
           null,
           null,
           null,
           null,
           null,
           null
          ],
          [
           1.0,
           1.0,
           1.0,
           1.0,
           1.0,
           83.0
          ],
          [
           0.9,
           0.8,
           0.9,
           0.75,
           0.75,
           58.0
          ],
          [
           0.8,
           0.7,
           0.8,
           0.8,
           0.75,
           64.0
          ],
          [
           0.4,
           0.8,
           0.6,
           1.0,
           0.5,
           90.0
          ],
          [
           0.7,
           0.8,
           0.8,
           0.9,
           0.75,
           72.0
          ],
          [
           null,
           null,
           null,
           null,
           null,
           null
          ],
          [
           1.0,
           1.0,
           1.0,
           1.0,
           1.0,
           78.0
          ],
          [
           0.4,
           0.5,
           0.6,
           0.9,
           0.75,
           69.0
          ],
          [
           0.8,
           0.8,
           0.8,
           0.9,
           0.75,
           70.0
          ],
          [
           0.5,
           0.6,
           0.6,
           1.0,
           0.35,
           79.0
          ],
          [
           0.7,
           0.7,
           0.8,
           0.75,
           0.75,
           53.0
          ],
          [
           null,
           null,
           null,
           null,
           null,
           null
          ],
          [
           1.0,
           1.0,
           1.0,
           1.0,
           1.0,
           69.0
          ],
          [
           0.8,
           0.7,
           0.7,
           0.9,
           0.75,
           77.0
          ],
          [
           0.9,
           0.8,
           0.8,
           0.9,
           0.75,
           62.0
          ],
          [
           0.85,
           0.7,
           0.8,
           1.0,
           1.0,
           71.0
          ],
          [
           0.9,
           0.8,
           0.8,
           1.0,
           0.75,
           75.0
          ],
          [
           null,
           null,
           null,
           null,
           null,
           null
          ],
          [
           1.0,
           1.0,
           1.0,
           1.0,
           1.0,
           103.0
          ],
          [
           0.9,
           0.9,
           0.9,
           0.85,
           0.75,
           83.0
          ],
          [
           0.8,
           0.7,
           0.8,
           0.75,
           0.25,
           76.0
          ],
          [
           0.5,
           0.6,
           0.6,
           0.95,
           0.25,
           95.0
          ],
          [
           0.4,
           0.8,
           0.8,
           0.7,
           0.5,
           72.0
          ],
          [
           null,
           null,
           null,
           null,
           null,
           null
          ],
          [
           1.0,
           1.0,
           1.0,
           1.0,
           1.0,
           86.0
          ],
          [
           0.7,
           0.7,
           0.9,
           1.0,
           1.0,
           91.0
          ],
          [
           0.8,
           0.7,
           0.7,
           0.8,
           0.75,
           67.0
          ],
          [
           0.9,
           0.8,
           0.8,
           0.7,
           1.0,
           66.0
          ],
          [
           0.5,
           0.6,
           0.6,
           0.75,
           0.5,
           81.0
          ],
          [
           null,
           null,
           null,
           null,
           null,
           null
          ],
          [
           1.0,
           1.0,
           1.0,
           1.0,
           1.0,
           76.0
          ],
          [
           0.8,
           0.8,
           0.8,
           1.0,
           0.35,
           81.0
          ],
          [
           0.7,
           0.8,
           0.7,
           1.0,
           0.35,
           88.0
          ],
          [
           0.95,
           0.9,
           0.9,
           1.0,
           0.35,
           87.0
          ],
          [
           0.5,
           0.5,
           0.4,
           0.8,
           0.35,
           56.0
          ],
          [
           null,
           null,
           null,
           null,
           null,
           null
          ],
          [
           1.0,
           1.0,
           1.0,
           1.0,
           1.0,
           91.0
          ],
          [
           0.7,
           0.8,
           0.7,
           1.0,
           0.5,
           94.0
          ],
          [
           0.9,
           0.9,
           0.85,
           0.95,
           1.0,
           86.0
          ],
          [
           0.8,
           0.8,
           0.9,
           0.8,
           0.5,
           77.0
          ],
          [
           0.6,
           0.6,
           0.8,
           0.9,
           0.5,
           83.0
          ],
          [
           null,
           null,
           null,
           null,
           null,
           null
          ],
          [
           1.0,
           1.0,
           1.0,
           1.0,
           1.0,
           101.0
          ],
          [
           0.9,
           0.9,
           0.9,
           0.95,
           1.0,
           97.0
          ],
          [
           0.8,
           0.6,
           0.9,
           0.9,
           0.75,
           92.0
          ],
          [
           0.7,
           0.8,
           0.8,
           0.75,
           1.0,
           75.0
          ],
          [
           0.7,
           0.8,
           0.7,
           0.9,
           0.75,
           87.0
          ],
          [
           null,
           null,
           null,
           null,
           null,
           null
          ],
          [
           1.0,
           1.0,
           1.0,
           1.0,
           1.0,
           88.0
          ],
          [
           0.8,
           0.8,
           0.8,
           0.95,
           1.0,
           82.0
          ],
          [
           0.5,
           0.5,
           0.7,
           0.7,
           0.35,
           56.0
          ],
          [
           0.7,
           0.7,
           0.8,
           0.9,
           1.0,
           77.0
          ],
          [
           0.8,
           0.8,
           0.8,
           0.8,
           0.35,
           61.0
          ],
          [
           null,
           null,
           null,
           null,
           null,
           null
          ],
          [
           1.0,
           1.0,
           1.0,
           1.0,
           1.0,
           91.0
          ],
          [
           0.6,
           0.5,
           0.6,
           0.9,
           0.35,
           81.0
          ],
          [
           0.6,
           0.5,
           0.7,
           0.8,
           0.75,
           70.0
          ],
          [
           0.8,
           0.9,
           0.9,
           1.0,
           0.35,
           103.0
          ],
          [
           0.75,
           0.7,
           0.8,
           0.8,
           0.75,
           70.0
          ],
          [
           null,
           null,
           null,
           null,
           null,
           null
          ],
          [
           1.0,
           1.0,
           1.0,
           1.0,
           1.0,
           57.0
          ],
          [
           0.9,
           0.8,
           0.8,
           0.9,
           1.0,
           56.0
          ],
          [
           0.7,
           0.7,
           0.8,
           0.8,
           0.5,
           53.0
          ],
          [
           0.6,
           0.7,
           0.8,
           1.0,
           1.0,
           65.0
          ],
          [
           0.8,
           0.7,
           0.9,
           0.75,
           1.0,
           46.0
          ],
          [
           null,
           null,
           null,
           null,
           null,
           null
          ],
          [
           1.0,
           1.0,
           1.0,
           1.0,
           1.0,
           84.0
          ],
          [
           0.8,
           0.8,
           0.75,
           0.8,
           1.0,
           73.0
          ],
          [
           0.85,
           0.6,
           0.8,
           0.7,
           1.0,
           61.0
          ],
          [
           0.5,
           0.6,
           0.7,
           0.7,
           0.75,
           60.0
          ],
          [
           0.9,
           0.85,
           0.9,
           0.75,
           1.0,
           63.0
          ],
          [
           null,
           null,
           null,
           null,
           null,
           null
          ],
          [
           1.0,
           1.0,
           1.0,
           1.0,
           1.0,
           73.0
          ],
          [
           0.85,
           0.9,
           0.85,
           1.0,
           1.0,
           88.0
          ],
          [
           0.5,
           0.7,
           0.7,
           0.9,
           0.5,
           61.0
          ],
          [
           0.9,
           0.9,
           0.9,
           0.95,
           1.0,
           66.0
          ],
          [
           0.7,
           0.8,
           0.85,
           0.95,
           0.5,
           66.0
          ],
          [
           null,
           null,
           null,
           null,
           null,
           null
          ],
          [
           1.0,
           1.0,
           1.0,
           1.0,
           1.0,
           92.0
          ],
          [
           0.8,
           0.85,
           0.85,
           0.8,
           0.35,
           64.0
          ],
          [
           0.5,
           0.6,
           0.7,
           0.75,
           0.35,
           53.0
          ],
          [
           0.9,
           0.9,
           0.9,
           0.75,
           0.75,
           54.0
          ],
          [
           0.8,
           0.8,
           0.85,
           0.8,
           0.75,
           68.0
          ],
          [
           null,
           null,
           null,
           null,
           null,
           null
          ],
          [
           1.0,
           1.0,
           1.0,
           1.0,
           1.0,
           79.0
          ],
          [
           0.6,
           0.7,
           0.6,
           0.8,
           0.75,
           57.0
          ],
          [
           0.8,
           0.8,
           0.75,
           1.0,
           0.75,
           93.0
          ],
          [
           0.8,
           0.8,
           0.7,
           1.0,
           0.75,
           80.0
          ],
          [
           0.9,
           0.75,
           0.9,
           0.85,
           1.0,
           64.0
          ],
          [
           null,
           null,
           null,
           null,
           null,
           null
          ],
          [
           1.0,
           1.0,
           1.0,
           1.0,
           1.0,
           82.0
          ],
          [
           0.8,
           0.8,
           0.7,
           0.75,
           0.75,
           58.0
          ],
          [
           0.6,
           0.5,
           0.6,
           0.85,
           0.35,
           65.0
          ],
          [
           0.8,
           0.75,
           0.8,
           0.9,
           1.0,
           73.0
          ],
          [
           0.85,
           0.7,
           0.8,
           1.0,
           0.75,
           79.0
          ],
          [
           null,
           null,
           null,
           null,
           null,
           null
          ],
          [
           1.0,
           1.0,
           1.0,
           1.0,
           1.0,
           49.0
          ],
          [
           0.9,
           0.9,
           0.8,
           0.8,
           1.0,
           39.0
          ],
          [
           0.6,
           0.7,
           0.5,
           1.0,
           0.5,
           55.0
          ],
          [
           0.7,
           0.8,
           0.8,
           1.0,
           0.5,
           51.0
          ],
          [
           0.75,
           0.8,
           0.8,
           0.95,
           1.0,
           48.0
          ],
          [
           null,
           null,
           null,
           null,
           null,
           null
          ],
          [
           1.0,
           1.0,
           1.0,
           1.0,
           1.0,
           101.0
          ],
          [
           0.6,
           0.7,
           0.5,
           0.9,
           0.25,
           89.0
          ],
          [
           0.9,
           0.7,
           0.8,
           0.65,
           0.5,
           61.0
          ],
          [
           0.4,
           0.5,
           0.5,
           0.75,
           0.5,
           79.0
          ],
          [
           0.8,
           0.8,
           0.9,
           0.8,
           0.75,
           81.0
          ],
          [
           null,
           null,
           null,
           null,
           null,
           null
          ],
          [
           1.0,
           1.0,
           1.0,
           1.0,
           1.0,
           76.0
          ],
          [
           0.9,
           0.7,
           0.8,
           1.0,
           0.75,
           80.0
          ],
          [
           0.6,
           0.7,
           0.7,
           0.9,
           0.75,
           70.0
          ],
          [
           0.75,
           0.6,
           0.8,
           1.0,
           0.75,
           92.0
          ],
          [
           0.85,
           0.75,
           0.9,
           0.75,
           1.0,
           54.0
          ],
          [
           null,
           null,
           null,
           null,
           null,
           null
          ],
          [
           1.0,
           1.0,
           1.0,
           1.0,
           1.0,
           97.0
          ],
          [
           0.8,
           0.75,
           0.85,
           0.55,
           0.75,
           55.0
          ],
          [
           0.65,
           0.6,
           0.7,
           0.75,
           0.75,
           76.0
          ],
          [
           0.75,
           0.8,
           0.8,
           0.6,
           0.35,
           62.0
          ],
          [
           0.5,
           0.65,
           0.75,
           0.5,
           0.75,
           50.0
          ],
          [
           null,
           null,
           null,
           null,
           null,
           null
          ],
          [
           1.0,
           1.0,
           1.0,
           1.0,
           1.0,
           97.0
          ],
          [
           0.5,
           0.7,
           0.6,
           0.7,
           1.0,
           72.0
          ],
          [
           0.7,
           0.7,
           0.6,
           0.65,
           0.5,
           66.0
          ],
          [
           0.65,
           0.8,
           0.75,
           0.75,
           0.5,
           78.0
          ],
          [
           0.9,
           0.8,
           0.8,
           1.0,
           0.75,
           101.0
          ],
          [
           null,
           null,
           null,
           null,
           null,
           null
          ],
          [
           1.0,
           1.0,
           1.0,
           1.0,
           1.0,
           83.0
          ],
          [
           0.8,
           0.85,
           0.8,
           1.0,
           1.0,
           82.0
          ],
          [
           0.85,
           0.75,
           0.75,
           0.9,
           0.5,
           71.0
          ],
          [
           0.7,
           0.5,
           0.7,
           0.8,
           0.5,
           63.0
          ],
          [
           0.4,
           0.7,
           0.6,
           0.95,
           1.0,
           74.0
          ],
          [
           null,
           null,
           null,
           null,
           null,
           null
          ],
          [
           1.0,
           1.0,
           1.0,
           1.0,
           1.0,
           83.0
          ],
          [
           0.9,
           0.9,
           0.8,
           0.85,
           0.75,
           67.0
          ],
          [
           0.75,
           0.75,
           0.7,
           0.9,
           1.0,
           71.0
          ],
          [
           0.3,
           0.4,
           0.4,
           0.95,
           0.35,
           77.0
          ],
          [
           0.95,
           0.85,
           0.9,
           1.0,
           0.75,
           80.0
          ],
          [
           null,
           null,
           null,
           null,
           null,
           null
          ],
          [
           1.0,
           1.0,
           1.0,
           1.0,
           1.0,
           89.0
          ],
          [
           0.7,
           0.9,
           0.8,
           0.9,
           0.75,
           81.0
          ],
          [
           0.6,
           0.6,
           0.75,
           0.75,
           0.25,
           66.0
          ],
          [
           0.75,
           0.8,
           0.8,
           0.8,
           0.75,
           72.0
          ],
          [
           0.65,
           0.75,
           0.8,
           0.7,
           0.5,
           56.0
          ],
          [
           null,
           null,
           null,
           null,
           null,
           null
          ],
          [
           1.0,
           1.0,
           1.0,
           1.0,
           1.0,
           73.0
          ],
          [
           0.8,
           0.8,
           0.8,
           1.0,
           0.5,
           78.0
          ],
          [
           0.3,
           0.5,
           0.6,
           0.8,
           0.25,
           54.0
          ],
          [
           0.8,
           0.9,
           0.8,
           0.95,
           0.75,
           72.0
          ],
          [
           0.7,
           0.75,
           0.8,
           0.95,
           0.75,
           73.0
          ],
          [
           null,
           null,
           null,
           null,
           null,
           null
          ],
          [
           1.0,
           1.0,
           1.0,
           1.0,
           1.0,
           83.0
          ],
          [
           0.7,
           0.75,
           0.8,
           0.75,
           0.5,
           60.0
          ],
          [
           0.9,
           0.9,
           0.85,
           1.0,
           0.75,
           81.0
          ],
          [
           0.5,
           0.6,
           0.7,
           0.8,
           0.5,
           67.0
          ],
          [
           0.85,
           0.8,
           0.85,
           1.0,
           0.5,
           80.0
          ],
          [
           null,
           null,
           null,
           null,
           null,
           null
          ],
          [
           1.0,
           1.0,
           1.0,
           1.0,
           1.0,
           113.0
          ],
          [
           0.9,
           0.85,
           0.8,
           0.6,
           0.75,
           72.0
          ],
          [
           0.5,
           0.75,
           0.8,
           0.7,
           0.75,
           81.0
          ],
          [
           0.8,
           0.85,
           0.9,
           1.0,
           1.0,
           111.0
          ],
          [
           0.85,
           0.85,
           0.85,
           0.9,
           0.75,
           100.0
          ],
          [
           null,
           null,
           null,
           null,
           null,
           null
          ],
          [
           1.0,
           1.0,
           1.0,
           1.0,
           1.0,
           103.0
          ],
          [
           0.4,
           0.6,
           0.7,
           0.8,
           0.5,
           79.0
          ],
          [
           0.8,
           0.8,
           0.8,
           0.9,
           0.75,
           91.0
          ],
          [
           0.5,
           0.6,
           0.7,
           0.7,
           0.75,
           68.0
          ],
          [
           0.95,
           0.75,
           0.9,
           0.8,
           1.0,
           77.0
          ],
          [
           null,
           null,
           null,
           null,
           null,
           null
          ],
          [
           1.0,
           1.0,
           1.0,
           1.0,
           1.0,
           68.0
          ],
          [
           0.8,
           0.8,
           0.85,
           1.0,
           1.0,
           69.0
          ],
          [
           0.65,
           0.85,
           0.8,
           1.0,
           0.35,
           71.0
          ],
          [
           0.7,
           0.65,
           0.65,
           0.8,
           0.75,
           51.0
          ],
          [
           0.8,
           0.8,
           0.8,
           0.9,
           0.75,
           64.0
          ],
          [
           null,
           null,
           null,
           null,
           null,
           null
          ],
          [
           1.0,
           1.0,
           1.0,
           1.0,
           1.0,
           67.0
          ],
          [
           0.85,
           0.9,
           0.85,
           1.0,
           0.75,
           75.0
          ],
          [
           0.7,
           0.8,
           0.8,
           0.8,
           0.75,
           56.0
          ],
          [
           0.65,
           0.5,
           0.7,
           0.8,
           0.35,
           57.0
          ],
          [
           0.75,
           0.7,
           0.75,
           0.95,
           0.75,
           66.0
          ],
          [
           null,
           null,
           null,
           null,
           null,
           null
          ],
          [
           1.0,
           1.0,
           1.0,
           1.0,
           1.0,
           45.0
          ],
          [
           0.65,
           0.75,
           0.8,
           1.0,
           0.75,
           54.0
          ],
          [
           0.75,
           0.8,
           0.85,
           1.0,
           0.75,
           53.0
          ],
          [
           0.6,
           0.5,
           0.7,
           1.0,
           1.0,
           52.0
          ],
          [
           0.9,
           0.8,
           0.9,
           1.0,
           1.0,
           47.0
          ],
          [
           null,
           null,
           null,
           null,
           null,
           null
          ],
          [
           1.0,
           1.0,
           1.0,
           1.0,
           1.0,
           98.0
          ],
          [
           0.85,
           0.75,
           0.8,
           1.0,
           0.75,
           102.0
          ],
          [
           0.6,
           0.6,
           0.75,
           0.65,
           0.25,
           63.0
          ],
          [
           0.75,
           0.85,
           0.85,
           0.7,
           0.5,
           68.0
          ],
          [
           0.7,
           0.85,
           0.8,
           0.95,
           0.75,
           94.0
          ],
          [
           null,
           null,
           null,
           null,
           null,
           null
          ],
          [
           1.0,
           1.0,
           1.0,
           1.0,
           1.0,
           114.0
          ],
          [
           0.35,
           0.5,
           0.4,
           0.8,
           0.75,
           92.0
          ],
          [
           0.5,
           0.65,
           0.6,
           0.9,
           1.0,
           99.0
          ],
          [
           0.9,
           0.85,
           0.85,
           0.75,
           1.0,
           84.0
          ],
          [
           0.8,
           0.85,
           0.8,
           0.8,
           0.75,
           89.0
          ],
          [
           null,
           null,
           null,
           null,
           null,
           null
          ],
          [
           1.0,
           1.0,
           1.0,
           1.0,
           1.0,
           92.0
          ],
          [
           0.6,
           0.65,
           0.6,
           0.85,
           1.0,
           78.0
          ],
          [
           0.3,
           0.4,
           0.4,
           0.9,
           0.35,
           80.0
          ],
          [
           0.75,
           0.8,
           0.85,
           0.75,
           0.75,
           64.0
          ],
          [
           0.8,
           0.8,
           0.9,
           1.0,
           0.75,
           92.0
          ],
          [
           null,
           null,
           null,
           null,
           null,
           null
          ],
          [
           1.0,
           1.0,
           1.0,
           1.0,
           1.0,
           48.0
          ],
          [
           0.5,
           0.6,
           0.65,
           1.0,
           0.35,
           56.0
          ],
          [
           0.7,
           0.8,
           0.75,
           1.0,
           0.75,
           55.0
          ],
          [
           0.8,
           0.8,
           0.85,
           1.0,
           0.75,
           65.0
          ],
          [
           0.6,
           0.8,
           0.75,
           1.0,
           0.75,
           56.0
          ],
          [
           null,
           null,
           null,
           null,
           null,
           null
          ],
          [
           1.0,
           1.0,
           1.0,
           1.0,
           1.0,
           88.0
          ],
          [
           0.85,
           0.85,
           0.85,
           1.0,
           0.35,
           96.0
          ],
          [
           0.5,
           0.55,
           0.6,
           0.9,
           0.5,
           78.0
          ],
          [
           0.6,
           0.65,
           0.7,
           0.9,
           0.5,
           81.0
          ],
          [
           0.85,
           0.75,
           0.8,
           0.9,
           0.5,
           79.0
          ],
          [
           null,
           null,
           null,
           null,
           null,
           null
          ],
          [
           1.0,
           1.0,
           1.0,
           1.0,
           1.0,
           83.0
          ],
          [
           0.65,
           0.8,
           0.85,
           0.7,
           0.75,
           51.0
          ],
          [
           0.8,
           0.85,
           0.8,
           0.8,
           1.0,
           66.0
          ],
          [
           0.75,
           0.8,
           0.75,
           0.75,
           1.0,
           61.0
          ],
          [
           0.7,
           0.6,
           0.75,
           0.95,
           0.5,
           77.0
          ],
          [
           null,
           null,
           null,
           null,
           null,
           null
          ],
          [
           1.0,
           1.0,
           1.0,
           1.0,
           1.0,
           67.0
          ],
          [
           0.85,
           0.8,
           0.85,
           1.0,
           0.75,
           73.0
          ],
          [
           0.7,
           0.75,
           0.8,
           1.0,
           0.75,
           73.0
          ],
          [
           0.5,
           0.55,
           0.65,
           1.0,
           0.35,
           63.0
          ],
          [
           0.75,
           0.7,
           0.7,
           0.95,
           1.0,
           62.0
          ],
          [
           null,
           null,
           null,
           null,
           null,
           null
          ],
          [
           1.0,
           1.0,
           1.0,
           1.0,
           1.0,
           88.0
          ],
          [
           0.5,
           0.75,
           0.75,
           0.75,
           0.75,
           67.0
          ],
          [
           0.75,
           0.8,
           0.75,
           0.8,
           1.0,
           69.0
          ],
          [
           0.8,
           0.75,
           0.8,
           0.8,
           0.75,
           67.0
          ],
          [
           0.85,
           0.85,
           0.8,
           0.9,
           0.75,
           74.0
          ],
          [
           null,
           null,
           null,
           null,
           null,
           null
          ],
          [
           1.0,
           1.0,
           1.0,
           1.0,
           1.0,
           83.0
          ],
          [
           0.65,
           0.45,
           0.65,
           0.75,
           1.0,
           61.0
          ],
          [
           0.9,
           0.85,
           0.85,
           1.0,
           1.0,
           81.0
          ],
          [
           0.8,
           0.7,
           0.8,
           0.8,
           1.0,
           64.0
          ],
          [
           0.7,
           0.8,
           0.8,
           0.6,
           1.0,
           55.0
          ],
          [
           null,
           null,
           null,
           null,
           null,
           null
          ],
          [
           1.0,
           1.0,
           1.0,
           1.0,
           1.0,
           102.0
          ],
          [
           0.6,
           0.6,
           0.75,
           0.85,
           0.75,
           85.0
          ],
          [
           0.8,
           0.8,
           0.85,
           0.65,
           0.75,
           67.0
          ],
          [
           0.4,
           0.3,
           0.75,
           0.65,
           0.75,
           65.0
          ],
          [
           0.5,
           0.8,
           0.7,
           0.65,
           0.75,
           66.0
          ],
          [
           null,
           null,
           null,
           null,
           null,
           null
          ],
          [
           1.0,
           1.0,
           1.0,
           1.0,
           1.0,
           89.0
          ],
          [
           0.75,
           0.5,
           0.75,
           1.0,
           0.5,
           91.0
          ],
          [
           0.4,
           0.5,
           0.6,
           0.75,
           0.25,
           71.0
          ],
          [
           0.6,
           0.7,
           0.6,
           1.0,
           0.25,
           87.0
          ],
          [
           0.9,
           0.85,
           0.85,
           0.65,
           1.0,
           62.0
          ],
          [
           null,
           null,
           null,
           null,
           null,
           null
          ],
          [
           1.0,
           1.0,
           1.0,
           1.0,
           1.0,
           78.0
          ],
          [
           0.4,
           0.5,
           0.5,
           0.85,
           0.35,
           67.0
          ],
          [
           0.75,
           0.7,
           0.8,
           0.85,
           0.75,
           68.0
          ],
          [
           0.8,
           0.85,
           0.8,
           1.0,
           0.75,
           82.0
          ],
          [
           0.9,
           0.8,
           0.85,
           1.0,
           1.0,
           79.0
          ],
          [
           null,
           null,
           null,
           null,
           null,
           null
          ],
          [
           1.0,
           1.0,
           1.0,
           1.0,
           1.0,
           80.0
          ],
          [
           0.3,
           0.6,
           0.45,
           1.0,
           0.35,
           86.0
          ],
          [
           0.5,
           0.5,
           0.7,
           0.8,
           0.75,
           63.0
          ],
          [
           0.9,
           0.8,
           0.85,
           1.0,
           1.0,
           80.0
          ],
          [
           0.6,
           0.75,
           0.75,
           0.9,
           0.35,
           71.0
          ],
          [
           null,
           null,
           null,
           null,
           null,
           null
          ],
          [
           1.0,
           1.0,
           1.0,
           1.0,
           1.0,
           61.0
          ],
          [
           0.4,
           0.5,
           0.6,
           1.0,
           0.35,
           64.0
          ],
          [
           0.65,
           0.65,
           0.75,
           1.0,
           1.0,
           73.0
          ],
          [
           0.6,
           0.75,
           0.8,
           0.9,
           0.35,
           55.0
          ],
          [
           0.85,
           0.9,
           0.85,
           1.0,
           1.0,
           71.0
          ],
          [
           null,
           null,
           null,
           null,
           null,
           null
          ],
          [
           1.0,
           1.0,
           1.0,
           1.0,
           1.0,
           61.0
          ],
          [
           0.5,
           0.7,
           0.7,
           1.0,
           1.0,
           64.0
          ],
          [
           0.45,
           0.6,
           0.7,
           1.0,
           1.0,
           65.0
          ],
          [
           0.8,
           0.8,
           0.8,
           0.9,
           1.0,
           62.0
          ],
          [
           0.85,
           0.9,
           0.85,
           1.0,
           1.0,
           65.0
          ],
          [
           null,
           null,
           null,
           null,
           null,
           null
          ],
          [
           1.0,
           1.0,
           1.0,
           1.0,
           1.0,
           71.0
          ],
          [
           0.4,
           0.6,
           0.5,
           0.8,
           1.0,
           56.0
          ],
          [
           0.8,
           0.8,
           0.75,
           0.75,
           1.0,
           51.0
          ],
          [
           0.3,
           0.4,
           0.5,
           0.95,
           0.75,
           67.0
          ],
          [
           0.85,
           0.9,
           0.85,
           1.0,
           0.35,
           71.0
          ],
          [
           null,
           null,
           null,
           null,
           null,
           null
          ],
          [
           1.0,
           1.0,
           1.0,
           1.0,
           1.0,
           58.0
          ],
          [
           0.8,
           0.75,
           0.7,
           1.0,
           0.5,
           63.0
          ],
          [
           0.6,
           0.7,
           0.75,
           1.0,
           1.0,
           66.0
          ],
          [
           0.8,
           0.8,
           0.75,
           1.0,
           1.0,
           72.0
          ],
          [
           0.4,
           0.5,
           0.6,
           1.0,
           1.0,
           74.0
          ],
          [
           null,
           null,
           null,
           null,
           null,
           null
          ],
          [
           1.0,
           1.0,
           1.0,
           1.0,
           1.0,
           84.0
          ],
          [
           0.6,
           0.6,
           0.65,
           0.95,
           0.75,
           81.0
          ],
          [
           0.4,
           0.45,
           0.4,
           0.7,
           0.75,
           61.0
          ],
          [
           0.5,
           0.6,
           0.5,
           0.7,
           0.75,
           62.0
          ],
          [
           0.9,
           0.85,
           0.8,
           1.0,
           1.0,
           95.0
          ],
          [
           null,
           null,
           null,
           null,
           null,
           null
          ],
          [
           1.0,
           1.0,
           1.0,
           1.0,
           1.0,
           80.0
          ],
          [
           0.5,
           0.6,
           0.7,
           1.0,
           0.5,
           80.0
          ],
          [
           0.75,
           0.8,
           0.7,
           0.75,
           0.5,
           58.0
          ],
          [
           0.65,
           0.75,
           0.8,
           0.7,
           0.5,
           51.0
          ],
          [
           0.8,
           0.8,
           0.85,
           0.8,
           1.0,
           63.0
          ],
          [
           null,
           null,
           null,
           null,
           null,
           null
          ],
          [
           1.0,
           1.0,
           1.0,
           1.0,
           1.0,
           66.0
          ],
          [
           0.8,
           0.7,
           0.75,
           1.0,
           0.5,
           71.0
          ],
          [
           0.5,
           0.65,
           0.7,
           1.0,
           1.0,
           71.0
          ],
          [
           0.6,
           0.7,
           0.65,
           1.0,
           1.0,
           63.0
          ],
          [
           0.55,
           0.4,
           0.55,
           1.0,
           1.0,
           68.0
          ],
          [
           null,
           null,
           null,
           null,
           null,
           null
          ],
          [
           1.0,
           1.0,
           1.0,
           1.0,
           1.0,
           98.0
          ],
          [
           0.9,
           0.85,
           0.8,
           0.75,
           0.75,
           73.0
          ],
          [
           0.4,
           0.45,
           0.5,
           0.7,
           0.35,
           71.0
          ],
          [
           0.8,
           0.7,
           0.75,
           0.55,
           0.75,
           57.0
          ],
          [
           0.9,
           0.8,
           0.65,
           0.85,
           0.75,
           87.0
          ],
          [
           null,
           null,
           null,
           null,
           null,
           null
          ],
          [
           1.0,
           1.0,
           1.0,
           1.0,
           1.0,
           70.0
          ],
          [
           0.5,
           0.7,
           0.65,
           1.0,
           0.75,
           71.0
          ],
          [
           0.9,
           0.85,
           0.9,
           1.0,
           1.0,
           80.0
          ],
          [
           0.8,
           0.85,
           0.8,
           1.0,
           1.0,
           71.0
          ],
          [
           0.85,
           0.85,
           0.8,
           1.0,
           1.0,
           72.0
          ],
          [
           null,
           null,
           null,
           null,
           null,
           null
          ],
          [
           1.0,
           1.0,
           1.0,
           1.0,
           1.0,
           82.0
          ],
          [
           0.95,
           0.85,
           0.85,
           0.7,
           0.35,
           53.0
          ],
          [
           0.5,
           0.55,
           0.4,
           0.8,
           0.75,
           69.0
          ],
          [
           0.8,
           0.8,
           0.58,
           1.0,
           1.0,
           88.0
          ],
          [
           0.6,
           0.7,
           0.7,
           0.75,
           0.75,
           61.0
          ],
          [
           null,
           null,
           null,
           null,
           null,
           null
          ],
          [
           1.0,
           1.0,
           1.0,
           1.0,
           1.0,
           95.0
          ],
          [
           0.8,
           0.75,
           0.7,
           0.75,
           0.5,
           59.0
          ],
          [
           0.9,
           0.85,
           0.8,
           0.8,
           1.0,
           71.0
          ],
          [
           0.85,
           0.8,
           0.8,
           1.0,
           1.0,
           99.0
          ],
          [
           0.5,
           0.5,
           0.6,
           0.8,
           1.0,
           75.0
          ],
          [
           null,
           null,
           null,
           null,
           null,
           null
          ],
          [
           1.0,
           1.0,
           1.0,
           1.0,
           1.0,
           70.0
          ],
          [
           0.4,
           0.5,
           0.6,
           0.95,
           0.35,
           66.0
          ],
          [
           0.9,
           0.85,
           0.8,
           1.0,
           0.75,
           72.0
          ],
          [
           0.5,
           0.6,
           0.7,
           1.0,
           0.35,
           75.0
          ],
          [
           0.65,
           0.55,
           0.5,
           1.0,
           0.75,
           69.0
          ],
          [
           null,
           null,
           null,
           null,
           null,
           null
          ],
          [
           1.0,
           1.0,
           1.0,
           1.0,
           1.0,
           82.0
          ],
          [
           0.65,
           0.7,
           0.7,
           0.9,
           0.35,
           73.0
          ],
          [
           0.5,
           0.4,
           0.55,
           1.0,
           0.75,
           81.0
          ],
          [
           0.95,
           0.9,
           0.85,
           1.0,
           1.0,
           85.0
          ],
          [
           0.9,
           0.85,
           0.8,
           1.0,
           1.0,
           84.0
          ],
          [
           null,
           null,
           null,
           null,
           null,
           null
          ],
          [
           1.0,
           1.0,
           1.0,
           1.0,
           1.0,
           75.0
          ],
          [
           0.5,
           0.7,
           0.8,
           0.55,
           0.35,
           45.0
          ],
          [
           0.75,
           0.7,
           0.75,
           0.85,
           0.5,
           60.0
          ],
          [
           0.6,
           0.65,
           0.75,
           0.9,
           0.35,
           69.0
          ],
          [
           0.8,
           0.85,
           0.8,
           1.0,
           0.75,
           82.0
          ],
          [
           null,
           null,
           null,
           null,
           null,
           null
          ],
          [
           1.0,
           1.0,
           1.0,
           1.0,
           1.0,
           64.0
          ],
          [
           0.85,
           0.8,
           0.8,
           1.0,
           0.35,
           67.0
          ],
          [
           0.65,
           0.75,
           0.7,
           1.0,
           0.35,
           71.0
          ],
          [
           0.5,
           0.55,
           0.6,
           1.0,
           0.35,
           68.0
          ],
          [
           0.9,
           0.85,
           0.8,
           0.95,
           0.75,
           65.0
          ]
         ],
         "hovertemplate": "Style=%{x}<br>count=%{y}<br>Style as per requested=%{customdata[0]}<br>Completeness=%{customdata[1]}<br>Clarity of the point=%{customdata[2]}<br>Length=%{customdata[3]}<br>Keywords usage=%{customdata[4]}<br>Word Count=%{marker.color}<extra></extra>",
         "legendgroup": "",
         "marker": {
          "color": [
           110.0,
           113.0,
           102.0,
           106.0,
           109.0,
           null,
           null,
           null,
           null,
           null,
           null,
           null,
           null,
           null,
           null,
           null,
           null,
           null,
           null,
           null,
           null,
           null,
           null,
           null,
           null,
           null,
           null,
           null,
           null,
           null,
           null,
           null,
           null,
           null,
           null,
           null,
           null,
           null,
           null,
           null,
           null,
           null,
           null,
           null,
           null,
           null,
           null,
           null,
           null,
           null,
           null,
           null,
           null,
           null,
           95.0,
           91.0,
           94.0,
           92.0,
           86.0,
           null,
           95.0,
           91.0,
           94.0,
           92.0,
           86.0,
           null,
           70.0,
           74.0,
           76.0,
           68.0,
           79.0,
           null,
           72.0,
           69.0,
           60.0,
           66.0,
           83.0,
           null,
           72.0,
           58.0,
           71.0,
           52.0,
           75.0,
           null,
           77.0,
           58.0,
           65.0,
           48.0,
           80.0,
           null,
           96.0,
           86.0,
           82.0,
           78.0,
           73.0,
           null,
           76.0,
           76.0,
           65.0,
           76.0,
           67.0,
           null,
           82.0,
           90.0,
           65.0,
           66.0,
           80.0,
           null,
           72.0,
           66.0,
           72.0,
           79.0,
           80.0,
           null,
           113.0,
           77.0,
           94.0,
           78.0,
           109.0,
           null,
           76.0,
           62.0,
           81.0,
           80.0,
           87.0,
           null,
           102.0,
           70.0,
           68.0,
           95.0,
           81.0,
           null,
           95.0,
           77.0,
           73.0,
           104.0,
           76.0,
           null,
           63.0,
           61.0,
           68.0,
           52.0,
           59.0,
           null,
           81.0,
           97.0,
           86.0,
           82.0,
           66.0,
           null,
           81.0,
           97.0,
           86.0,
           82.0,
           66.0,
           null,
           81.0,
           82.0,
           86.0,
           67.0,
           68.0,
           null,
           81.0,
           82.0,
           86.0,
           67.0,
           68.0,
           null,
           97.0,
           77.0,
           78.0,
           92.0,
           79.0,
           null,
           75.0,
           66.0,
           50.0,
           62.0,
           52.0,
           null,
           105.0,
           70.0,
           84.0,
           102.0,
           92.0,
           null,
           73.0,
           81.0,
           69.0,
           74.0,
           75.0,
           null,
           103.0,
           98.0,
           92.0,
           77.0,
           76.0,
           null,
           80.0,
           72.0,
           84.0,
           74.0,
           85.0,
           null,
           62.0,
           78.0,
           66.0,
           71.0,
           45.0,
           null,
           101.0,
           98.0,
           68.0,
           75.0,
           73.0,
           null,
           82.0,
           74.0,
           93.0,
           68.0,
           85.0,
           null,
           72.0,
           62.0,
           77.0,
           80.0,
           79.0,
           null,
           73.0,
           80.0,
           65.0,
           76.0,
           60.0,
           null,
           95.0,
           71.0,
           79.0,
           77.0,
           89.0,
           null,
           109.0,
           88.0,
           92.0,
           61.0,
           99.0,
           null,
           92.0,
           77.0,
           66.0,
           87.0,
           87.0,
           null,
           83.0,
           58.0,
           64.0,
           90.0,
           72.0,
           null,
           78.0,
           69.0,
           70.0,
           79.0,
           53.0,
           null,
           69.0,
           77.0,
           62.0,
           71.0,
           75.0,
           null,
           103.0,
           83.0,
           76.0,
           95.0,
           72.0,
           null,
           86.0,
           91.0,
           67.0,
           66.0,
           81.0,
           null,
           76.0,
           81.0,
           88.0,
           87.0,
           56.0,
           null,
           91.0,
           94.0,
           86.0,
           77.0,
           83.0,
           null,
           101.0,
           97.0,
           92.0,
           75.0,
           87.0,
           null,
           88.0,
           82.0,
           56.0,
           77.0,
           61.0,
           null,
           91.0,
           81.0,
           70.0,
           103.0,
           70.0,
           null,
           57.0,
           56.0,
           53.0,
           65.0,
           46.0,
           null,
           84.0,
           73.0,
           61.0,
           60.0,
           63.0,
           null,
           73.0,
           88.0,
           61.0,
           66.0,
           66.0,
           null,
           92.0,
           64.0,
           53.0,
           54.0,
           68.0,
           null,
           79.0,
           57.0,
           93.0,
           80.0,
           64.0,
           null,
           82.0,
           58.0,
           65.0,
           73.0,
           79.0,
           null,
           49.0,
           39.0,
           55.0,
           51.0,
           48.0,
           null,
           101.0,
           89.0,
           61.0,
           79.0,
           81.0,
           null,
           76.0,
           80.0,
           70.0,
           92.0,
           54.0,
           null,
           97.0,
           55.0,
           76.0,
           62.0,
           50.0,
           null,
           97.0,
           72.0,
           66.0,
           78.0,
           101.0,
           null,
           83.0,
           82.0,
           71.0,
           63.0,
           74.0,
           null,
           83.0,
           67.0,
           71.0,
           77.0,
           80.0,
           null,
           89.0,
           81.0,
           66.0,
           72.0,
           56.0,
           null,
           73.0,
           78.0,
           54.0,
           72.0,
           73.0,
           null,
           83.0,
           60.0,
           81.0,
           67.0,
           80.0,
           null,
           113.0,
           72.0,
           81.0,
           111.0,
           100.0,
           null,
           103.0,
           79.0,
           91.0,
           68.0,
           77.0,
           null,
           68.0,
           69.0,
           71.0,
           51.0,
           64.0,
           null,
           67.0,
           75.0,
           56.0,
           57.0,
           66.0,
           null,
           45.0,
           54.0,
           53.0,
           52.0,
           47.0,
           null,
           98.0,
           102.0,
           63.0,
           68.0,
           94.0,
           null,
           114.0,
           92.0,
           99.0,
           84.0,
           89.0,
           null,
           92.0,
           78.0,
           80.0,
           64.0,
           92.0,
           null,
           48.0,
           56.0,
           55.0,
           65.0,
           56.0,
           null,
           88.0,
           96.0,
           78.0,
           81.0,
           79.0,
           null,
           83.0,
           51.0,
           66.0,
           61.0,
           77.0,
           null,
           67.0,
           73.0,
           73.0,
           63.0,
           62.0,
           null,
           88.0,
           67.0,
           69.0,
           67.0,
           74.0,
           null,
           83.0,
           61.0,
           81.0,
           64.0,
           55.0,
           null,
           102.0,
           85.0,
           67.0,
           65.0,
           66.0,
           null,
           89.0,
           91.0,
           71.0,
           87.0,
           62.0,
           null,
           78.0,
           67.0,
           68.0,
           82.0,
           79.0,
           null,
           80.0,
           86.0,
           63.0,
           80.0,
           71.0,
           null,
           61.0,
           64.0,
           73.0,
           55.0,
           71.0,
           null,
           61.0,
           64.0,
           65.0,
           62.0,
           65.0,
           null,
           71.0,
           56.0,
           51.0,
           67.0,
           71.0,
           null,
           58.0,
           63.0,
           66.0,
           72.0,
           74.0,
           null,
           84.0,
           81.0,
           61.0,
           62.0,
           95.0,
           null,
           80.0,
           80.0,
           58.0,
           51.0,
           63.0,
           null,
           66.0,
           71.0,
           71.0,
           63.0,
           68.0,
           null,
           98.0,
           73.0,
           71.0,
           57.0,
           87.0,
           null,
           70.0,
           71.0,
           80.0,
           71.0,
           72.0,
           null,
           82.0,
           53.0,
           69.0,
           88.0,
           61.0,
           null,
           95.0,
           59.0,
           71.0,
           99.0,
           75.0,
           null,
           70.0,
           66.0,
           72.0,
           75.0,
           69.0,
           null,
           82.0,
           73.0,
           81.0,
           85.0,
           84.0,
           null,
           75.0,
           45.0,
           60.0,
           69.0,
           82.0,
           null,
           64.0,
           67.0,
           71.0,
           68.0,
           65.0
          ],
          "coloraxis": "coloraxis",
          "pattern": {
           "shape": ""
          }
         },
         "name": "",
         "offsetgroup": "",
         "orientation": "v",
         "showlegend": false,
         "textposition": "auto",
         "x": [
          "Academic",
          "Academic",
          "Academic",
          "Academic",
          "Academic",
          null,
          "For Kids",
          "For Kids",
          "For Kids",
          "For Kids",
          "For Kids",
          null,
          "Analytical",
          "Analytical",
          "Analytical",
          "Analytical",
          "Analytical",
          null,
          "Explainer",
          "Explainer",
          "Explainer",
          "Explainer",
          "Explainer",
          null,
          "Academic",
          "Academic",
          "Academic",
          "Academic",
          "Academic",
          null,
          "Informative",
          "Informative",
          "Informative",
          "Informative",
          "Informative",
          null,
          "Analytical",
          "Analytical",
          "Analytical",
          "Analytical",
          "Analytical",
          null,
          "Informative",
          "Informative",
          "Informative",
          "Informative",
          "Informative",
          null,
          "Casual",
          "Casual",
          "Casual",
          "Casual",
          "Casual",
          null,
          "Informative",
          "Informative",
          "Informative",
          "Informative",
          "Informative",
          null,
          "Informative",
          "Informative",
          "Informative",
          "Informative",
          "Informative",
          null,
          "Detailed",
          "Detailed",
          "Detailed",
          "Detailed",
          "Detailed",
          null,
          "Analytical",
          "Analytical",
          "Analytical",
          "Analytical",
          "Analytical",
          null,
          "Casual",
          "Casual",
          "Casual",
          "Casual",
          "Casual",
          null,
          "Academic",
          "Academic",
          "Academic",
          "Academic",
          "Academic",
          null,
          "Casual",
          "Casual",
          "Casual",
          "Casual",
          "Casual",
          null,
          "Analytical",
          "Analytical",
          "Analytical",
          "Analytical",
          "Analytical",
          null,
          "Informative",
          "Informative",
          "Informative",
          "Informative",
          "Informative",
          null,
          "Analytical",
          "Analytical",
          "Analytical",
          "Analytical",
          "Analytical",
          null,
          "Informative",
          "Informative",
          "Informative",
          "Informative",
          "Informative",
          null,
          "Casual",
          "Casual",
          "Casual",
          "Casual",
          "Casual",
          null,
          "Informative",
          "Informative",
          "Informative",
          "Informative",
          "Informative",
          null,
          "Academic",
          "Academic",
          "Academic",
          "Academic",
          "Academic",
          null,
          "Informative",
          "Informative",
          "Informative",
          "Informative",
          "Informative",
          null,
          "Academic",
          "Academic",
          "Academic",
          "Academic",
          "Academic",
          null,
          "Academic",
          "Academic",
          "Academic",
          "Academic",
          "Academic",
          null,
          "Informative",
          "Informative",
          "Informative",
          "Informative",
          "Informative",
          null,
          "Informative",
          "Informative",
          "Informative",
          "Informative",
          "Informative",
          null,
          "Academic",
          "Academic",
          "Academic",
          "Academic",
          "Academic",
          null,
          "For Kids",
          "For Kids",
          "For Kids",
          "For Kids",
          "For Kids",
          null,
          "Academic",
          "Academic",
          "Academic",
          "Academic",
          "Academic",
          null,
          "Casual",
          "Casual",
          "Casual",
          "Casual",
          "Casual",
          null,
          "Academic",
          "Academic",
          "Academic",
          "Academic",
          "Academic",
          null,
          "Descriptive",
          "Descriptive",
          "Descriptive",
          "Descriptive",
          "Descriptive",
          null,
          "For Kids",
          "For Kids",
          "For Kids",
          "For Kids",
          "For Kids",
          null,
          "Informative",
          "Informative",
          "Informative",
          "Informative",
          "Informative",
          null,
          "Academic",
          "Academic",
          "Academic",
          "Academic",
          "Academic",
          null,
          "For Kids",
          "For Kids",
          "For Kids",
          "For Kids",
          "For Kids",
          null,
          "Casual",
          "Casual",
          "Casual",
          "Casual",
          "Casual",
          null,
          "Descriptive",
          "Descriptive",
          "Descriptive",
          "Descriptive",
          "Descriptive",
          null,
          "Informative",
          "Informative",
          "Informative",
          "Informative",
          "Informative",
          null,
          "For Kids",
          "For Kids",
          "For Kids",
          "For Kids",
          "For Kids",
          null,
          "Academic",
          "Academic",
          "Academic",
          "Academic",
          "Academic",
          null,
          "Casual",
          "Casual",
          "Casual",
          "Casual",
          "Casual",
          null,
          "Informative",
          "Informative",
          "Informative",
          "Informative",
          "Informative",
          null,
          "Descriptive",
          "Descriptive",
          "Descriptive",
          "Descriptive",
          "Descriptive",
          null,
          "For Kids",
          "For Kids",
          "For Kids",
          "For Kids",
          "For Kids",
          null,
          "Analytical",
          "Analytical",
          "Analytical",
          "Analytical",
          "Analytical",
          null,
          "Helpful",
          "Helpful",
          "Helpful",
          "Helpful",
          "Helpful",
          null,
          "Academic",
          "Academic",
          "Academic",
          "Academic",
          "Academic",
          null,
          "Descriptive",
          "Descriptive",
          "Descriptive",
          "Descriptive",
          "Descriptive",
          null,
          "Analytical",
          "Analytical",
          "Analytical",
          "Analytical",
          "Analytical",
          null,
          "For Kids",
          "For Kids",
          "For Kids",
          "For Kids",
          "For Kids",
          null,
          "Academic",
          "Academic",
          "Academic",
          "Academic",
          "Academic",
          null,
          "Helpful",
          "Helpful",
          "Helpful",
          "Helpful",
          "Helpful",
          null,
          "Descriptive",
          "Descriptive",
          "Descriptive",
          "Descriptive",
          "Descriptive",
          null,
          "Analytical",
          "Analytical",
          "Analytical",
          "Analytical",
          "Analytical",
          null,
          "Motivational",
          "Motivational",
          "Motivational",
          "Motivational",
          "Motivational",
          null,
          "For Kids",
          "For Kids",
          "For Kids",
          "For Kids",
          "For Kids",
          null,
          "Academic",
          "Academic",
          "Academic",
          "Academic",
          "Academic",
          null,
          "Helpful",
          "Helpful",
          "Helpful",
          "Helpful",
          "Helpful",
          null,
          "Informative",
          "Informative",
          "Informative",
          "Informative",
          "Informative",
          null,
          "Analytical",
          "Analytical",
          "Analytical",
          "Analytical",
          "Analytical",
          null,
          "Casual",
          "Casual",
          "Casual",
          "Casual",
          "Casual",
          null,
          "Academic",
          "Academic",
          "Academic",
          "Academic",
          "Academic",
          null,
          "Motivational",
          "Motivational",
          "Motivational",
          "Motivational",
          "Motivational",
          null,
          "Descriptive",
          "Descriptive",
          "Descriptive",
          "Descriptive",
          "Descriptive",
          null,
          "Analytical",
          "Analytical",
          "Analytical",
          "Analytical",
          "Analytical",
          null,
          "Informative",
          "Informative",
          "Informative",
          "Informative",
          "Informative",
          null,
          "Academic",
          "Academic",
          "Academic",
          "Academic",
          "Academic",
          null,
          "Motivational",
          "Motivational",
          "Motivational",
          "Motivational",
          "Motivational",
          null,
          "Casual",
          "Casual",
          "Casual",
          "Casual",
          "Casual",
          null,
          "For Kids",
          "For Kids",
          "For Kids",
          "For Kids",
          "For Kids",
          null,
          "Academic",
          "Academic",
          "Academic",
          "Academic",
          "Academic",
          null,
          "Informative",
          "Informative",
          "Informative",
          "Informative",
          "Informative",
          null,
          "Helpful",
          "Helpful",
          "Helpful",
          "Helpful",
          "Helpful",
          null,
          "Descriptive",
          "Descriptive",
          "Descriptive",
          "Descriptive",
          "Descriptive",
          null,
          "Academic",
          "Academic",
          "Academic",
          "Academic",
          "Academic",
          null,
          "Casual",
          "Casual",
          "Casual",
          "Casual",
          "Casual",
          null,
          "Motivational",
          "Motivational",
          "Motivational",
          "Motivational",
          "Motivational",
          null,
          "Academic",
          "Academic",
          "Academic",
          "Academic",
          "Academic",
          null,
          "Informative",
          "Informative",
          "Informative",
          "Informative",
          "Informative",
          null,
          "Helpful",
          "Helpful",
          "Helpful",
          "Helpful",
          "Helpful",
          null,
          "Descriptive",
          "Descriptive",
          "Descriptive",
          "Descriptive",
          "Descriptive",
          null,
          "Academic",
          "Academic",
          "Academic",
          "Academic",
          "Academic",
          null,
          "Helpful",
          "Helpful",
          "Helpful",
          "Helpful",
          "Helpful",
          null,
          "Casual",
          "Casual",
          "Casual",
          "Casual",
          "Casual",
          null,
          "Motivational",
          "Motivational",
          "Motivational",
          "Motivational",
          "Motivational",
          null,
          "Academic",
          "Academic",
          "Academic",
          "Academic",
          "Academic",
          null,
          "Informative",
          "Informative",
          "Informative",
          "Informative",
          "Informative",
          null,
          "Analytical",
          "Analytical",
          "Analytical",
          "Analytical",
          "Analytical",
          null,
          "Helpful",
          "Helpful",
          "Helpful",
          "Helpful",
          "Helpful",
          null,
          "Descriptive",
          "Descriptive",
          "Descriptive",
          "Descriptive",
          "Descriptive",
          null,
          "Academic",
          "Academic",
          "Academic",
          "Academic",
          "Academic",
          null,
          "Informative",
          "Informative",
          "Informative",
          "Informative",
          "Informative",
          null,
          "Motivational",
          "Motivational",
          "Motivational",
          "Motivational",
          "Motivational",
          null,
          "Analytical",
          "Analytical",
          "Analytical",
          "Analytical",
          "Analytical",
          null,
          "Helpful",
          "Helpful",
          "Helpful",
          "Helpful",
          "Helpful",
          null,
          "Descriptive",
          "Descriptive",
          "Descriptive",
          "Descriptive",
          "Descriptive",
          null,
          "Casual",
          "Casual",
          "Casual",
          "Casual",
          "Casual",
          null,
          "Academic",
          "Academic",
          "Academic",
          "Academic",
          "Academic"
         ],
         "xaxis": "x",
         "y": [
          1,
          1,
          1,
          1,
          1,
          1,
          1,
          1,
          1,
          1,
          1,
          1,
          1,
          1,
          1,
          1,
          1,
          1,
          1,
          1,
          1,
          1,
          1,
          1,
          1,
          1,
          1,
          1,
          1,
          1,
          1,
          1,
          1,
          1,
          1,
          1,
          1,
          1,
          1,
          1,
          1,
          1,
          1,
          1,
          1,
          1,
          1,
          1,
          1,
          1,
          1,
          1,
          1,
          1,
          1,
          1,
          1,
          1,
          1,
          1,
          1,
          1,
          1,
          1,
          1,
          1,
          1,
          1,
          1,
          1,
          1,
          1,
          1,
          1,
          1,
          1,
          1,
          1,
          1,
          1,
          1,
          1,
          1,
          1,
          1,
          1,
          1,
          1,
          1,
          1,
          1,
          1,
          1,
          1,
          1,
          1,
          1,
          1,
          1,
          1,
          1,
          1,
          1,
          1,
          1,
          1,
          1,
          1,
          1,
          1,
          1,
          1,
          1,
          1,
          1,
          1,
          1,
          1,
          1,
          1,
          1,
          1,
          1,
          1,
          1,
          1,
          1,
          1,
          1,
          1,
          1,
          1,
          1,
          1,
          1,
          1,
          1,
          1,
          1,
          1,
          1,
          1,
          1,
          1,
          1,
          1,
          1,
          1,
          1,
          1,
          1,
          1,
          1,
          1,
          1,
          1,
          1,
          1,
          1,
          1,
          1,
          1,
          1,
          1,
          1,
          1,
          1,
          1,
          1,
          1,
          1,
          1,
          1,
          1,
          1,
          1,
          1,
          1,
          1,
          1,
          1,
          1,
          1,
          1,
          1,
          1,
          1,
          1,
          1,
          1,
          1,
          1,
          1,
          1,
          1,
          1,
          1,
          1,
          1,
          1,
          1,
          1,
          1,
          1,
          1,
          1,
          1,
          1,
          1,
          1,
          1,
          1,
          1,
          1,
          1,
          1,
          1,
          1,
          1,
          1,
          1,
          1,
          1,
          1,
          1,
          1,
          1,
          1,
          1,
          1,
          1,
          1,
          1,
          1,
          1,
          1,
          1,
          1,
          1,
          1,
          1,
          1,
          1,
          1,
          1,
          1,
          1,
          1,
          1,
          1,
          1,
          1,
          1,
          1,
          1,
          1,
          1,
          1,
          1,
          1,
          1,
          1,
          1,
          1,
          1,
          1,
          1,
          1,
          1,
          1,
          1,
          1,
          1,
          1,
          1,
          1,
          1,
          1,
          1,
          1,
          1,
          1,
          1,
          1,
          1,
          1,
          1,
          1,
          1,
          1,
          1,
          1,
          1,
          1,
          1,
          1,
          1,
          1,
          1,
          1,
          1,
          1,
          1,
          1,
          1,
          1,
          1,
          1,
          1,
          1,
          1,
          1,
          1,
          1,
          1,
          1,
          1,
          1,
          1,
          1,
          1,
          1,
          1,
          1,
          1,
          1,
          1,
          1,
          1,
          1,
          1,
          1,
          1,
          1,
          1,
          1,
          1,
          1,
          1,
          1,
          1,
          1,
          1,
          1,
          1,
          1,
          1,
          1,
          1,
          1,
          1,
          1,
          1,
          1,
          1,
          1,
          1,
          1,
          1,
          1,
          1,
          1,
          1,
          1,
          1,
          1,
          1,
          1,
          1,
          1,
          1,
          1,
          1,
          1,
          1,
          1,
          1,
          1,
          1,
          1,
          1,
          1,
          1,
          1,
          1,
          1,
          1,
          1,
          1,
          1,
          1,
          1,
          1,
          1,
          1,
          1,
          1,
          1,
          1,
          1,
          1,
          1,
          1,
          1,
          1,
          1,
          1,
          1,
          1,
          1,
          1,
          1,
          1,
          1,
          1,
          1,
          1,
          1,
          1,
          1,
          1,
          1,
          1,
          1,
          1,
          1,
          1,
          1,
          1,
          1,
          1,
          1,
          1,
          1,
          1,
          1,
          1,
          1,
          1,
          1,
          1,
          1,
          1,
          1,
          1,
          1,
          1,
          1,
          1,
          1,
          1,
          1,
          1,
          1,
          1,
          1,
          1,
          1,
          1,
          1,
          1,
          1,
          1,
          1,
          1,
          1,
          1,
          1,
          1,
          1,
          1,
          1,
          1,
          1,
          1,
          1,
          1,
          1,
          1,
          1,
          1,
          1,
          1,
          1,
          1,
          1,
          1,
          1,
          1,
          1,
          1,
          1,
          1,
          1,
          1,
          1,
          1,
          1,
          1,
          1,
          1,
          1,
          1,
          1,
          1,
          1,
          1,
          1,
          1,
          1,
          1,
          1,
          1,
          1,
          1,
          1,
          1,
          1,
          1,
          1,
          1,
          1,
          1,
          1,
          1,
          1,
          1,
          1,
          1,
          1,
          1,
          1,
          1,
          1,
          1,
          1,
          1,
          1,
          1,
          1,
          1,
          1,
          1,
          1,
          1,
          1,
          1,
          1,
          1,
          1,
          1,
          1,
          1,
          1,
          1,
          1,
          1,
          1,
          1,
          1,
          1,
          1,
          1,
          1,
          1,
          1,
          1,
          1,
          1,
          1,
          1,
          1,
          1,
          1,
          1,
          1,
          1,
          1,
          1,
          1,
          1,
          1,
          1,
          1,
          1,
          1,
          1,
          1,
          1,
          1,
          1,
          1,
          1,
          1,
          1,
          1,
          1,
          1,
          1,
          1,
          1,
          1,
          1,
          1,
          1
         ],
         "yaxis": "y",
         "type": "bar"
        }
       ],
       "layout": {
        "template": {
         "data": {
          "histogram2dcontour": [
           {
            "type": "histogram2dcontour",
            "colorbar": {
             "outlinewidth": 0,
             "ticks": ""
            },
            "colorscale": [
             [
              0.0,
              "#0d0887"
             ],
             [
              0.1111111111111111,
              "#46039f"
             ],
             [
              0.2222222222222222,
              "#7201a8"
             ],
             [
              0.3333333333333333,
              "#9c179e"
             ],
             [
              0.4444444444444444,
              "#bd3786"
             ],
             [
              0.5555555555555556,
              "#d8576b"
             ],
             [
              0.6666666666666666,
              "#ed7953"
             ],
             [
              0.7777777777777778,
              "#fb9f3a"
             ],
             [
              0.8888888888888888,
              "#fdca26"
             ],
             [
              1.0,
              "#f0f921"
             ]
            ]
           }
          ],
          "choropleth": [
           {
            "type": "choropleth",
            "colorbar": {
             "outlinewidth": 0,
             "ticks": ""
            }
           }
          ],
          "histogram2d": [
           {
            "type": "histogram2d",
            "colorbar": {
             "outlinewidth": 0,
             "ticks": ""
            },
            "colorscale": [
             [
              0.0,
              "#0d0887"
             ],
             [
              0.1111111111111111,
              "#46039f"
             ],
             [
              0.2222222222222222,
              "#7201a8"
             ],
             [
              0.3333333333333333,
              "#9c179e"
             ],
             [
              0.4444444444444444,
              "#bd3786"
             ],
             [
              0.5555555555555556,
              "#d8576b"
             ],
             [
              0.6666666666666666,
              "#ed7953"
             ],
             [
              0.7777777777777778,
              "#fb9f3a"
             ],
             [
              0.8888888888888888,
              "#fdca26"
             ],
             [
              1.0,
              "#f0f921"
             ]
            ]
           }
          ],
          "heatmap": [
           {
            "type": "heatmap",
            "colorbar": {
             "outlinewidth": 0,
             "ticks": ""
            },
            "colorscale": [
             [
              0.0,
              "#0d0887"
             ],
             [
              0.1111111111111111,
              "#46039f"
             ],
             [
              0.2222222222222222,
              "#7201a8"
             ],
             [
              0.3333333333333333,
              "#9c179e"
             ],
             [
              0.4444444444444444,
              "#bd3786"
             ],
             [
              0.5555555555555556,
              "#d8576b"
             ],
             [
              0.6666666666666666,
              "#ed7953"
             ],
             [
              0.7777777777777778,
              "#fb9f3a"
             ],
             [
              0.8888888888888888,
              "#fdca26"
             ],
             [
              1.0,
              "#f0f921"
             ]
            ]
           }
          ],
          "heatmapgl": [
           {
            "type": "heatmapgl",
            "colorbar": {
             "outlinewidth": 0,
             "ticks": ""
            },
            "colorscale": [
             [
              0.0,
              "#0d0887"
             ],
             [
              0.1111111111111111,
              "#46039f"
             ],
             [
              0.2222222222222222,
              "#7201a8"
             ],
             [
              0.3333333333333333,
              "#9c179e"
             ],
             [
              0.4444444444444444,
              "#bd3786"
             ],
             [
              0.5555555555555556,
              "#d8576b"
             ],
             [
              0.6666666666666666,
              "#ed7953"
             ],
             [
              0.7777777777777778,
              "#fb9f3a"
             ],
             [
              0.8888888888888888,
              "#fdca26"
             ],
             [
              1.0,
              "#f0f921"
             ]
            ]
           }
          ],
          "contourcarpet": [
           {
            "type": "contourcarpet",
            "colorbar": {
             "outlinewidth": 0,
             "ticks": ""
            }
           }
          ],
          "contour": [
           {
            "type": "contour",
            "colorbar": {
             "outlinewidth": 0,
             "ticks": ""
            },
            "colorscale": [
             [
              0.0,
              "#0d0887"
             ],
             [
              0.1111111111111111,
              "#46039f"
             ],
             [
              0.2222222222222222,
              "#7201a8"
             ],
             [
              0.3333333333333333,
              "#9c179e"
             ],
             [
              0.4444444444444444,
              "#bd3786"
             ],
             [
              0.5555555555555556,
              "#d8576b"
             ],
             [
              0.6666666666666666,
              "#ed7953"
             ],
             [
              0.7777777777777778,
              "#fb9f3a"
             ],
             [
              0.8888888888888888,
              "#fdca26"
             ],
             [
              1.0,
              "#f0f921"
             ]
            ]
           }
          ],
          "surface": [
           {
            "type": "surface",
            "colorbar": {
             "outlinewidth": 0,
             "ticks": ""
            },
            "colorscale": [
             [
              0.0,
              "#0d0887"
             ],
             [
              0.1111111111111111,
              "#46039f"
             ],
             [
              0.2222222222222222,
              "#7201a8"
             ],
             [
              0.3333333333333333,
              "#9c179e"
             ],
             [
              0.4444444444444444,
              "#bd3786"
             ],
             [
              0.5555555555555556,
              "#d8576b"
             ],
             [
              0.6666666666666666,
              "#ed7953"
             ],
             [
              0.7777777777777778,
              "#fb9f3a"
             ],
             [
              0.8888888888888888,
              "#fdca26"
             ],
             [
              1.0,
              "#f0f921"
             ]
            ]
           }
          ],
          "mesh3d": [
           {
            "type": "mesh3d",
            "colorbar": {
             "outlinewidth": 0,
             "ticks": ""
            }
           }
          ],
          "scatter": [
           {
            "fillpattern": {
             "fillmode": "overlay",
             "size": 10,
             "solidity": 0.2
            },
            "type": "scatter"
           }
          ],
          "parcoords": [
           {
            "type": "parcoords",
            "line": {
             "colorbar": {
              "outlinewidth": 0,
              "ticks": ""
             }
            }
           }
          ],
          "scatterpolargl": [
           {
            "type": "scatterpolargl",
            "marker": {
             "colorbar": {
              "outlinewidth": 0,
              "ticks": ""
             }
            }
           }
          ],
          "bar": [
           {
            "error_x": {
             "color": "#2a3f5f"
            },
            "error_y": {
             "color": "#2a3f5f"
            },
            "marker": {
             "line": {
              "color": "#E5ECF6",
              "width": 0.5
             },
             "pattern": {
              "fillmode": "overlay",
              "size": 10,
              "solidity": 0.2
             }
            },
            "type": "bar"
           }
          ],
          "scattergeo": [
           {
            "type": "scattergeo",
            "marker": {
             "colorbar": {
              "outlinewidth": 0,
              "ticks": ""
             }
            }
           }
          ],
          "scatterpolar": [
           {
            "type": "scatterpolar",
            "marker": {
             "colorbar": {
              "outlinewidth": 0,
              "ticks": ""
             }
            }
           }
          ],
          "histogram": [
           {
            "marker": {
             "pattern": {
              "fillmode": "overlay",
              "size": 10,
              "solidity": 0.2
             }
            },
            "type": "histogram"
           }
          ],
          "scattergl": [
           {
            "type": "scattergl",
            "marker": {
             "colorbar": {
              "outlinewidth": 0,
              "ticks": ""
             }
            }
           }
          ],
          "scatter3d": [
           {
            "type": "scatter3d",
            "line": {
             "colorbar": {
              "outlinewidth": 0,
              "ticks": ""
             }
            },
            "marker": {
             "colorbar": {
              "outlinewidth": 0,
              "ticks": ""
             }
            }
           }
          ],
          "scattermapbox": [
           {
            "type": "scattermapbox",
            "marker": {
             "colorbar": {
              "outlinewidth": 0,
              "ticks": ""
             }
            }
           }
          ],
          "scatterternary": [
           {
            "type": "scatterternary",
            "marker": {
             "colorbar": {
              "outlinewidth": 0,
              "ticks": ""
             }
            }
           }
          ],
          "scattercarpet": [
           {
            "type": "scattercarpet",
            "marker": {
             "colorbar": {
              "outlinewidth": 0,
              "ticks": ""
             }
            }
           }
          ],
          "carpet": [
           {
            "aaxis": {
             "endlinecolor": "#2a3f5f",
             "gridcolor": "white",
             "linecolor": "white",
             "minorgridcolor": "white",
             "startlinecolor": "#2a3f5f"
            },
            "baxis": {
             "endlinecolor": "#2a3f5f",
             "gridcolor": "white",
             "linecolor": "white",
             "minorgridcolor": "white",
             "startlinecolor": "#2a3f5f"
            },
            "type": "carpet"
           }
          ],
          "table": [
           {
            "cells": {
             "fill": {
              "color": "#EBF0F8"
             },
             "line": {
              "color": "white"
             }
            },
            "header": {
             "fill": {
              "color": "#C8D4E3"
             },
             "line": {
              "color": "white"
             }
            },
            "type": "table"
           }
          ],
          "barpolar": [
           {
            "marker": {
             "line": {
              "color": "#E5ECF6",
              "width": 0.5
             },
             "pattern": {
              "fillmode": "overlay",
              "size": 10,
              "solidity": 0.2
             }
            },
            "type": "barpolar"
           }
          ],
          "pie": [
           {
            "automargin": true,
            "type": "pie"
           }
          ]
         },
         "layout": {
          "autotypenumbers": "strict",
          "colorway": [
           "#636efa",
           "#EF553B",
           "#00cc96",
           "#ab63fa",
           "#FFA15A",
           "#19d3f3",
           "#FF6692",
           "#B6E880",
           "#FF97FF",
           "#FECB52"
          ],
          "font": {
           "color": "#2a3f5f"
          },
          "hovermode": "closest",
          "hoverlabel": {
           "align": "left"
          },
          "paper_bgcolor": "white",
          "plot_bgcolor": "#E5ECF6",
          "polar": {
           "bgcolor": "#E5ECF6",
           "angularaxis": {
            "gridcolor": "white",
            "linecolor": "white",
            "ticks": ""
           },
           "radialaxis": {
            "gridcolor": "white",
            "linecolor": "white",
            "ticks": ""
           }
          },
          "ternary": {
           "bgcolor": "#E5ECF6",
           "aaxis": {
            "gridcolor": "white",
            "linecolor": "white",
            "ticks": ""
           },
           "baxis": {
            "gridcolor": "white",
            "linecolor": "white",
            "ticks": ""
           },
           "caxis": {
            "gridcolor": "white",
            "linecolor": "white",
            "ticks": ""
           }
          },
          "coloraxis": {
           "colorbar": {
            "outlinewidth": 0,
            "ticks": ""
           }
          },
          "colorscale": {
           "sequential": [
            [
             0.0,
             "#0d0887"
            ],
            [
             0.1111111111111111,
             "#46039f"
            ],
            [
             0.2222222222222222,
             "#7201a8"
            ],
            [
             0.3333333333333333,
             "#9c179e"
            ],
            [
             0.4444444444444444,
             "#bd3786"
            ],
            [
             0.5555555555555556,
             "#d8576b"
            ],
            [
             0.6666666666666666,
             "#ed7953"
            ],
            [
             0.7777777777777778,
             "#fb9f3a"
            ],
            [
             0.8888888888888888,
             "#fdca26"
            ],
            [
             1.0,
             "#f0f921"
            ]
           ],
           "sequentialminus": [
            [
             0.0,
             "#0d0887"
            ],
            [
             0.1111111111111111,
             "#46039f"
            ],
            [
             0.2222222222222222,
             "#7201a8"
            ],
            [
             0.3333333333333333,
             "#9c179e"
            ],
            [
             0.4444444444444444,
             "#bd3786"
            ],
            [
             0.5555555555555556,
             "#d8576b"
            ],
            [
             0.6666666666666666,
             "#ed7953"
            ],
            [
             0.7777777777777778,
             "#fb9f3a"
            ],
            [
             0.8888888888888888,
             "#fdca26"
            ],
            [
             1.0,
             "#f0f921"
            ]
           ],
           "diverging": [
            [
             0,
             "#8e0152"
            ],
            [
             0.1,
             "#c51b7d"
            ],
            [
             0.2,
             "#de77ae"
            ],
            [
             0.3,
             "#f1b6da"
            ],
            [
             0.4,
             "#fde0ef"
            ],
            [
             0.5,
             "#f7f7f7"
            ],
            [
             0.6,
             "#e6f5d0"
            ],
            [
             0.7,
             "#b8e186"
            ],
            [
             0.8,
             "#7fbc41"
            ],
            [
             0.9,
             "#4d9221"
            ],
            [
             1,
             "#276419"
            ]
           ]
          },
          "xaxis": {
           "gridcolor": "white",
           "linecolor": "white",
           "ticks": "",
           "title": {
            "standoff": 15
           },
           "zerolinecolor": "white",
           "automargin": true,
           "zerolinewidth": 2
          },
          "yaxis": {
           "gridcolor": "white",
           "linecolor": "white",
           "ticks": "",
           "title": {
            "standoff": 15
           },
           "zerolinecolor": "white",
           "automargin": true,
           "zerolinewidth": 2
          },
          "scene": {
           "xaxis": {
            "backgroundcolor": "#E5ECF6",
            "gridcolor": "white",
            "linecolor": "white",
            "showbackground": true,
            "ticks": "",
            "zerolinecolor": "white",
            "gridwidth": 2
           },
           "yaxis": {
            "backgroundcolor": "#E5ECF6",
            "gridcolor": "white",
            "linecolor": "white",
            "showbackground": true,
            "ticks": "",
            "zerolinecolor": "white",
            "gridwidth": 2
           },
           "zaxis": {
            "backgroundcolor": "#E5ECF6",
            "gridcolor": "white",
            "linecolor": "white",
            "showbackground": true,
            "ticks": "",
            "zerolinecolor": "white",
            "gridwidth": 2
           }
          },
          "shapedefaults": {
           "line": {
            "color": "#2a3f5f"
           }
          },
          "annotationdefaults": {
           "arrowcolor": "#2a3f5f",
           "arrowhead": 0,
           "arrowwidth": 1
          },
          "geo": {
           "bgcolor": "white",
           "landcolor": "#E5ECF6",
           "subunitcolor": "white",
           "showland": true,
           "showlakes": true,
           "lakecolor": "white"
          },
          "title": {
           "x": 0.05
          },
          "mapbox": {
           "style": "light"
          }
         }
        },
        "xaxis": {
         "anchor": "y",
         "domain": [
          0.0,
          1.0
         ],
         "title": {
          "text": "Style"
         }
        },
        "yaxis": {
         "anchor": "x",
         "domain": [
          0.0,
          1.0
         ],
         "title": {
          "text": "count"
         }
        },
        "coloraxis": {
         "colorbar": {
          "title": {
           "text": "Word Count"
          }
         },
         "colorscale": [
          [
           0.0,
           "#0d0887"
          ],
          [
           0.1111111111111111,
           "#46039f"
          ],
          [
           0.2222222222222222,
           "#7201a8"
          ],
          [
           0.3333333333333333,
           "#9c179e"
          ],
          [
           0.4444444444444444,
           "#bd3786"
          ],
          [
           0.5555555555555556,
           "#d8576b"
          ],
          [
           0.6666666666666666,
           "#ed7953"
          ],
          [
           0.7777777777777778,
           "#fb9f3a"
          ],
          [
           0.8888888888888888,
           "#fdca26"
          ],
          [
           1.0,
           "#f0f921"
          ]
         ]
        },
        "legend": {
         "tracegroupgap": 0
        },
        "margin": {
         "t": 60
        },
        "barmode": "relative",
        "height": 400
       },
       "config": {
        "plotlyServerURL": "https://plot.ly"
       }
      },
      "text/html": "<div>                            <div id=\"b21c9282-febc-416c-b22b-dc6c18815550\" class=\"plotly-graph-div\" style=\"height:400px; width:100%;\"></div>            <script type=\"text/javascript\">                require([\"plotly\"], function(Plotly) {                    window.PLOTLYENV=window.PLOTLYENV || {};                                    if (document.getElementById(\"b21c9282-febc-416c-b22b-dc6c18815550\")) {                    Plotly.newPlot(                        \"b21c9282-febc-416c-b22b-dc6c18815550\",                        [{\"alignmentgroup\":\"True\",\"customdata\":[[1.0,1.0,1.0,1.0,1.0,110.0],[0.9,1.0,0.9,1.0,0.5,113.0],[0.9,0.85,0.8,0.9,0.8,102.0],[0.7,0.8,0.95,0.9,0.8,106.0],[0.6,0.8,0.8,0.8,1.0,109.0],[null,null,null,null,null,null],[1.0,1.0,1.0,1.0,1.0,null],[0.9,0.8,0.85,1.0,0.75,null],[0.8,0.7,0.85,0.9,1.0,null],[0.7,0.7,0.8,1.0,1.0,null],[0.7,0.8,0.7,0.9,0.5,null],[null,null,null,null,null,null],[1.0,1.0,1.0,1.0,1.0,null],[0.7,0.7,0.85,0.9,1.0,null],[0.8,0.8,0.8,0.9,0.7,null],[0.8,0.75,0.8,0.9,0.7,null],[0.8,0.6,0.7,0.8,0.7,null],[null,null,null,null,null,null],[1.0,1.0,1.0,1.0,1.0,null],[0.9,0.9,0.85,1.0,0.7,null],[0.9,0.85,0.85,0.8,1.0,null],[0.8,0.7,0.8,1.0,0.7,null],[0.75,0.7,0.8,0.75,0.7,null],[null,null,null,null,null,null],[1.0,1.0,1.0,1.0,1.0,null],[0.9,1.0,0.9,0.9,0.5,null],[0.8,0.8,0.8,1.0,1.0,null],[0.8,0.9,0.9,0.8,0.5,null],[0.7,0.7,0.8,0.7,0.5,null],[null,null,null,null,null,null],[1.0,1.0,1.0,1.0,1.0,null],[0.9,0.9,0.9,0.9,0.75,null],[0.85,0.9,0.85,1.0,0.5,null],[0.8,0.85,0.8,0.95,0.5,null],[0.5,0.7,0.7,0.8,0.25,null],[null,null,null,null,null,null],[1.0,1.0,1.0,1.0,1.0,null],[1.0,0.9,0.9,0.85,0.7,null],[0.9,0.95,0.9,0.85,1.0,null],[0.5,0.5,0.5,0.85,0.35,null],[0.8,0.8,0.8,0.9,0.7,null],[null,null,null,null,null,null],[1.0,1.0,1.0,1.0,1.0,null],[0.95,0.9,0.95,0.95,0.75,null],[0.9,0.95,0.9,0.9,0.5,null],[0.8,0.8,0.8,0.9,1.0,null],[0.5,0.8,0.8,0.9,0.75,null],[null,null,null,null,null,null],[1.0,1.0,1.0,1.0,1.0,null],[0.95,0.9,0.95,0.95,0.5,null],[1.0,0.9,0.9,1.0,1.0,null],[0.9,0.85,0.8,0.95,1.0,null],[0.8,0.8,0.85,1.0,1.0,null],[null,null,null,null,null,null],[1.0,1.0,1.0,1.0,1.0,95.0],[0.95,0.8,0.9,0.9,0.75,91.0],[0.5,0.8,0.8,1.0,0.75,94.0],[0.9,0.9,0.9,0.9,1.0,92.0],[0.8,0.8,0.8,0.8,0.75,86.0],[null,null,null,null,null,null],[1.0,1.0,1.0,1.0,1.0,95.0],[0.95,0.8,0.9,0.9,0.75,91.0],[0.5,0.8,0.8,1.0,0.75,94.0],[0.9,0.9,0.9,0.9,1.0,92.0],[0.8,0.8,0.8,0.8,0.75,86.0],[null,null,null,null,null,null],[1.0,1.0,1.0,1.0,1.0,70.0],[0.9,0.8,0.8,1.0,1.0,74.0],[0.6,0.75,0.7,1.0,1.0,76.0],[0.8,0.75,0.8,0.9,0.75,68.0],[0.75,0.6,0.8,1.0,1.0,79.0],[null,null,null,null,null,null],[1.0,1.0,1.0,1.0,1.0,72.0],[0.6,0.9,0.8,0.8,0.75,69.0],[0.8,0.9,0.9,0.7,0.75,60.0],[0.7,0.8,0.8,0.8,0.5,66.0],[0.5,0.6,0.7,1.0,0.5,83.0],[null,null,null,null,null,null],[1.0,1.0,1.0,1.0,1.0,72.0],[0.8,0.9,0.9,0.7,0.5,58.0],[0.8,0.8,0.75,1.0,1.0,71.0],[0.6,0.5,0.6,0.6,1.0,52.0],[0.6,0.6,0.7,1.0,1.0,75.0],[null,null,null,null,null,null],[1.0,1.0,1.0,1.0,1.0,77.0],[0.8,0.9,0.9,0.8,0.75,58.0],[0.8,0.8,0.85,0.9,0.75,65.0],[0.5,0.6,0.7,0.7,0.35,48.0],[0.8,0.6,0.75,1.0,0.75,80.0],[null,null,null,null,null,null],[1.0,1.0,1.0,1.0,1.0,96.0],[0.75,0.9,0.9,0.9,0.75,86.0],[0.8,0.7,0.8,0.85,0.75,82.0],[0.8,0.9,0.9,0.8,0.75,78.0],[0.4,0.6,0.75,0.8,0.35,73.0],[null,null,null,null,null,null],[1.0,1.0,1.0,1.0,1.0,76.0],[0.9,0.8,0.9,1.0,0.75,76.0],[0.7,0.9,0.75,0.9,0.75,65.0],[0.8,0.95,0.7,1.0,0.75,76.0],[0.6,0.8,0.75,0.9,0.5,67.0],[null,null,null,null,null,null],[1.0,1.0,1.0,1.0,1.0,82.0],[0.9,0.8,0.9,1.0,0.75,90.0],[0.7,0.75,0.75,0.8,0.5,65.0],[0.7,0.8,0.8,0.8,0.5,66.0],[0.8,0.8,0.9,1.0,0.75,80.0],[null,null,null,null,null,null],[1.0,1.0,1.0,1.0,1.0,72.0],[0.8,0.75,0.9,0.95,0.75,66.0],[0.6,0.75,0.8,1.0,0.5,72.0],[0.4,0.8,0.7,1.0,0.25,79.0],[0.7,0.9,0.8,1.0,0.5,80.0],[null,null,null,null,null,null],[1.0,1.0,1.0,1.0,1.0,113.0],[0.8,0.5,0.9,0.75,0.5,77.0],[0.5,0.9,0.75,0.9,1.0,94.0],[0.8,0.75,0.9,0.75,1.0,78.0],[0.6,0.8,0.6,1.0,0.75,109.0],[null,null,null,null,null,null],[1.0,1.0,1.0,1.0,1.0,76.0],[0.7,0.9,0.8,0.8,0.75,62.0],[0.8,0.8,0.9,1.0,0.35,81.0],[0.4,0.7,0.7,1.0,0.35,80.0],[0.6,0.75,0.8,1.0,0.5,87.0],[null,null,null,null,null,null],[1.0,1.0,1.0,1.0,1.0,102.0],[0.5,0.8,0.8,0.7,0.75,70.0],[0.6,0.9,0.95,0.7,0.75,68.0],[0.8,0.7,0.8,0.95,0.75,95.0],[0.9,0.9,0.9,0.8,1.0,81.0],[null,null,null,null,null,null],[1.0,1.0,1.0,1.0,1.0,95.0],[0.8,0.7,0.9,0.85,1.0,77.0],[0.7,0.8,0.8,0.8,0.75,73.0],[0.9,0.9,0.9,1.0,0.75,104.0],[0.5,0.8,0.7,0.85,0.35,76.0],[null,null,null,null,null,null],[1.0,1.0,1.0,1.0,1.0,63.0],[0.5,0.8,0.75,1.0,0.75,61.0],[0.8,0.7,0.85,1.0,0.75,68.0],[0.4,0.6,0.5,0.8,0.75,52.0],[0.9,0.9,0.8,1.0,1.0,59.0],[null,null,null,null,null,null],[1.0,1.0,1.0,1.0,1.0,81.0],[0.8,0.75,0.75,1.0,0.75,97.0],[0.9,0.9,0.85,1.0,0.5,86.0],[0.7,0.8,0.7,1.0,0.25,82.0],[0.5,0.5,0.6,0.8,0.5,66.0],[null,null,null,null,null,null],[1.0,1.0,1.0,1.0,1.0,81.0],[0.8,0.75,0.75,1.0,0.75,97.0],[0.9,0.9,0.85,1.0,0.5,86.0],[0.7,0.8,0.7,1.0,0.25,82.0],[0.5,0.5,0.6,0.8,0.5,66.0],[null,null,null,null,null,null],[1.0,1.0,1.0,1.0,1.0,81.0],[0.7,0.8,0.7,1.0,0.75,82.0],[0.9,0.9,0.9,1.0,0.75,86.0],[0.5,0.5,0.7,0.8,0.75,67.0],[0.6,0.7,0.8,0.8,0.75,68.0],[null,null,null,null,null,null],[1.0,1.0,1.0,1.0,1.0,81.0],[0.7,0.8,0.7,1.0,0.75,82.0],[0.9,0.9,0.9,1.0,0.75,86.0],[0.5,0.5,0.7,0.8,0.75,67.0],[0.6,0.7,0.8,0.8,0.75,68.0],[null,null,null,null,null,null],[1.0,1.0,1.0,1.0,1.0,97.0],[0.9,0.7,0.9,0.75,0.75,77.0],[0.5,0.8,0.7,0.8,0.35,78.0],[0.8,0.9,0.8,0.9,0.75,92.0],[0.7,0.7,0.85,0.8,0.35,79.0],[null,null,null,null,null,null],[1.0,1.0,1.0,1.0,1.0,75.0],[0.4,0.5,0.6,0.9,0.5,66.0],[0.5,0.6,0.7,0.8,0.5,50.0],[0.9,0.8,0.9,0.9,1.0,62.0],[0.8,0.7,0.8,0.8,0.75,52.0],[null,null,null,null,null,null],[1.0,1.0,1.0,1.0,1.0,105.0],[0.5,0.8,0.7,0.7,0.5,70.0],[0.7,0.8,0.9,0.85,0.5,84.0],[0.7,0.6,0.9,1.0,0.75,102.0],[0.9,0.7,0.8,0.9,0.5,92.0],[null,null,null,null,null,null],[1.0,1.0,1.0,1.0,1.0,73.0],[0.8,0.9,0.9,1.0,0.5,81.0],[0.7,0.8,0.8,0.9,1.0,69.0],[0.5,0.6,0.6,1.0,1.0,74.0],[0.8,0.7,0.8,1.0,0.5,75.0],[null,null,null,null,null,null],[1.0,1.0,1.0,1.0,1.0,103.0],[0.9,0.8,0.9,1.0,0.75,98.0],[0.8,0.8,0.9,0.9,1.0,92.0],[0.6,0.7,0.6,0.8,0.25,77.0],[0.7,0.8,0.8,0.75,0.5,76.0],[null,null,null,null,null,null],[1.0,1.0,1.0,1.0,1.0,80.0],[0.8,0.8,0.9,0.8,1.0,72.0],[0.5,0.7,0.8,1.0,0.35,84.0],[0.7,0.6,0.6,0.8,0.35,74.0],[0.9,0.8,0.8,1.0,1.0,85.0],[null,null,null,null,null,null],[1.0,1.0,1.0,1.0,1.0,62.0],[0.9,0.8,0.9,1.0,1.0,78.0],[0.6,0.6,0.6,1.0,0.35,66.0],[0.8,0.8,0.8,1.0,1.0,71.0],[0.7,0.7,0.8,0.8,0.75,45.0],[null,null,null,null,null,null],[1.0,1.0,1.0,1.0,1.0,101.0],[0.8,0.8,0.9,1.0,0.75,98.0],[0.4,0.7,0.7,0.7,0.35,68.0],[0.5,0.4,0.6,0.8,0.75,75.0],[0.8,0.8,0.9,0.7,0.75,73.0],[null,null,null,null,null,null],[1.0,1.0,1.0,1.0,1.0,82.0],[0.9,0.9,0.9,0.9,0.75,74.0],[0.8,0.8,0.8,1.0,0.25,93.0],[0.4,0.4,0.6,0.8,0.25,68.0],[0.9,0.9,0.9,1.0,0.75,85.0],[null,null,null,null,null,null],[1.0,1.0,1.0,1.0,1.0,72.0],[0.6,0.7,0.8,0.9,0.35,62.0],[0.8,0.8,0.8,1.0,0.35,77.0],[0.4,0.4,0.6,1.0,0.75,80.0],[0.8,0.6,0.8,1.0,1.0,79.0],[null,null,null,null,null,null],[1.0,1.0,1.0,1.0,1.0,73.0],[0.8,0.7,0.8,1.0,0.35,80.0],[0.8,0.7,0.8,0.9,0.35,65.0],[0.7,0.8,0.8,1.0,1.0,76.0],[0.7,0.8,0.7,0.9,0.75,60.0],[null,null,null,null,null,null],[1.0,1.0,1.0,1.0,1.0,95.0],[0.8,0.8,0.8,0.8,1.0,71.0],[0.9,0.9,0.9,0.9,0.75,79.0],[0.5,0.5,0.6,0.85,0.75,77.0],[0.8,0.7,0.8,0.95,0.75,89.0],[null,null,null,null,null,null],[1.0,1.0,1.0,1.0,1.0,109.0],[0.9,0.9,0.9,0.9,1.0,88.0],[0.4,0.6,0.4,0.95,0.5,92.0],[0.7,0.8,0.7,0.6,0.25,61.0],[0.9,0.7,0.8,0.95,1.0,99.0],[null,null,null,null,null,null],[1.0,1.0,1.0,1.0,1.0,92.0],[0.8,0.9,0.8,0.8,0.35,77.0],[0.5,0.6,0.6,0.7,0.35,66.0],[0.7,0.8,0.8,1.0,1.0,87.0],[0.8,0.8,0.8,1.0,1.0,87.0],[null,null,null,null,null,null],[1.0,1.0,1.0,1.0,1.0,83.0],[0.9,0.8,0.9,0.75,0.75,58.0],[0.8,0.7,0.8,0.8,0.75,64.0],[0.4,0.8,0.6,1.0,0.5,90.0],[0.7,0.8,0.8,0.9,0.75,72.0],[null,null,null,null,null,null],[1.0,1.0,1.0,1.0,1.0,78.0],[0.4,0.5,0.6,0.9,0.75,69.0],[0.8,0.8,0.8,0.9,0.75,70.0],[0.5,0.6,0.6,1.0,0.35,79.0],[0.7,0.7,0.8,0.75,0.75,53.0],[null,null,null,null,null,null],[1.0,1.0,1.0,1.0,1.0,69.0],[0.8,0.7,0.7,0.9,0.75,77.0],[0.9,0.8,0.8,0.9,0.75,62.0],[0.85,0.7,0.8,1.0,1.0,71.0],[0.9,0.8,0.8,1.0,0.75,75.0],[null,null,null,null,null,null],[1.0,1.0,1.0,1.0,1.0,103.0],[0.9,0.9,0.9,0.85,0.75,83.0],[0.8,0.7,0.8,0.75,0.25,76.0],[0.5,0.6,0.6,0.95,0.25,95.0],[0.4,0.8,0.8,0.7,0.5,72.0],[null,null,null,null,null,null],[1.0,1.0,1.0,1.0,1.0,86.0],[0.7,0.7,0.9,1.0,1.0,91.0],[0.8,0.7,0.7,0.8,0.75,67.0],[0.9,0.8,0.8,0.7,1.0,66.0],[0.5,0.6,0.6,0.75,0.5,81.0],[null,null,null,null,null,null],[1.0,1.0,1.0,1.0,1.0,76.0],[0.8,0.8,0.8,1.0,0.35,81.0],[0.7,0.8,0.7,1.0,0.35,88.0],[0.95,0.9,0.9,1.0,0.35,87.0],[0.5,0.5,0.4,0.8,0.35,56.0],[null,null,null,null,null,null],[1.0,1.0,1.0,1.0,1.0,91.0],[0.7,0.8,0.7,1.0,0.5,94.0],[0.9,0.9,0.85,0.95,1.0,86.0],[0.8,0.8,0.9,0.8,0.5,77.0],[0.6,0.6,0.8,0.9,0.5,83.0],[null,null,null,null,null,null],[1.0,1.0,1.0,1.0,1.0,101.0],[0.9,0.9,0.9,0.95,1.0,97.0],[0.8,0.6,0.9,0.9,0.75,92.0],[0.7,0.8,0.8,0.75,1.0,75.0],[0.7,0.8,0.7,0.9,0.75,87.0],[null,null,null,null,null,null],[1.0,1.0,1.0,1.0,1.0,88.0],[0.8,0.8,0.8,0.95,1.0,82.0],[0.5,0.5,0.7,0.7,0.35,56.0],[0.7,0.7,0.8,0.9,1.0,77.0],[0.8,0.8,0.8,0.8,0.35,61.0],[null,null,null,null,null,null],[1.0,1.0,1.0,1.0,1.0,91.0],[0.6,0.5,0.6,0.9,0.35,81.0],[0.6,0.5,0.7,0.8,0.75,70.0],[0.8,0.9,0.9,1.0,0.35,103.0],[0.75,0.7,0.8,0.8,0.75,70.0],[null,null,null,null,null,null],[1.0,1.0,1.0,1.0,1.0,57.0],[0.9,0.8,0.8,0.9,1.0,56.0],[0.7,0.7,0.8,0.8,0.5,53.0],[0.6,0.7,0.8,1.0,1.0,65.0],[0.8,0.7,0.9,0.75,1.0,46.0],[null,null,null,null,null,null],[1.0,1.0,1.0,1.0,1.0,84.0],[0.8,0.8,0.75,0.8,1.0,73.0],[0.85,0.6,0.8,0.7,1.0,61.0],[0.5,0.6,0.7,0.7,0.75,60.0],[0.9,0.85,0.9,0.75,1.0,63.0],[null,null,null,null,null,null],[1.0,1.0,1.0,1.0,1.0,73.0],[0.85,0.9,0.85,1.0,1.0,88.0],[0.5,0.7,0.7,0.9,0.5,61.0],[0.9,0.9,0.9,0.95,1.0,66.0],[0.7,0.8,0.85,0.95,0.5,66.0],[null,null,null,null,null,null],[1.0,1.0,1.0,1.0,1.0,92.0],[0.8,0.85,0.85,0.8,0.35,64.0],[0.5,0.6,0.7,0.75,0.35,53.0],[0.9,0.9,0.9,0.75,0.75,54.0],[0.8,0.8,0.85,0.8,0.75,68.0],[null,null,null,null,null,null],[1.0,1.0,1.0,1.0,1.0,79.0],[0.6,0.7,0.6,0.8,0.75,57.0],[0.8,0.8,0.75,1.0,0.75,93.0],[0.8,0.8,0.7,1.0,0.75,80.0],[0.9,0.75,0.9,0.85,1.0,64.0],[null,null,null,null,null,null],[1.0,1.0,1.0,1.0,1.0,82.0],[0.8,0.8,0.7,0.75,0.75,58.0],[0.6,0.5,0.6,0.85,0.35,65.0],[0.8,0.75,0.8,0.9,1.0,73.0],[0.85,0.7,0.8,1.0,0.75,79.0],[null,null,null,null,null,null],[1.0,1.0,1.0,1.0,1.0,49.0],[0.9,0.9,0.8,0.8,1.0,39.0],[0.6,0.7,0.5,1.0,0.5,55.0],[0.7,0.8,0.8,1.0,0.5,51.0],[0.75,0.8,0.8,0.95,1.0,48.0],[null,null,null,null,null,null],[1.0,1.0,1.0,1.0,1.0,101.0],[0.6,0.7,0.5,0.9,0.25,89.0],[0.9,0.7,0.8,0.65,0.5,61.0],[0.4,0.5,0.5,0.75,0.5,79.0],[0.8,0.8,0.9,0.8,0.75,81.0],[null,null,null,null,null,null],[1.0,1.0,1.0,1.0,1.0,76.0],[0.9,0.7,0.8,1.0,0.75,80.0],[0.6,0.7,0.7,0.9,0.75,70.0],[0.75,0.6,0.8,1.0,0.75,92.0],[0.85,0.75,0.9,0.75,1.0,54.0],[null,null,null,null,null,null],[1.0,1.0,1.0,1.0,1.0,97.0],[0.8,0.75,0.85,0.55,0.75,55.0],[0.65,0.6,0.7,0.75,0.75,76.0],[0.75,0.8,0.8,0.6,0.35,62.0],[0.5,0.65,0.75,0.5,0.75,50.0],[null,null,null,null,null,null],[1.0,1.0,1.0,1.0,1.0,97.0],[0.5,0.7,0.6,0.7,1.0,72.0],[0.7,0.7,0.6,0.65,0.5,66.0],[0.65,0.8,0.75,0.75,0.5,78.0],[0.9,0.8,0.8,1.0,0.75,101.0],[null,null,null,null,null,null],[1.0,1.0,1.0,1.0,1.0,83.0],[0.8,0.85,0.8,1.0,1.0,82.0],[0.85,0.75,0.75,0.9,0.5,71.0],[0.7,0.5,0.7,0.8,0.5,63.0],[0.4,0.7,0.6,0.95,1.0,74.0],[null,null,null,null,null,null],[1.0,1.0,1.0,1.0,1.0,83.0],[0.9,0.9,0.8,0.85,0.75,67.0],[0.75,0.75,0.7,0.9,1.0,71.0],[0.3,0.4,0.4,0.95,0.35,77.0],[0.95,0.85,0.9,1.0,0.75,80.0],[null,null,null,null,null,null],[1.0,1.0,1.0,1.0,1.0,89.0],[0.7,0.9,0.8,0.9,0.75,81.0],[0.6,0.6,0.75,0.75,0.25,66.0],[0.75,0.8,0.8,0.8,0.75,72.0],[0.65,0.75,0.8,0.7,0.5,56.0],[null,null,null,null,null,null],[1.0,1.0,1.0,1.0,1.0,73.0],[0.8,0.8,0.8,1.0,0.5,78.0],[0.3,0.5,0.6,0.8,0.25,54.0],[0.8,0.9,0.8,0.95,0.75,72.0],[0.7,0.75,0.8,0.95,0.75,73.0],[null,null,null,null,null,null],[1.0,1.0,1.0,1.0,1.0,83.0],[0.7,0.75,0.8,0.75,0.5,60.0],[0.9,0.9,0.85,1.0,0.75,81.0],[0.5,0.6,0.7,0.8,0.5,67.0],[0.85,0.8,0.85,1.0,0.5,80.0],[null,null,null,null,null,null],[1.0,1.0,1.0,1.0,1.0,113.0],[0.9,0.85,0.8,0.6,0.75,72.0],[0.5,0.75,0.8,0.7,0.75,81.0],[0.8,0.85,0.9,1.0,1.0,111.0],[0.85,0.85,0.85,0.9,0.75,100.0],[null,null,null,null,null,null],[1.0,1.0,1.0,1.0,1.0,103.0],[0.4,0.6,0.7,0.8,0.5,79.0],[0.8,0.8,0.8,0.9,0.75,91.0],[0.5,0.6,0.7,0.7,0.75,68.0],[0.95,0.75,0.9,0.8,1.0,77.0],[null,null,null,null,null,null],[1.0,1.0,1.0,1.0,1.0,68.0],[0.8,0.8,0.85,1.0,1.0,69.0],[0.65,0.85,0.8,1.0,0.35,71.0],[0.7,0.65,0.65,0.8,0.75,51.0],[0.8,0.8,0.8,0.9,0.75,64.0],[null,null,null,null,null,null],[1.0,1.0,1.0,1.0,1.0,67.0],[0.85,0.9,0.85,1.0,0.75,75.0],[0.7,0.8,0.8,0.8,0.75,56.0],[0.65,0.5,0.7,0.8,0.35,57.0],[0.75,0.7,0.75,0.95,0.75,66.0],[null,null,null,null,null,null],[1.0,1.0,1.0,1.0,1.0,45.0],[0.65,0.75,0.8,1.0,0.75,54.0],[0.75,0.8,0.85,1.0,0.75,53.0],[0.6,0.5,0.7,1.0,1.0,52.0],[0.9,0.8,0.9,1.0,1.0,47.0],[null,null,null,null,null,null],[1.0,1.0,1.0,1.0,1.0,98.0],[0.85,0.75,0.8,1.0,0.75,102.0],[0.6,0.6,0.75,0.65,0.25,63.0],[0.75,0.85,0.85,0.7,0.5,68.0],[0.7,0.85,0.8,0.95,0.75,94.0],[null,null,null,null,null,null],[1.0,1.0,1.0,1.0,1.0,114.0],[0.35,0.5,0.4,0.8,0.75,92.0],[0.5,0.65,0.6,0.9,1.0,99.0],[0.9,0.85,0.85,0.75,1.0,84.0],[0.8,0.85,0.8,0.8,0.75,89.0],[null,null,null,null,null,null],[1.0,1.0,1.0,1.0,1.0,92.0],[0.6,0.65,0.6,0.85,1.0,78.0],[0.3,0.4,0.4,0.9,0.35,80.0],[0.75,0.8,0.85,0.75,0.75,64.0],[0.8,0.8,0.9,1.0,0.75,92.0],[null,null,null,null,null,null],[1.0,1.0,1.0,1.0,1.0,48.0],[0.5,0.6,0.65,1.0,0.35,56.0],[0.7,0.8,0.75,1.0,0.75,55.0],[0.8,0.8,0.85,1.0,0.75,65.0],[0.6,0.8,0.75,1.0,0.75,56.0],[null,null,null,null,null,null],[1.0,1.0,1.0,1.0,1.0,88.0],[0.85,0.85,0.85,1.0,0.35,96.0],[0.5,0.55,0.6,0.9,0.5,78.0],[0.6,0.65,0.7,0.9,0.5,81.0],[0.85,0.75,0.8,0.9,0.5,79.0],[null,null,null,null,null,null],[1.0,1.0,1.0,1.0,1.0,83.0],[0.65,0.8,0.85,0.7,0.75,51.0],[0.8,0.85,0.8,0.8,1.0,66.0],[0.75,0.8,0.75,0.75,1.0,61.0],[0.7,0.6,0.75,0.95,0.5,77.0],[null,null,null,null,null,null],[1.0,1.0,1.0,1.0,1.0,67.0],[0.85,0.8,0.85,1.0,0.75,73.0],[0.7,0.75,0.8,1.0,0.75,73.0],[0.5,0.55,0.65,1.0,0.35,63.0],[0.75,0.7,0.7,0.95,1.0,62.0],[null,null,null,null,null,null],[1.0,1.0,1.0,1.0,1.0,88.0],[0.5,0.75,0.75,0.75,0.75,67.0],[0.75,0.8,0.75,0.8,1.0,69.0],[0.8,0.75,0.8,0.8,0.75,67.0],[0.85,0.85,0.8,0.9,0.75,74.0],[null,null,null,null,null,null],[1.0,1.0,1.0,1.0,1.0,83.0],[0.65,0.45,0.65,0.75,1.0,61.0],[0.9,0.85,0.85,1.0,1.0,81.0],[0.8,0.7,0.8,0.8,1.0,64.0],[0.7,0.8,0.8,0.6,1.0,55.0],[null,null,null,null,null,null],[1.0,1.0,1.0,1.0,1.0,102.0],[0.6,0.6,0.75,0.85,0.75,85.0],[0.8,0.8,0.85,0.65,0.75,67.0],[0.4,0.3,0.75,0.65,0.75,65.0],[0.5,0.8,0.7,0.65,0.75,66.0],[null,null,null,null,null,null],[1.0,1.0,1.0,1.0,1.0,89.0],[0.75,0.5,0.75,1.0,0.5,91.0],[0.4,0.5,0.6,0.75,0.25,71.0],[0.6,0.7,0.6,1.0,0.25,87.0],[0.9,0.85,0.85,0.65,1.0,62.0],[null,null,null,null,null,null],[1.0,1.0,1.0,1.0,1.0,78.0],[0.4,0.5,0.5,0.85,0.35,67.0],[0.75,0.7,0.8,0.85,0.75,68.0],[0.8,0.85,0.8,1.0,0.75,82.0],[0.9,0.8,0.85,1.0,1.0,79.0],[null,null,null,null,null,null],[1.0,1.0,1.0,1.0,1.0,80.0],[0.3,0.6,0.45,1.0,0.35,86.0],[0.5,0.5,0.7,0.8,0.75,63.0],[0.9,0.8,0.85,1.0,1.0,80.0],[0.6,0.75,0.75,0.9,0.35,71.0],[null,null,null,null,null,null],[1.0,1.0,1.0,1.0,1.0,61.0],[0.4,0.5,0.6,1.0,0.35,64.0],[0.65,0.65,0.75,1.0,1.0,73.0],[0.6,0.75,0.8,0.9,0.35,55.0],[0.85,0.9,0.85,1.0,1.0,71.0],[null,null,null,null,null,null],[1.0,1.0,1.0,1.0,1.0,61.0],[0.5,0.7,0.7,1.0,1.0,64.0],[0.45,0.6,0.7,1.0,1.0,65.0],[0.8,0.8,0.8,0.9,1.0,62.0],[0.85,0.9,0.85,1.0,1.0,65.0],[null,null,null,null,null,null],[1.0,1.0,1.0,1.0,1.0,71.0],[0.4,0.6,0.5,0.8,1.0,56.0],[0.8,0.8,0.75,0.75,1.0,51.0],[0.3,0.4,0.5,0.95,0.75,67.0],[0.85,0.9,0.85,1.0,0.35,71.0],[null,null,null,null,null,null],[1.0,1.0,1.0,1.0,1.0,58.0],[0.8,0.75,0.7,1.0,0.5,63.0],[0.6,0.7,0.75,1.0,1.0,66.0],[0.8,0.8,0.75,1.0,1.0,72.0],[0.4,0.5,0.6,1.0,1.0,74.0],[null,null,null,null,null,null],[1.0,1.0,1.0,1.0,1.0,84.0],[0.6,0.6,0.65,0.95,0.75,81.0],[0.4,0.45,0.4,0.7,0.75,61.0],[0.5,0.6,0.5,0.7,0.75,62.0],[0.9,0.85,0.8,1.0,1.0,95.0],[null,null,null,null,null,null],[1.0,1.0,1.0,1.0,1.0,80.0],[0.5,0.6,0.7,1.0,0.5,80.0],[0.75,0.8,0.7,0.75,0.5,58.0],[0.65,0.75,0.8,0.7,0.5,51.0],[0.8,0.8,0.85,0.8,1.0,63.0],[null,null,null,null,null,null],[1.0,1.0,1.0,1.0,1.0,66.0],[0.8,0.7,0.75,1.0,0.5,71.0],[0.5,0.65,0.7,1.0,1.0,71.0],[0.6,0.7,0.65,1.0,1.0,63.0],[0.55,0.4,0.55,1.0,1.0,68.0],[null,null,null,null,null,null],[1.0,1.0,1.0,1.0,1.0,98.0],[0.9,0.85,0.8,0.75,0.75,73.0],[0.4,0.45,0.5,0.7,0.35,71.0],[0.8,0.7,0.75,0.55,0.75,57.0],[0.9,0.8,0.65,0.85,0.75,87.0],[null,null,null,null,null,null],[1.0,1.0,1.0,1.0,1.0,70.0],[0.5,0.7,0.65,1.0,0.75,71.0],[0.9,0.85,0.9,1.0,1.0,80.0],[0.8,0.85,0.8,1.0,1.0,71.0],[0.85,0.85,0.8,1.0,1.0,72.0],[null,null,null,null,null,null],[1.0,1.0,1.0,1.0,1.0,82.0],[0.95,0.85,0.85,0.7,0.35,53.0],[0.5,0.55,0.4,0.8,0.75,69.0],[0.8,0.8,0.58,1.0,1.0,88.0],[0.6,0.7,0.7,0.75,0.75,61.0],[null,null,null,null,null,null],[1.0,1.0,1.0,1.0,1.0,95.0],[0.8,0.75,0.7,0.75,0.5,59.0],[0.9,0.85,0.8,0.8,1.0,71.0],[0.85,0.8,0.8,1.0,1.0,99.0],[0.5,0.5,0.6,0.8,1.0,75.0],[null,null,null,null,null,null],[1.0,1.0,1.0,1.0,1.0,70.0],[0.4,0.5,0.6,0.95,0.35,66.0],[0.9,0.85,0.8,1.0,0.75,72.0],[0.5,0.6,0.7,1.0,0.35,75.0],[0.65,0.55,0.5,1.0,0.75,69.0],[null,null,null,null,null,null],[1.0,1.0,1.0,1.0,1.0,82.0],[0.65,0.7,0.7,0.9,0.35,73.0],[0.5,0.4,0.55,1.0,0.75,81.0],[0.95,0.9,0.85,1.0,1.0,85.0],[0.9,0.85,0.8,1.0,1.0,84.0],[null,null,null,null,null,null],[1.0,1.0,1.0,1.0,1.0,75.0],[0.5,0.7,0.8,0.55,0.35,45.0],[0.75,0.7,0.75,0.85,0.5,60.0],[0.6,0.65,0.75,0.9,0.35,69.0],[0.8,0.85,0.8,1.0,0.75,82.0],[null,null,null,null,null,null],[1.0,1.0,1.0,1.0,1.0,64.0],[0.85,0.8,0.8,1.0,0.35,67.0],[0.65,0.75,0.7,1.0,0.35,71.0],[0.5,0.55,0.6,1.0,0.35,68.0],[0.9,0.85,0.8,0.95,0.75,65.0]],\"hovertemplate\":\"Style=%{x}<br>count=%{y}<br>Style as per requested=%{customdata[0]}<br>Completeness=%{customdata[1]}<br>Clarity of the point=%{customdata[2]}<br>Length=%{customdata[3]}<br>Keywords usage=%{customdata[4]}<br>Word Count=%{marker.color}<extra></extra>\",\"legendgroup\":\"\",\"marker\":{\"color\":[110.0,113.0,102.0,106.0,109.0,null,null,null,null,null,null,null,null,null,null,null,null,null,null,null,null,null,null,null,null,null,null,null,null,null,null,null,null,null,null,null,null,null,null,null,null,null,null,null,null,null,null,null,null,null,null,null,null,null,95.0,91.0,94.0,92.0,86.0,null,95.0,91.0,94.0,92.0,86.0,null,70.0,74.0,76.0,68.0,79.0,null,72.0,69.0,60.0,66.0,83.0,null,72.0,58.0,71.0,52.0,75.0,null,77.0,58.0,65.0,48.0,80.0,null,96.0,86.0,82.0,78.0,73.0,null,76.0,76.0,65.0,76.0,67.0,null,82.0,90.0,65.0,66.0,80.0,null,72.0,66.0,72.0,79.0,80.0,null,113.0,77.0,94.0,78.0,109.0,null,76.0,62.0,81.0,80.0,87.0,null,102.0,70.0,68.0,95.0,81.0,null,95.0,77.0,73.0,104.0,76.0,null,63.0,61.0,68.0,52.0,59.0,null,81.0,97.0,86.0,82.0,66.0,null,81.0,97.0,86.0,82.0,66.0,null,81.0,82.0,86.0,67.0,68.0,null,81.0,82.0,86.0,67.0,68.0,null,97.0,77.0,78.0,92.0,79.0,null,75.0,66.0,50.0,62.0,52.0,null,105.0,70.0,84.0,102.0,92.0,null,73.0,81.0,69.0,74.0,75.0,null,103.0,98.0,92.0,77.0,76.0,null,80.0,72.0,84.0,74.0,85.0,null,62.0,78.0,66.0,71.0,45.0,null,101.0,98.0,68.0,75.0,73.0,null,82.0,74.0,93.0,68.0,85.0,null,72.0,62.0,77.0,80.0,79.0,null,73.0,80.0,65.0,76.0,60.0,null,95.0,71.0,79.0,77.0,89.0,null,109.0,88.0,92.0,61.0,99.0,null,92.0,77.0,66.0,87.0,87.0,null,83.0,58.0,64.0,90.0,72.0,null,78.0,69.0,70.0,79.0,53.0,null,69.0,77.0,62.0,71.0,75.0,null,103.0,83.0,76.0,95.0,72.0,null,86.0,91.0,67.0,66.0,81.0,null,76.0,81.0,88.0,87.0,56.0,null,91.0,94.0,86.0,77.0,83.0,null,101.0,97.0,92.0,75.0,87.0,null,88.0,82.0,56.0,77.0,61.0,null,91.0,81.0,70.0,103.0,70.0,null,57.0,56.0,53.0,65.0,46.0,null,84.0,73.0,61.0,60.0,63.0,null,73.0,88.0,61.0,66.0,66.0,null,92.0,64.0,53.0,54.0,68.0,null,79.0,57.0,93.0,80.0,64.0,null,82.0,58.0,65.0,73.0,79.0,null,49.0,39.0,55.0,51.0,48.0,null,101.0,89.0,61.0,79.0,81.0,null,76.0,80.0,70.0,92.0,54.0,null,97.0,55.0,76.0,62.0,50.0,null,97.0,72.0,66.0,78.0,101.0,null,83.0,82.0,71.0,63.0,74.0,null,83.0,67.0,71.0,77.0,80.0,null,89.0,81.0,66.0,72.0,56.0,null,73.0,78.0,54.0,72.0,73.0,null,83.0,60.0,81.0,67.0,80.0,null,113.0,72.0,81.0,111.0,100.0,null,103.0,79.0,91.0,68.0,77.0,null,68.0,69.0,71.0,51.0,64.0,null,67.0,75.0,56.0,57.0,66.0,null,45.0,54.0,53.0,52.0,47.0,null,98.0,102.0,63.0,68.0,94.0,null,114.0,92.0,99.0,84.0,89.0,null,92.0,78.0,80.0,64.0,92.0,null,48.0,56.0,55.0,65.0,56.0,null,88.0,96.0,78.0,81.0,79.0,null,83.0,51.0,66.0,61.0,77.0,null,67.0,73.0,73.0,63.0,62.0,null,88.0,67.0,69.0,67.0,74.0,null,83.0,61.0,81.0,64.0,55.0,null,102.0,85.0,67.0,65.0,66.0,null,89.0,91.0,71.0,87.0,62.0,null,78.0,67.0,68.0,82.0,79.0,null,80.0,86.0,63.0,80.0,71.0,null,61.0,64.0,73.0,55.0,71.0,null,61.0,64.0,65.0,62.0,65.0,null,71.0,56.0,51.0,67.0,71.0,null,58.0,63.0,66.0,72.0,74.0,null,84.0,81.0,61.0,62.0,95.0,null,80.0,80.0,58.0,51.0,63.0,null,66.0,71.0,71.0,63.0,68.0,null,98.0,73.0,71.0,57.0,87.0,null,70.0,71.0,80.0,71.0,72.0,null,82.0,53.0,69.0,88.0,61.0,null,95.0,59.0,71.0,99.0,75.0,null,70.0,66.0,72.0,75.0,69.0,null,82.0,73.0,81.0,85.0,84.0,null,75.0,45.0,60.0,69.0,82.0,null,64.0,67.0,71.0,68.0,65.0],\"coloraxis\":\"coloraxis\",\"pattern\":{\"shape\":\"\"}},\"name\":\"\",\"offsetgroup\":\"\",\"orientation\":\"v\",\"showlegend\":false,\"textposition\":\"auto\",\"x\":[\"Academic\",\"Academic\",\"Academic\",\"Academic\",\"Academic\",null,\"For Kids\",\"For Kids\",\"For Kids\",\"For Kids\",\"For Kids\",null,\"Analytical\",\"Analytical\",\"Analytical\",\"Analytical\",\"Analytical\",null,\"Explainer\",\"Explainer\",\"Explainer\",\"Explainer\",\"Explainer\",null,\"Academic\",\"Academic\",\"Academic\",\"Academic\",\"Academic\",null,\"Informative\",\"Informative\",\"Informative\",\"Informative\",\"Informative\",null,\"Analytical\",\"Analytical\",\"Analytical\",\"Analytical\",\"Analytical\",null,\"Informative\",\"Informative\",\"Informative\",\"Informative\",\"Informative\",null,\"Casual\",\"Casual\",\"Casual\",\"Casual\",\"Casual\",null,\"Informative\",\"Informative\",\"Informative\",\"Informative\",\"Informative\",null,\"Informative\",\"Informative\",\"Informative\",\"Informative\",\"Informative\",null,\"Detailed\",\"Detailed\",\"Detailed\",\"Detailed\",\"Detailed\",null,\"Analytical\",\"Analytical\",\"Analytical\",\"Analytical\",\"Analytical\",null,\"Casual\",\"Casual\",\"Casual\",\"Casual\",\"Casual\",null,\"Academic\",\"Academic\",\"Academic\",\"Academic\",\"Academic\",null,\"Casual\",\"Casual\",\"Casual\",\"Casual\",\"Casual\",null,\"Analytical\",\"Analytical\",\"Analytical\",\"Analytical\",\"Analytical\",null,\"Informative\",\"Informative\",\"Informative\",\"Informative\",\"Informative\",null,\"Analytical\",\"Analytical\",\"Analytical\",\"Analytical\",\"Analytical\",null,\"Informative\",\"Informative\",\"Informative\",\"Informative\",\"Informative\",null,\"Casual\",\"Casual\",\"Casual\",\"Casual\",\"Casual\",null,\"Informative\",\"Informative\",\"Informative\",\"Informative\",\"Informative\",null,\"Academic\",\"Academic\",\"Academic\",\"Academic\",\"Academic\",null,\"Informative\",\"Informative\",\"Informative\",\"Informative\",\"Informative\",null,\"Academic\",\"Academic\",\"Academic\",\"Academic\",\"Academic\",null,\"Academic\",\"Academic\",\"Academic\",\"Academic\",\"Academic\",null,\"Informative\",\"Informative\",\"Informative\",\"Informative\",\"Informative\",null,\"Informative\",\"Informative\",\"Informative\",\"Informative\",\"Informative\",null,\"Academic\",\"Academic\",\"Academic\",\"Academic\",\"Academic\",null,\"For Kids\",\"For Kids\",\"For Kids\",\"For Kids\",\"For Kids\",null,\"Academic\",\"Academic\",\"Academic\",\"Academic\",\"Academic\",null,\"Casual\",\"Casual\",\"Casual\",\"Casual\",\"Casual\",null,\"Academic\",\"Academic\",\"Academic\",\"Academic\",\"Academic\",null,\"Descriptive\",\"Descriptive\",\"Descriptive\",\"Descriptive\",\"Descriptive\",null,\"For Kids\",\"For Kids\",\"For Kids\",\"For Kids\",\"For Kids\",null,\"Informative\",\"Informative\",\"Informative\",\"Informative\",\"Informative\",null,\"Academic\",\"Academic\",\"Academic\",\"Academic\",\"Academic\",null,\"For Kids\",\"For Kids\",\"For Kids\",\"For Kids\",\"For Kids\",null,\"Casual\",\"Casual\",\"Casual\",\"Casual\",\"Casual\",null,\"Descriptive\",\"Descriptive\",\"Descriptive\",\"Descriptive\",\"Descriptive\",null,\"Informative\",\"Informative\",\"Informative\",\"Informative\",\"Informative\",null,\"For Kids\",\"For Kids\",\"For Kids\",\"For Kids\",\"For Kids\",null,\"Academic\",\"Academic\",\"Academic\",\"Academic\",\"Academic\",null,\"Casual\",\"Casual\",\"Casual\",\"Casual\",\"Casual\",null,\"Informative\",\"Informative\",\"Informative\",\"Informative\",\"Informative\",null,\"Descriptive\",\"Descriptive\",\"Descriptive\",\"Descriptive\",\"Descriptive\",null,\"For Kids\",\"For Kids\",\"For Kids\",\"For Kids\",\"For Kids\",null,\"Analytical\",\"Analytical\",\"Analytical\",\"Analytical\",\"Analytical\",null,\"Helpful\",\"Helpful\",\"Helpful\",\"Helpful\",\"Helpful\",null,\"Academic\",\"Academic\",\"Academic\",\"Academic\",\"Academic\",null,\"Descriptive\",\"Descriptive\",\"Descriptive\",\"Descriptive\",\"Descriptive\",null,\"Analytical\",\"Analytical\",\"Analytical\",\"Analytical\",\"Analytical\",null,\"For Kids\",\"For Kids\",\"For Kids\",\"For Kids\",\"For Kids\",null,\"Academic\",\"Academic\",\"Academic\",\"Academic\",\"Academic\",null,\"Helpful\",\"Helpful\",\"Helpful\",\"Helpful\",\"Helpful\",null,\"Descriptive\",\"Descriptive\",\"Descriptive\",\"Descriptive\",\"Descriptive\",null,\"Analytical\",\"Analytical\",\"Analytical\",\"Analytical\",\"Analytical\",null,\"Motivational\",\"Motivational\",\"Motivational\",\"Motivational\",\"Motivational\",null,\"For Kids\",\"For Kids\",\"For Kids\",\"For Kids\",\"For Kids\",null,\"Academic\",\"Academic\",\"Academic\",\"Academic\",\"Academic\",null,\"Helpful\",\"Helpful\",\"Helpful\",\"Helpful\",\"Helpful\",null,\"Informative\",\"Informative\",\"Informative\",\"Informative\",\"Informative\",null,\"Analytical\",\"Analytical\",\"Analytical\",\"Analytical\",\"Analytical\",null,\"Casual\",\"Casual\",\"Casual\",\"Casual\",\"Casual\",null,\"Academic\",\"Academic\",\"Academic\",\"Academic\",\"Academic\",null,\"Motivational\",\"Motivational\",\"Motivational\",\"Motivational\",\"Motivational\",null,\"Descriptive\",\"Descriptive\",\"Descriptive\",\"Descriptive\",\"Descriptive\",null,\"Analytical\",\"Analytical\",\"Analytical\",\"Analytical\",\"Analytical\",null,\"Informative\",\"Informative\",\"Informative\",\"Informative\",\"Informative\",null,\"Academic\",\"Academic\",\"Academic\",\"Academic\",\"Academic\",null,\"Motivational\",\"Motivational\",\"Motivational\",\"Motivational\",\"Motivational\",null,\"Casual\",\"Casual\",\"Casual\",\"Casual\",\"Casual\",null,\"For Kids\",\"For Kids\",\"For Kids\",\"For Kids\",\"For Kids\",null,\"Academic\",\"Academic\",\"Academic\",\"Academic\",\"Academic\",null,\"Informative\",\"Informative\",\"Informative\",\"Informative\",\"Informative\",null,\"Helpful\",\"Helpful\",\"Helpful\",\"Helpful\",\"Helpful\",null,\"Descriptive\",\"Descriptive\",\"Descriptive\",\"Descriptive\",\"Descriptive\",null,\"Academic\",\"Academic\",\"Academic\",\"Academic\",\"Academic\",null,\"Casual\",\"Casual\",\"Casual\",\"Casual\",\"Casual\",null,\"Motivational\",\"Motivational\",\"Motivational\",\"Motivational\",\"Motivational\",null,\"Academic\",\"Academic\",\"Academic\",\"Academic\",\"Academic\",null,\"Informative\",\"Informative\",\"Informative\",\"Informative\",\"Informative\",null,\"Helpful\",\"Helpful\",\"Helpful\",\"Helpful\",\"Helpful\",null,\"Descriptive\",\"Descriptive\",\"Descriptive\",\"Descriptive\",\"Descriptive\",null,\"Academic\",\"Academic\",\"Academic\",\"Academic\",\"Academic\",null,\"Helpful\",\"Helpful\",\"Helpful\",\"Helpful\",\"Helpful\",null,\"Casual\",\"Casual\",\"Casual\",\"Casual\",\"Casual\",null,\"Motivational\",\"Motivational\",\"Motivational\",\"Motivational\",\"Motivational\",null,\"Academic\",\"Academic\",\"Academic\",\"Academic\",\"Academic\",null,\"Informative\",\"Informative\",\"Informative\",\"Informative\",\"Informative\",null,\"Analytical\",\"Analytical\",\"Analytical\",\"Analytical\",\"Analytical\",null,\"Helpful\",\"Helpful\",\"Helpful\",\"Helpful\",\"Helpful\",null,\"Descriptive\",\"Descriptive\",\"Descriptive\",\"Descriptive\",\"Descriptive\",null,\"Academic\",\"Academic\",\"Academic\",\"Academic\",\"Academic\",null,\"Informative\",\"Informative\",\"Informative\",\"Informative\",\"Informative\",null,\"Motivational\",\"Motivational\",\"Motivational\",\"Motivational\",\"Motivational\",null,\"Analytical\",\"Analytical\",\"Analytical\",\"Analytical\",\"Analytical\",null,\"Helpful\",\"Helpful\",\"Helpful\",\"Helpful\",\"Helpful\",null,\"Descriptive\",\"Descriptive\",\"Descriptive\",\"Descriptive\",\"Descriptive\",null,\"Casual\",\"Casual\",\"Casual\",\"Casual\",\"Casual\",null,\"Academic\",\"Academic\",\"Academic\",\"Academic\",\"Academic\"],\"xaxis\":\"x\",\"y\":[1,1,1,1,1,1,1,1,1,1,1,1,1,1,1,1,1,1,1,1,1,1,1,1,1,1,1,1,1,1,1,1,1,1,1,1,1,1,1,1,1,1,1,1,1,1,1,1,1,1,1,1,1,1,1,1,1,1,1,1,1,1,1,1,1,1,1,1,1,1,1,1,1,1,1,1,1,1,1,1,1,1,1,1,1,1,1,1,1,1,1,1,1,1,1,1,1,1,1,1,1,1,1,1,1,1,1,1,1,1,1,1,1,1,1,1,1,1,1,1,1,1,1,1,1,1,1,1,1,1,1,1,1,1,1,1,1,1,1,1,1,1,1,1,1,1,1,1,1,1,1,1,1,1,1,1,1,1,1,1,1,1,1,1,1,1,1,1,1,1,1,1,1,1,1,1,1,1,1,1,1,1,1,1,1,1,1,1,1,1,1,1,1,1,1,1,1,1,1,1,1,1,1,1,1,1,1,1,1,1,1,1,1,1,1,1,1,1,1,1,1,1,1,1,1,1,1,1,1,1,1,1,1,1,1,1,1,1,1,1,1,1,1,1,1,1,1,1,1,1,1,1,1,1,1,1,1,1,1,1,1,1,1,1,1,1,1,1,1,1,1,1,1,1,1,1,1,1,1,1,1,1,1,1,1,1,1,1,1,1,1,1,1,1,1,1,1,1,1,1,1,1,1,1,1,1,1,1,1,1,1,1,1,1,1,1,1,1,1,1,1,1,1,1,1,1,1,1,1,1,1,1,1,1,1,1,1,1,1,1,1,1,1,1,1,1,1,1,1,1,1,1,1,1,1,1,1,1,1,1,1,1,1,1,1,1,1,1,1,1,1,1,1,1,1,1,1,1,1,1,1,1,1,1,1,1,1,1,1,1,1,1,1,1,1,1,1,1,1,1,1,1,1,1,1,1,1,1,1,1,1,1,1,1,1,1,1,1,1,1,1,1,1,1,1,1,1,1,1,1,1,1,1,1,1,1,1,1,1,1,1,1,1,1,1,1,1,1,1,1,1,1,1,1,1,1,1,1,1,1,1,1,1,1,1,1,1,1,1,1,1,1,1,1,1,1,1,1,1,1,1,1,1,1,1,1,1,1,1,1,1,1,1,1,1,1,1,1,1,1,1,1,1,1,1,1,1,1,1,1,1,1,1,1,1,1,1,1,1,1,1,1,1,1,1,1,1,1,1,1,1,1,1,1,1,1,1,1,1,1,1,1,1,1,1,1,1,1,1,1,1,1,1,1,1,1,1,1,1,1,1,1,1,1,1,1,1,1,1,1,1,1,1,1,1,1,1,1,1,1,1,1,1,1,1,1,1,1,1,1,1,1,1,1,1,1,1,1,1,1,1,1,1,1,1],\"yaxis\":\"y\",\"type\":\"bar\"}],                        {\"template\":{\"data\":{\"histogram2dcontour\":[{\"type\":\"histogram2dcontour\",\"colorbar\":{\"outlinewidth\":0,\"ticks\":\"\"},\"colorscale\":[[0.0,\"#0d0887\"],[0.1111111111111111,\"#46039f\"],[0.2222222222222222,\"#7201a8\"],[0.3333333333333333,\"#9c179e\"],[0.4444444444444444,\"#bd3786\"],[0.5555555555555556,\"#d8576b\"],[0.6666666666666666,\"#ed7953\"],[0.7777777777777778,\"#fb9f3a\"],[0.8888888888888888,\"#fdca26\"],[1.0,\"#f0f921\"]]}],\"choropleth\":[{\"type\":\"choropleth\",\"colorbar\":{\"outlinewidth\":0,\"ticks\":\"\"}}],\"histogram2d\":[{\"type\":\"histogram2d\",\"colorbar\":{\"outlinewidth\":0,\"ticks\":\"\"},\"colorscale\":[[0.0,\"#0d0887\"],[0.1111111111111111,\"#46039f\"],[0.2222222222222222,\"#7201a8\"],[0.3333333333333333,\"#9c179e\"],[0.4444444444444444,\"#bd3786\"],[0.5555555555555556,\"#d8576b\"],[0.6666666666666666,\"#ed7953\"],[0.7777777777777778,\"#fb9f3a\"],[0.8888888888888888,\"#fdca26\"],[1.0,\"#f0f921\"]]}],\"heatmap\":[{\"type\":\"heatmap\",\"colorbar\":{\"outlinewidth\":0,\"ticks\":\"\"},\"colorscale\":[[0.0,\"#0d0887\"],[0.1111111111111111,\"#46039f\"],[0.2222222222222222,\"#7201a8\"],[0.3333333333333333,\"#9c179e\"],[0.4444444444444444,\"#bd3786\"],[0.5555555555555556,\"#d8576b\"],[0.6666666666666666,\"#ed7953\"],[0.7777777777777778,\"#fb9f3a\"],[0.8888888888888888,\"#fdca26\"],[1.0,\"#f0f921\"]]}],\"heatmapgl\":[{\"type\":\"heatmapgl\",\"colorbar\":{\"outlinewidth\":0,\"ticks\":\"\"},\"colorscale\":[[0.0,\"#0d0887\"],[0.1111111111111111,\"#46039f\"],[0.2222222222222222,\"#7201a8\"],[0.3333333333333333,\"#9c179e\"],[0.4444444444444444,\"#bd3786\"],[0.5555555555555556,\"#d8576b\"],[0.6666666666666666,\"#ed7953\"],[0.7777777777777778,\"#fb9f3a\"],[0.8888888888888888,\"#fdca26\"],[1.0,\"#f0f921\"]]}],\"contourcarpet\":[{\"type\":\"contourcarpet\",\"colorbar\":{\"outlinewidth\":0,\"ticks\":\"\"}}],\"contour\":[{\"type\":\"contour\",\"colorbar\":{\"outlinewidth\":0,\"ticks\":\"\"},\"colorscale\":[[0.0,\"#0d0887\"],[0.1111111111111111,\"#46039f\"],[0.2222222222222222,\"#7201a8\"],[0.3333333333333333,\"#9c179e\"],[0.4444444444444444,\"#bd3786\"],[0.5555555555555556,\"#d8576b\"],[0.6666666666666666,\"#ed7953\"],[0.7777777777777778,\"#fb9f3a\"],[0.8888888888888888,\"#fdca26\"],[1.0,\"#f0f921\"]]}],\"surface\":[{\"type\":\"surface\",\"colorbar\":{\"outlinewidth\":0,\"ticks\":\"\"},\"colorscale\":[[0.0,\"#0d0887\"],[0.1111111111111111,\"#46039f\"],[0.2222222222222222,\"#7201a8\"],[0.3333333333333333,\"#9c179e\"],[0.4444444444444444,\"#bd3786\"],[0.5555555555555556,\"#d8576b\"],[0.6666666666666666,\"#ed7953\"],[0.7777777777777778,\"#fb9f3a\"],[0.8888888888888888,\"#fdca26\"],[1.0,\"#f0f921\"]]}],\"mesh3d\":[{\"type\":\"mesh3d\",\"colorbar\":{\"outlinewidth\":0,\"ticks\":\"\"}}],\"scatter\":[{\"fillpattern\":{\"fillmode\":\"overlay\",\"size\":10,\"solidity\":0.2},\"type\":\"scatter\"}],\"parcoords\":[{\"type\":\"parcoords\",\"line\":{\"colorbar\":{\"outlinewidth\":0,\"ticks\":\"\"}}}],\"scatterpolargl\":[{\"type\":\"scatterpolargl\",\"marker\":{\"colorbar\":{\"outlinewidth\":0,\"ticks\":\"\"}}}],\"bar\":[{\"error_x\":{\"color\":\"#2a3f5f\"},\"error_y\":{\"color\":\"#2a3f5f\"},\"marker\":{\"line\":{\"color\":\"#E5ECF6\",\"width\":0.5},\"pattern\":{\"fillmode\":\"overlay\",\"size\":10,\"solidity\":0.2}},\"type\":\"bar\"}],\"scattergeo\":[{\"type\":\"scattergeo\",\"marker\":{\"colorbar\":{\"outlinewidth\":0,\"ticks\":\"\"}}}],\"scatterpolar\":[{\"type\":\"scatterpolar\",\"marker\":{\"colorbar\":{\"outlinewidth\":0,\"ticks\":\"\"}}}],\"histogram\":[{\"marker\":{\"pattern\":{\"fillmode\":\"overlay\",\"size\":10,\"solidity\":0.2}},\"type\":\"histogram\"}],\"scattergl\":[{\"type\":\"scattergl\",\"marker\":{\"colorbar\":{\"outlinewidth\":0,\"ticks\":\"\"}}}],\"scatter3d\":[{\"type\":\"scatter3d\",\"line\":{\"colorbar\":{\"outlinewidth\":0,\"ticks\":\"\"}},\"marker\":{\"colorbar\":{\"outlinewidth\":0,\"ticks\":\"\"}}}],\"scattermapbox\":[{\"type\":\"scattermapbox\",\"marker\":{\"colorbar\":{\"outlinewidth\":0,\"ticks\":\"\"}}}],\"scatterternary\":[{\"type\":\"scatterternary\",\"marker\":{\"colorbar\":{\"outlinewidth\":0,\"ticks\":\"\"}}}],\"scattercarpet\":[{\"type\":\"scattercarpet\",\"marker\":{\"colorbar\":{\"outlinewidth\":0,\"ticks\":\"\"}}}],\"carpet\":[{\"aaxis\":{\"endlinecolor\":\"#2a3f5f\",\"gridcolor\":\"white\",\"linecolor\":\"white\",\"minorgridcolor\":\"white\",\"startlinecolor\":\"#2a3f5f\"},\"baxis\":{\"endlinecolor\":\"#2a3f5f\",\"gridcolor\":\"white\",\"linecolor\":\"white\",\"minorgridcolor\":\"white\",\"startlinecolor\":\"#2a3f5f\"},\"type\":\"carpet\"}],\"table\":[{\"cells\":{\"fill\":{\"color\":\"#EBF0F8\"},\"line\":{\"color\":\"white\"}},\"header\":{\"fill\":{\"color\":\"#C8D4E3\"},\"line\":{\"color\":\"white\"}},\"type\":\"table\"}],\"barpolar\":[{\"marker\":{\"line\":{\"color\":\"#E5ECF6\",\"width\":0.5},\"pattern\":{\"fillmode\":\"overlay\",\"size\":10,\"solidity\":0.2}},\"type\":\"barpolar\"}],\"pie\":[{\"automargin\":true,\"type\":\"pie\"}]},\"layout\":{\"autotypenumbers\":\"strict\",\"colorway\":[\"#636efa\",\"#EF553B\",\"#00cc96\",\"#ab63fa\",\"#FFA15A\",\"#19d3f3\",\"#FF6692\",\"#B6E880\",\"#FF97FF\",\"#FECB52\"],\"font\":{\"color\":\"#2a3f5f\"},\"hovermode\":\"closest\",\"hoverlabel\":{\"align\":\"left\"},\"paper_bgcolor\":\"white\",\"plot_bgcolor\":\"#E5ECF6\",\"polar\":{\"bgcolor\":\"#E5ECF6\",\"angularaxis\":{\"gridcolor\":\"white\",\"linecolor\":\"white\",\"ticks\":\"\"},\"radialaxis\":{\"gridcolor\":\"white\",\"linecolor\":\"white\",\"ticks\":\"\"}},\"ternary\":{\"bgcolor\":\"#E5ECF6\",\"aaxis\":{\"gridcolor\":\"white\",\"linecolor\":\"white\",\"ticks\":\"\"},\"baxis\":{\"gridcolor\":\"white\",\"linecolor\":\"white\",\"ticks\":\"\"},\"caxis\":{\"gridcolor\":\"white\",\"linecolor\":\"white\",\"ticks\":\"\"}},\"coloraxis\":{\"colorbar\":{\"outlinewidth\":0,\"ticks\":\"\"}},\"colorscale\":{\"sequential\":[[0.0,\"#0d0887\"],[0.1111111111111111,\"#46039f\"],[0.2222222222222222,\"#7201a8\"],[0.3333333333333333,\"#9c179e\"],[0.4444444444444444,\"#bd3786\"],[0.5555555555555556,\"#d8576b\"],[0.6666666666666666,\"#ed7953\"],[0.7777777777777778,\"#fb9f3a\"],[0.8888888888888888,\"#fdca26\"],[1.0,\"#f0f921\"]],\"sequentialminus\":[[0.0,\"#0d0887\"],[0.1111111111111111,\"#46039f\"],[0.2222222222222222,\"#7201a8\"],[0.3333333333333333,\"#9c179e\"],[0.4444444444444444,\"#bd3786\"],[0.5555555555555556,\"#d8576b\"],[0.6666666666666666,\"#ed7953\"],[0.7777777777777778,\"#fb9f3a\"],[0.8888888888888888,\"#fdca26\"],[1.0,\"#f0f921\"]],\"diverging\":[[0,\"#8e0152\"],[0.1,\"#c51b7d\"],[0.2,\"#de77ae\"],[0.3,\"#f1b6da\"],[0.4,\"#fde0ef\"],[0.5,\"#f7f7f7\"],[0.6,\"#e6f5d0\"],[0.7,\"#b8e186\"],[0.8,\"#7fbc41\"],[0.9,\"#4d9221\"],[1,\"#276419\"]]},\"xaxis\":{\"gridcolor\":\"white\",\"linecolor\":\"white\",\"ticks\":\"\",\"title\":{\"standoff\":15},\"zerolinecolor\":\"white\",\"automargin\":true,\"zerolinewidth\":2},\"yaxis\":{\"gridcolor\":\"white\",\"linecolor\":\"white\",\"ticks\":\"\",\"title\":{\"standoff\":15},\"zerolinecolor\":\"white\",\"automargin\":true,\"zerolinewidth\":2},\"scene\":{\"xaxis\":{\"backgroundcolor\":\"#E5ECF6\",\"gridcolor\":\"white\",\"linecolor\":\"white\",\"showbackground\":true,\"ticks\":\"\",\"zerolinecolor\":\"white\",\"gridwidth\":2},\"yaxis\":{\"backgroundcolor\":\"#E5ECF6\",\"gridcolor\":\"white\",\"linecolor\":\"white\",\"showbackground\":true,\"ticks\":\"\",\"zerolinecolor\":\"white\",\"gridwidth\":2},\"zaxis\":{\"backgroundcolor\":\"#E5ECF6\",\"gridcolor\":\"white\",\"linecolor\":\"white\",\"showbackground\":true,\"ticks\":\"\",\"zerolinecolor\":\"white\",\"gridwidth\":2}},\"shapedefaults\":{\"line\":{\"color\":\"#2a3f5f\"}},\"annotationdefaults\":{\"arrowcolor\":\"#2a3f5f\",\"arrowhead\":0,\"arrowwidth\":1},\"geo\":{\"bgcolor\":\"white\",\"landcolor\":\"#E5ECF6\",\"subunitcolor\":\"white\",\"showland\":true,\"showlakes\":true,\"lakecolor\":\"white\"},\"title\":{\"x\":0.05},\"mapbox\":{\"style\":\"light\"}}},\"xaxis\":{\"anchor\":\"y\",\"domain\":[0.0,1.0],\"title\":{\"text\":\"Style\"}},\"yaxis\":{\"anchor\":\"x\",\"domain\":[0.0,1.0],\"title\":{\"text\":\"count\"}},\"coloraxis\":{\"colorbar\":{\"title\":{\"text\":\"Word Count\"}},\"colorscale\":[[0.0,\"#0d0887\"],[0.1111111111111111,\"#46039f\"],[0.2222222222222222,\"#7201a8\"],[0.3333333333333333,\"#9c179e\"],[0.4444444444444444,\"#bd3786\"],[0.5555555555555556,\"#d8576b\"],[0.6666666666666666,\"#ed7953\"],[0.7777777777777778,\"#fb9f3a\"],[0.8888888888888888,\"#fdca26\"],[1.0,\"#f0f921\"]]},\"legend\":{\"tracegroupgap\":0},\"margin\":{\"t\":60},\"barmode\":\"relative\",\"height\":400},                        {\"responsive\": true}                    ).then(function(){\n                            \nvar gd = document.getElementById('b21c9282-febc-416c-b22b-dc6c18815550');\nvar x = new MutationObserver(function (mutations, observer) {{\n        var display = window.getComputedStyle(gd).display;\n        if (!display || display === 'none') {{\n            console.log([gd, 'removed!']);\n            Plotly.purge(gd);\n            observer.disconnect();\n        }}\n}});\n\n// Listen for the removal of the full notebook cells\nvar notebookContainer = gd.closest('#notebook-container');\nif (notebookContainer) {{\n    x.observe(notebookContainer, {childList: true});\n}}\n\n// Listen for the clearing of the current output cell\nvar outputEl = gd.closest('.output');\nif (outputEl) {{\n    x.observe(outputEl, {childList: true});\n}}\n\n                        })                };                });            </script>        </div>"
     },
     "metadata": {},
     "output_type": "display_data"
    }
   ]
  },
  {
   "cell_type": "markdown",
   "source": [
    "В таблице присутсвтуют пустые значения в кол-ве слов\n"
   ],
   "metadata": {
    "id": "sSxDQgwhUSQ7"
   }
  },
  {
   "cell_type": "code",
   "source": [
    "DF.dropna(inplace=True)\n",
    "test_df = DF[DF.isnull().any(1)]\n",
    "test_df.head()"
   ],
   "metadata": {
    "colab": {
     "base_uri": "https://localhost:8080/",
     "height": 354
    },
    "id": "-Wa81RCywhq7",
    "outputId": "10bbf6a2-eb18-40fe-e105-d2332b94a38d",
    "pycharm": {
     "is_executing": false
    }
   },
   "execution_count": 300,
   "outputs": [
    {
     "data": {
      "text/plain": "Empty DataFrame\nColumns: [Subject, Text Modification, TEXT, Style, Length\n (Words), Keywords, Clarity of the point, Completeness, Style as per requested, Length, Keywords usage, Rank, Avg, Word Count]\nIndex: []",
      "text/html": "<div>\n<style scoped>\n    .dataframe tbody tr th:only-of-type {\n        vertical-align: middle;\n    }\n\n    .dataframe tbody tr th {\n        vertical-align: top;\n    }\n\n    .dataframe thead th {\n        text-align: right;\n    }\n</style>\n<table border=\"1\" class=\"dataframe\">\n  <thead>\n    <tr style=\"text-align: right;\">\n      <th></th>\n      <th>Subject</th>\n      <th>Text Modification</th>\n      <th>TEXT</th>\n      <th>Style</th>\n      <th>Length\\n (Words)</th>\n      <th>Keywords</th>\n      <th>Clarity of the point</th>\n      <th>Completeness</th>\n      <th>Style as per requested</th>\n      <th>Length</th>\n      <th>Keywords usage</th>\n      <th>Rank</th>\n      <th>Avg</th>\n      <th>Word Count</th>\n    </tr>\n  </thead>\n  <tbody>\n  </tbody>\n</table>\n</div>"
     },
     "metadata": {},
     "output_type": "execute_result",
     "execution_count": 300
    }
   ]
  },
  {
   "cell_type": "code",
   "source": [
    "def word_count(string):\n",
    "    return len(string.strip().split(\" \"))\n",
    "\n",
    "DF['Word Count'] = DF['TEXT'].apply(lambda x : word_count(x))"
   ],
   "metadata": {
    "id": "dGKbePXr08Z1",
    "pycharm": {
     "is_executing": false
    }
   },
   "execution_count": 301,
   "outputs": []
  },
  {
   "cell_type": "code",
   "source": [
    "# Данные стили убрал, по ним 2-5 примеров\n",
    "DF = DF[(DF['Style'] != 'Detailed') & (DF['Style'] != 'Explainer')]"
   ],
   "metadata": {
    "id": "-YgaPEIlO5L-",
    "pycharm": {
     "is_executing": false
    }
   },
   "execution_count": 302,
   "outputs": []
  },
  {
   "cell_type": "code",
   "source": [
    "DF['Style'].value_counts()"
   ],
   "metadata": {
    "id": "urGlmJyCX1O5",
    "colab": {
     "base_uri": "https://localhost:8080/"
    },
    "outputId": "18e33658-9793-40c6-f53e-7f60285e452a",
    "pycharm": {
     "is_executing": false
    }
   },
   "execution_count": 303,
   "outputs": [
    {
     "data": {
      "text/plain": "Academic        110\nInformative      85\nCasual           55\nAnalytical       50\nDescriptive      50\nFor Kids         40\nHelpful          40\nMotivational     30\nName: Style, dtype: int64"
     },
     "metadata": {},
     "output_type": "execute_result",
     "execution_count": 303
    }
   ]
  },
  {
   "cell_type": "code",
   "source": [
    "# Использую кодировку для значений стиля\n",
    "le = preprocessing.LabelEncoder()\n",
    "DF['StyleLabel'] = le.fit_transform(DF['Style'])\n",
    "DF.groupby(['Style'])['StyleLabel'].value_counts()\n"
   ],
   "metadata": {
    "id": "_kirTQM61PAN",
    "pycharm": {
     "is_executing": false
    }
   },
   "execution_count": 304,
   "outputs": [
    {
     "data": {
      "text/plain": "Style         StyleLabel\nAcademic      0             110\nAnalytical    1              50\nCasual        2              55\nDescriptive   3              50\nFor Kids      4              40\nHelpful       5              40\nInformative   6              85\nMotivational  7              30\nName: StyleLabel, dtype: int64"
     },
     "metadata": {},
     "output_type": "execute_result",
     "execution_count": 304
    }
   ]
  },
  {
   "cell_type": "code",
   "source": [
    "DF"
   ],
   "metadata": {
    "colab": {
     "base_uri": "https://localhost:8080/",
     "height": 659
    },
    "id": "jclxnJfXlX5o",
    "outputId": "d940ffd2-2cd5-45c4-88a9-23e04e67d4aa",
    "pycharm": {
     "is_executing": false
    }
   },
   "execution_count": 305,
   "outputs": [
    {
     "data": {
      "text/plain": "     Subject  Text Modification  \\\n0        1.0                1.0   \n1        1.0                2.0   \n2        1.0                3.0   \n3        1.0                4.0   \n4        1.0                5.0   \n..       ...                ...   \n600    100.0                1.0   \n601    100.0                2.0   \n602    100.0                3.0   \n603    100.0                4.0   \n604    100.0                5.0   \n\n                                                  TEXT     Style  \\\n0    Friction is the force that resists motion when...  Academic   \n1    Friction is the force resisting the relative m...  Academic   \n2    Friction is the force between two surfaces tha...  Academic   \n3    Friction is the force that resists motion when...  Academic   \n4    Friction is the unseen force that resists moti...  Academic   \n..                                                 ...       ...   \n600  Automation describes a wide range of technolog...  Academic   \n601  Automation is the process of automating tasks....  Academic   \n602  In the future, automation will be the norm. Ne...  Academic   \n603  If you're looking for a way to totally disrupt...  Academic   \n604  Automation has become increasingly popular in ...  Academic   \n\n     Length\\n (Words)                                           Keywords  \\\n0               110.0  - Friction\\n- Static Friction\\n- Sliding Frict...   \n1               110.0  - Friction\\n- Static Friction\\n- Sliding Frict...   \n2               110.0  - Friction\\n- Static Friction\\n- Sliding Frict...   \n3               110.0  - Friction\\n- Static Friction\\n- Sliding Frict...   \n4               110.0  - Friction\\n- Static Friction\\n- Sliding Frict...   \n..                ...                                                ...   \n600              65.0              - Automation\\n- Technology\\n- Machine   \n601              65.0              - Automation\\n- Technology\\n- Machine   \n602              65.0              - Automation\\n- Technology\\n- Machine   \n603              65.0              - Automation\\n- Technology\\n- Machine   \n604              65.0              - Automation\\n- Technology\\n- Machine   \n\n     Clarity of the point  Completeness  Style as per requested  Length  \\\n0                    1.00          1.00                    1.00    1.00   \n1                    0.90          1.00                    0.90    1.00   \n2                    0.80          0.85                    0.90    0.90   \n3                    0.95          0.80                    0.70    0.90   \n4                    0.80          0.80                    0.60    0.80   \n..                    ...           ...                     ...     ...   \n600                  1.00          1.00                    1.00    1.00   \n601                  0.80          0.80                    0.85    1.00   \n602                  0.70          0.75                    0.65    1.00   \n603                  0.60          0.55                    0.50    1.00   \n604                  0.80          0.85                    0.90    0.95   \n\n     Keywords usage  Rank   Avg  Word Count  StyleLabel  \n0              1.00   1.0  1.00         110           0  \n1              0.50   2.0  0.86         113           0  \n2              0.80   3.0  0.85         102           0  \n3              0.80   4.0  0.83         106           0  \n4              1.00   5.0  0.80         109           0  \n..              ...   ...   ...         ...         ...  \n600            1.00   1.0  1.00          64           0  \n601            0.35   3.0  0.76          67           0  \n602            0.35   4.0  0.69          71           0  \n603            0.35   5.0  0.60          68           0  \n604            0.75   2.0  0.85          65           0  \n\n[460 rows x 15 columns]",
      "text/html": "<div>\n<style scoped>\n    .dataframe tbody tr th:only-of-type {\n        vertical-align: middle;\n    }\n\n    .dataframe tbody tr th {\n        vertical-align: top;\n    }\n\n    .dataframe thead th {\n        text-align: right;\n    }\n</style>\n<table border=\"1\" class=\"dataframe\">\n  <thead>\n    <tr style=\"text-align: right;\">\n      <th></th>\n      <th>Subject</th>\n      <th>Text Modification</th>\n      <th>TEXT</th>\n      <th>Style</th>\n      <th>Length\\n (Words)</th>\n      <th>Keywords</th>\n      <th>Clarity of the point</th>\n      <th>Completeness</th>\n      <th>Style as per requested</th>\n      <th>Length</th>\n      <th>Keywords usage</th>\n      <th>Rank</th>\n      <th>Avg</th>\n      <th>Word Count</th>\n      <th>StyleLabel</th>\n    </tr>\n  </thead>\n  <tbody>\n    <tr>\n      <th>0</th>\n      <td>1.0</td>\n      <td>1.0</td>\n      <td>Friction is the force that resists motion when...</td>\n      <td>Academic</td>\n      <td>110.0</td>\n      <td>- Friction\\n- Static Friction\\n- Sliding Frict...</td>\n      <td>1.00</td>\n      <td>1.00</td>\n      <td>1.00</td>\n      <td>1.00</td>\n      <td>1.00</td>\n      <td>1.0</td>\n      <td>1.00</td>\n      <td>110</td>\n      <td>0</td>\n    </tr>\n    <tr>\n      <th>1</th>\n      <td>1.0</td>\n      <td>2.0</td>\n      <td>Friction is the force resisting the relative m...</td>\n      <td>Academic</td>\n      <td>110.0</td>\n      <td>- Friction\\n- Static Friction\\n- Sliding Frict...</td>\n      <td>0.90</td>\n      <td>1.00</td>\n      <td>0.90</td>\n      <td>1.00</td>\n      <td>0.50</td>\n      <td>2.0</td>\n      <td>0.86</td>\n      <td>113</td>\n      <td>0</td>\n    </tr>\n    <tr>\n      <th>2</th>\n      <td>1.0</td>\n      <td>3.0</td>\n      <td>Friction is the force between two surfaces tha...</td>\n      <td>Academic</td>\n      <td>110.0</td>\n      <td>- Friction\\n- Static Friction\\n- Sliding Frict...</td>\n      <td>0.80</td>\n      <td>0.85</td>\n      <td>0.90</td>\n      <td>0.90</td>\n      <td>0.80</td>\n      <td>3.0</td>\n      <td>0.85</td>\n      <td>102</td>\n      <td>0</td>\n    </tr>\n    <tr>\n      <th>3</th>\n      <td>1.0</td>\n      <td>4.0</td>\n      <td>Friction is the force that resists motion when...</td>\n      <td>Academic</td>\n      <td>110.0</td>\n      <td>- Friction\\n- Static Friction\\n- Sliding Frict...</td>\n      <td>0.95</td>\n      <td>0.80</td>\n      <td>0.70</td>\n      <td>0.90</td>\n      <td>0.80</td>\n      <td>4.0</td>\n      <td>0.83</td>\n      <td>106</td>\n      <td>0</td>\n    </tr>\n    <tr>\n      <th>4</th>\n      <td>1.0</td>\n      <td>5.0</td>\n      <td>Friction is the unseen force that resists moti...</td>\n      <td>Academic</td>\n      <td>110.0</td>\n      <td>- Friction\\n- Static Friction\\n- Sliding Frict...</td>\n      <td>0.80</td>\n      <td>0.80</td>\n      <td>0.60</td>\n      <td>0.80</td>\n      <td>1.00</td>\n      <td>5.0</td>\n      <td>0.80</td>\n      <td>109</td>\n      <td>0</td>\n    </tr>\n    <tr>\n      <th>...</th>\n      <td>...</td>\n      <td>...</td>\n      <td>...</td>\n      <td>...</td>\n      <td>...</td>\n      <td>...</td>\n      <td>...</td>\n      <td>...</td>\n      <td>...</td>\n      <td>...</td>\n      <td>...</td>\n      <td>...</td>\n      <td>...</td>\n      <td>...</td>\n      <td>...</td>\n    </tr>\n    <tr>\n      <th>600</th>\n      <td>100.0</td>\n      <td>1.0</td>\n      <td>Automation describes a wide range of technolog...</td>\n      <td>Academic</td>\n      <td>65.0</td>\n      <td>- Automation\\n- Technology\\n- Machine</td>\n      <td>1.00</td>\n      <td>1.00</td>\n      <td>1.00</td>\n      <td>1.00</td>\n      <td>1.00</td>\n      <td>1.0</td>\n      <td>1.00</td>\n      <td>64</td>\n      <td>0</td>\n    </tr>\n    <tr>\n      <th>601</th>\n      <td>100.0</td>\n      <td>2.0</td>\n      <td>Automation is the process of automating tasks....</td>\n      <td>Academic</td>\n      <td>65.0</td>\n      <td>- Automation\\n- Technology\\n- Machine</td>\n      <td>0.80</td>\n      <td>0.80</td>\n      <td>0.85</td>\n      <td>1.00</td>\n      <td>0.35</td>\n      <td>3.0</td>\n      <td>0.76</td>\n      <td>67</td>\n      <td>0</td>\n    </tr>\n    <tr>\n      <th>602</th>\n      <td>100.0</td>\n      <td>3.0</td>\n      <td>In the future, automation will be the norm. Ne...</td>\n      <td>Academic</td>\n      <td>65.0</td>\n      <td>- Automation\\n- Technology\\n- Machine</td>\n      <td>0.70</td>\n      <td>0.75</td>\n      <td>0.65</td>\n      <td>1.00</td>\n      <td>0.35</td>\n      <td>4.0</td>\n      <td>0.69</td>\n      <td>71</td>\n      <td>0</td>\n    </tr>\n    <tr>\n      <th>603</th>\n      <td>100.0</td>\n      <td>4.0</td>\n      <td>If you're looking for a way to totally disrupt...</td>\n      <td>Academic</td>\n      <td>65.0</td>\n      <td>- Automation\\n- Technology\\n- Machine</td>\n      <td>0.60</td>\n      <td>0.55</td>\n      <td>0.50</td>\n      <td>1.00</td>\n      <td>0.35</td>\n      <td>5.0</td>\n      <td>0.60</td>\n      <td>68</td>\n      <td>0</td>\n    </tr>\n    <tr>\n      <th>604</th>\n      <td>100.0</td>\n      <td>5.0</td>\n      <td>Automation has become increasingly popular in ...</td>\n      <td>Academic</td>\n      <td>65.0</td>\n      <td>- Automation\\n- Technology\\n- Machine</td>\n      <td>0.80</td>\n      <td>0.85</td>\n      <td>0.90</td>\n      <td>0.95</td>\n      <td>0.75</td>\n      <td>2.0</td>\n      <td>0.85</td>\n      <td>65</td>\n      <td>0</td>\n    </tr>\n  </tbody>\n</table>\n<p>460 rows × 15 columns</p>\n</div>"
     },
     "metadata": {},
     "output_type": "execute_result",
     "execution_count": 305
    }
   ]
  },
  {
   "cell_type": "code",
   "source": [
    "# Удаление знаков пунктуации из текста\n",
    "def remove_punct(text):\n",
    "    table = {33: ' ', 34: ' ', 35: ' ', 36: ' ', 37: ' ', 38: ' ', 39: ' ', 40: ' ', 41: ' ', 42: ' ', 43: ' ', 44: ' ', 45: ' ', 46: ' ', 47: ' ', 58: ' ', 59: ' ', 60: ' ', 61: ' ', 62: ' ', 63: ' ', 64: ' ', 91: ' ', 92: ' ', 93: ' ', 94: ' ', 95: ' ', 96: ' ', 123: ' ', 124: ' ', 125: ' ', 126: ' '}\n",
    "    return text.translate(table)"
   ],
   "metadata": {
    "id": "7wagnQv3R3Ps",
    "pycharm": {
     "is_executing": false
    }
   },
   "execution_count": 306,
   "outputs": []
  },
  {
   "cell_type": "code",
   "source": [
    "# Очистка текста от лишних пунктуаций и символов\n",
    "DF['TEXT_clean'] = DF['TEXT'].map(lambda x: x.lower())\n",
    "DF['TEXT_clean'] = DF['TEXT_clean'].map(lambda x: remove_punct(x))\n",
    "DF['TEXT_clean'] = DF['TEXT_clean'].map(lambda x: x.split(' '))\n",
    "DF['TEXT_clean'] = DF['TEXT_clean'].map(lambda x: [token for token in x if token not in english_stopwords\\\n",
    "                                                                  and token != \" \" \\\n",
    "                                                                  and token.strip() not in punctuation])\n",
    "DF['TEXT_clean'] = DF['TEXT_clean'].map(lambda x: ' '.join(x))"
   ],
   "metadata": {
    "id": "9YxlCHggQlfR",
    "pycharm": {
     "is_executing": false
    }
   },
   "execution_count": 307,
   "outputs": []
  },
  {
   "cell_type": "code",
   "source": [
    "# Функция для разбиения датасета на тренировочную и тестовую часть\n",
    "def dataset_train_test(df, size_train = 1):\n",
    "  train = pd.DataFrame()\n",
    "  test = pd.DataFrame()\n",
    "  for style in df['Style'].unique():\n",
    "    df_2 =  df[df['Style'] == style]\n",
    "    value_train = round((df_2.shape[0]/5) * size_train)\n",
    "    train = train.append(df_2.iloc[0 : value_train * 5])  \n",
    "    test = test.append(df_2.iloc[( value_train * 5 + 1) : ]) \n",
    "  return train, test"
   ],
   "metadata": {
    "id": "1Ik5TyhmX1Rn",
    "pycharm": {
     "is_executing": false
    }
   },
   "execution_count": 308,
   "outputs": []
  },
  {
   "cell_type": "code",
   "source": [
    "Train , Test = dataset_train_test(DF)"
   ],
   "metadata": {
    "id": "AiizAw6BX1Ut",
    "pycharm": {
     "is_executing": false
    }
   },
   "execution_count": 309,
   "outputs": [
    {
     "name": "stderr",
     "text": [
      "C:\\Users\\rafaga\\AppData\\Local\\Temp\\ipykernel_12884\\858599474.py:8: FutureWarning:\n",
      "\n",
      "The frame.append method is deprecated and will be removed from pandas in a future version. Use pandas.concat instead.\n",
      "\n",
      "C:\\Users\\rafaga\\AppData\\Local\\Temp\\ipykernel_12884\\858599474.py:9: FutureWarning:\n",
      "\n",
      "The frame.append method is deprecated and will be removed from pandas in a future version. Use pandas.concat instead.\n",
      "\n",
      "C:\\Users\\rafaga\\AppData\\Local\\Temp\\ipykernel_12884\\858599474.py:8: FutureWarning:\n",
      "\n",
      "The frame.append method is deprecated and will be removed from pandas in a future version. Use pandas.concat instead.\n",
      "\n",
      "C:\\Users\\rafaga\\AppData\\Local\\Temp\\ipykernel_12884\\858599474.py:9: FutureWarning:\n",
      "\n",
      "The frame.append method is deprecated and will be removed from pandas in a future version. Use pandas.concat instead.\n",
      "\n",
      "C:\\Users\\rafaga\\AppData\\Local\\Temp\\ipykernel_12884\\858599474.py:8: FutureWarning:\n",
      "\n",
      "The frame.append method is deprecated and will be removed from pandas in a future version. Use pandas.concat instead.\n",
      "\n",
      "C:\\Users\\rafaga\\AppData\\Local\\Temp\\ipykernel_12884\\858599474.py:9: FutureWarning:\n",
      "\n",
      "The frame.append method is deprecated and will be removed from pandas in a future version. Use pandas.concat instead.\n",
      "\n",
      "C:\\Users\\rafaga\\AppData\\Local\\Temp\\ipykernel_12884\\858599474.py:8: FutureWarning:\n",
      "\n",
      "The frame.append method is deprecated and will be removed from pandas in a future version. Use pandas.concat instead.\n",
      "\n",
      "C:\\Users\\rafaga\\AppData\\Local\\Temp\\ipykernel_12884\\858599474.py:9: FutureWarning:\n",
      "\n",
      "The frame.append method is deprecated and will be removed from pandas in a future version. Use pandas.concat instead.\n",
      "\n",
      "C:\\Users\\rafaga\\AppData\\Local\\Temp\\ipykernel_12884\\858599474.py:8: FutureWarning:\n",
      "\n",
      "The frame.append method is deprecated and will be removed from pandas in a future version. Use pandas.concat instead.\n",
      "\n",
      "C:\\Users\\rafaga\\AppData\\Local\\Temp\\ipykernel_12884\\858599474.py:9: FutureWarning:\n",
      "\n",
      "The frame.append method is deprecated and will be removed from pandas in a future version. Use pandas.concat instead.\n",
      "\n",
      "C:\\Users\\rafaga\\AppData\\Local\\Temp\\ipykernel_12884\\858599474.py:8: FutureWarning:\n",
      "\n",
      "The frame.append method is deprecated and will be removed from pandas in a future version. Use pandas.concat instead.\n",
      "\n",
      "C:\\Users\\rafaga\\AppData\\Local\\Temp\\ipykernel_12884\\858599474.py:9: FutureWarning:\n",
      "\n",
      "The frame.append method is deprecated and will be removed from pandas in a future version. Use pandas.concat instead.\n",
      "\n",
      "C:\\Users\\rafaga\\AppData\\Local\\Temp\\ipykernel_12884\\858599474.py:8: FutureWarning:\n",
      "\n",
      "The frame.append method is deprecated and will be removed from pandas in a future version. Use pandas.concat instead.\n",
      "\n",
      "C:\\Users\\rafaga\\AppData\\Local\\Temp\\ipykernel_12884\\858599474.py:9: FutureWarning:\n",
      "\n",
      "The frame.append method is deprecated and will be removed from pandas in a future version. Use pandas.concat instead.\n",
      "\n",
      "C:\\Users\\rafaga\\AppData\\Local\\Temp\\ipykernel_12884\\858599474.py:8: FutureWarning:\n",
      "\n",
      "The frame.append method is deprecated and will be removed from pandas in a future version. Use pandas.concat instead.\n",
      "\n",
      "C:\\Users\\rafaga\\AppData\\Local\\Temp\\ipykernel_12884\\858599474.py:9: FutureWarning:\n",
      "\n",
      "The frame.append method is deprecated and will be removed from pandas in a future version. Use pandas.concat instead.\n",
      "\n"
     ],
     "output_type": "stream"
    }
   ]
  },
  {
   "cell_type": "code",
   "source": [
    "Train['Style'].value_counts()"
   ],
   "metadata": {
    "colab": {
     "base_uri": "https://localhost:8080/"
    },
    "id": "XvZUqC5-dNrk",
    "outputId": "8c5f3e3f-5aac-45fd-9c95-a13a5ea8f511",
    "pycharm": {
     "is_executing": false
    }
   },
   "execution_count": 310,
   "outputs": [
    {
     "data": {
      "text/plain": "Academic        110\nInformative      85\nCasual           55\nAnalytical       50\nDescriptive      50\nFor Kids         40\nHelpful          40\nMotivational     30\nName: Style, dtype: int64"
     },
     "metadata": {},
     "output_type": "execute_result",
     "execution_count": 310
    }
   ]
  },
  {
   "cell_type": "code",
   "source": [
    "Test['Style'].value_counts()"
   ],
   "metadata": {
    "colab": {
     "base_uri": "https://localhost:8080/"
    },
    "id": "2XIHV3DkmiQy",
    "outputId": "e9dc3169-4cea-4747-f78c-48ad1d940084",
    "pycharm": {
     "is_executing": false
    }
   },
   "execution_count": 311,
   "outputs": [
    {
     "data": {
      "text/plain": "Series([], Name: Style, dtype: int64)"
     },
     "metadata": {},
     "output_type": "execute_result",
     "execution_count": 311
    }
   ]
  },
  {
   "cell_type": "code",
   "source": [
    "# Предварительная проверка обучения на стиле текста\n",
    "X_train = Train['TEXT_clean']\n",
    "y_train = Train['StyleLabel']\n",
    "X_test = Train['TEXT_clean']\n",
    "y_test = Train['StyleLabel']\n",
    "\n",
    "\n",
    "\n",
    "sgd_ppl_clf = Pipeline([\n",
    "    ('tfidf', TfidfVectorizer(ngram_range=(1, 2))),\n",
    "    ('sgd_clf', SGDClassifier(penalty='elasticnet', class_weight='balanced', random_state=42))])\n",
    "knb_ppl_clf = Pipeline([\n",
    "    ('tfidf', TfidfVectorizer()),\n",
    "    ('knb_clf', KNeighborsClassifier(n_neighbors=10))])\n",
    "sgd_ppl_clf.fit(X_train, y_train)\n",
    "knb_ppl_clf.fit(X_train, y_train)\n",
    "\n",
    "\n"
   ],
   "metadata": {
    "id": "fuCQh86U6-hh",
    "pycharm": {
     "is_executing": false
    }
   },
   "execution_count": 312,
   "outputs": [
    {
     "data": {
      "text/plain": "Pipeline(steps=[('tfidf', TfidfVectorizer()),\n                ('knb_clf', KNeighborsClassifier(n_neighbors=10))])",
      "text/html": "<style>#sk-container-id-18 {color: black;background-color: white;}#sk-container-id-18 pre{padding: 0;}#sk-container-id-18 div.sk-toggleable {background-color: white;}#sk-container-id-18 label.sk-toggleable__label {cursor: pointer;display: block;width: 100%;margin-bottom: 0;padding: 0.3em;box-sizing: border-box;text-align: center;}#sk-container-id-18 label.sk-toggleable__label-arrow:before {content: \"▸\";float: left;margin-right: 0.25em;color: #696969;}#sk-container-id-18 label.sk-toggleable__label-arrow:hover:before {color: black;}#sk-container-id-18 div.sk-estimator:hover label.sk-toggleable__label-arrow:before {color: black;}#sk-container-id-18 div.sk-toggleable__content {max-height: 0;max-width: 0;overflow: hidden;text-align: left;background-color: #f0f8ff;}#sk-container-id-18 div.sk-toggleable__content pre {margin: 0.2em;color: black;border-radius: 0.25em;background-color: #f0f8ff;}#sk-container-id-18 input.sk-toggleable__control:checked~div.sk-toggleable__content {max-height: 200px;max-width: 100%;overflow: auto;}#sk-container-id-18 input.sk-toggleable__control:checked~label.sk-toggleable__label-arrow:before {content: \"▾\";}#sk-container-id-18 div.sk-estimator input.sk-toggleable__control:checked~label.sk-toggleable__label {background-color: #d4ebff;}#sk-container-id-18 div.sk-label input.sk-toggleable__control:checked~label.sk-toggleable__label {background-color: #d4ebff;}#sk-container-id-18 input.sk-hidden--visually {border: 0;clip: rect(1px 1px 1px 1px);clip: rect(1px, 1px, 1px, 1px);height: 1px;margin: -1px;overflow: hidden;padding: 0;position: absolute;width: 1px;}#sk-container-id-18 div.sk-estimator {font-family: monospace;background-color: #f0f8ff;border: 1px dotted black;border-radius: 0.25em;box-sizing: border-box;margin-bottom: 0.5em;}#sk-container-id-18 div.sk-estimator:hover {background-color: #d4ebff;}#sk-container-id-18 div.sk-parallel-item::after {content: \"\";width: 100%;border-bottom: 1px solid gray;flex-grow: 1;}#sk-container-id-18 div.sk-label:hover label.sk-toggleable__label {background-color: #d4ebff;}#sk-container-id-18 div.sk-serial::before {content: \"\";position: absolute;border-left: 1px solid gray;box-sizing: border-box;top: 0;bottom: 0;left: 50%;z-index: 0;}#sk-container-id-18 div.sk-serial {display: flex;flex-direction: column;align-items: center;background-color: white;padding-right: 0.2em;padding-left: 0.2em;position: relative;}#sk-container-id-18 div.sk-item {position: relative;z-index: 1;}#sk-container-id-18 div.sk-parallel {display: flex;align-items: stretch;justify-content: center;background-color: white;position: relative;}#sk-container-id-18 div.sk-item::before, #sk-container-id-18 div.sk-parallel-item::before {content: \"\";position: absolute;border-left: 1px solid gray;box-sizing: border-box;top: 0;bottom: 0;left: 50%;z-index: -1;}#sk-container-id-18 div.sk-parallel-item {display: flex;flex-direction: column;z-index: 1;position: relative;background-color: white;}#sk-container-id-18 div.sk-parallel-item:first-child::after {align-self: flex-end;width: 50%;}#sk-container-id-18 div.sk-parallel-item:last-child::after {align-self: flex-start;width: 50%;}#sk-container-id-18 div.sk-parallel-item:only-child::after {width: 0;}#sk-container-id-18 div.sk-dashed-wrapped {border: 1px dashed gray;margin: 0 0.4em 0.5em 0.4em;box-sizing: border-box;padding-bottom: 0.4em;background-color: white;}#sk-container-id-18 div.sk-label label {font-family: monospace;font-weight: bold;display: inline-block;line-height: 1.2em;}#sk-container-id-18 div.sk-label-container {text-align: center;}#sk-container-id-18 div.sk-container {/* jupyter's `normalize.less` sets `[hidden] { display: none; }` but bootstrap.min.css set `[hidden] { display: none !important; }` so we also need the `!important` here to be able to override the default hidden behavior on the sphinx rendered scikit-learn.org. See: https://github.com/scikit-learn/scikit-learn/issues/21755 */display: inline-block !important;position: relative;}#sk-container-id-18 div.sk-text-repr-fallback {display: none;}</style><div id=\"sk-container-id-18\" class=\"sk-top-container\"><div class=\"sk-text-repr-fallback\"><pre>Pipeline(steps=[(&#x27;tfidf&#x27;, TfidfVectorizer()),\n                (&#x27;knb_clf&#x27;, KNeighborsClassifier(n_neighbors=10))])</pre><b>In a Jupyter environment, please rerun this cell to show the HTML representation or trust the notebook. <br />On GitHub, the HTML representation is unable to render, please try loading this page with nbviewer.org.</b></div><div class=\"sk-container\" hidden><div class=\"sk-item sk-dashed-wrapped\"><div class=\"sk-label-container\"><div class=\"sk-label sk-toggleable\"><input class=\"sk-toggleable__control sk-hidden--visually\" id=\"sk-estimator-id-52\" type=\"checkbox\" ><label for=\"sk-estimator-id-52\" class=\"sk-toggleable__label sk-toggleable__label-arrow\">Pipeline</label><div class=\"sk-toggleable__content\"><pre>Pipeline(steps=[(&#x27;tfidf&#x27;, TfidfVectorizer()),\n                (&#x27;knb_clf&#x27;, KNeighborsClassifier(n_neighbors=10))])</pre></div></div></div><div class=\"sk-serial\"><div class=\"sk-item\"><div class=\"sk-estimator sk-toggleable\"><input class=\"sk-toggleable__control sk-hidden--visually\" id=\"sk-estimator-id-53\" type=\"checkbox\" ><label for=\"sk-estimator-id-53\" class=\"sk-toggleable__label sk-toggleable__label-arrow\">TfidfVectorizer</label><div class=\"sk-toggleable__content\"><pre>TfidfVectorizer()</pre></div></div></div><div class=\"sk-item\"><div class=\"sk-estimator sk-toggleable\"><input class=\"sk-toggleable__control sk-hidden--visually\" id=\"sk-estimator-id-54\" type=\"checkbox\" ><label for=\"sk-estimator-id-54\" class=\"sk-toggleable__label sk-toggleable__label-arrow\">KNeighborsClassifier</label><div class=\"sk-toggleable__content\"><pre>KNeighborsClassifier(n_neighbors=10)</pre></div></div></div></div></div></div></div>"
     },
     "metadata": {},
     "output_type": "execute_result",
     "execution_count": 312
    }
   ]
  },
  {
   "cell_type": "code",
   "source": [
    "predicted_sgd = sgd_ppl_clf.predict(X_test)\n",
    "print(metrics.classification_report(predicted_sgd, y_test))"
   ],
   "metadata": {
    "colab": {
     "base_uri": "https://localhost:8080/"
    },
    "id": "L89HbbyN4a6W",
    "outputId": "c5b76307-6d76-4c67-e06a-b807a5dc1d9a",
    "pycharm": {
     "is_executing": false
    }
   },
   "execution_count": 313,
   "outputs": [
    {
     "name": "stdout",
     "text": [
      "              precision    recall  f1-score   support\n",
      "\n",
      "           0       1.00      1.00      1.00       110\n",
      "           1       1.00      1.00      1.00        50\n",
      "           2       1.00      1.00      1.00        55\n",
      "           3       1.00      1.00      1.00        50\n",
      "           4       1.00      1.00      1.00        40\n",
      "           5       1.00      1.00      1.00        40\n",
      "           6       1.00      1.00      1.00        85\n",
      "           7       1.00      1.00      1.00        30\n",
      "\n",
      "    accuracy                           1.00       460\n",
      "   macro avg       1.00      1.00      1.00       460\n",
      "weighted avg       1.00      1.00      1.00       460\n",
      "\n"
     ],
     "output_type": "stream"
    }
   ]
  },
  {
   "cell_type": "code",
   "source": [
    "test_text = '''French is not only an important language for international relations, but also for business and trade. As the sixth largest economy in the world, France is a major player in both the European Union and the global market. Whether you're looking to study abroad in France, do business with a French company, or simply order a baguette at your local bakery, learning French will give you a leg up. Hence it is important to learn French. It can be very helpful'''\n",
    "test_text = test_text.lower()\n",
    "test_text = remove_punct(test_text)\n",
    "test_text = test_text.split(' ')\n",
    "test_text = [token for token in test_text if token not in english_stopwords\\\n",
    "                                                                  and token != \" \" \\\n",
    "                                                                  and token.strip() not in punctuation]\n",
    "test_text = ' '.join(test_text)\n",
    "test_dict = {'test_text': [test_text]}\n",
    "df_test = pd.DataFrame.from_dict(test_dict)\n",
    "df_test.head()\n",
    "predicted_sgd = knb_ppl_clf.predict(df_test['test_text'])\n",
    "# predicted_sgd = knb_ppl_clf.predict(X_test)\n",
    "print(predicted_sgd)\n",
    "print(metrics.classification_report(predicted_sgd, [0]))"
   ],
   "metadata": {
    "colab": {
     "base_uri": "https://localhost:8080/"
    },
    "id": "xhUnEFkQ4a33",
    "outputId": "eb53214a-d69d-4f70-d20f-e2646eb40fd0",
    "pycharm": {
     "is_executing": false
    }
   },
   "execution_count": 314,
   "outputs": [
    {
     "name": "stdout",
     "text": [
      "[0]\n",
      "              precision    recall  f1-score   support\n",
      "\n",
      "           0       1.00      1.00      1.00         1\n",
      "\n",
      "    accuracy                           1.00         1\n",
      "   macro avg       1.00      1.00      1.00         1\n",
      "weighted avg       1.00      1.00      1.00         1\n",
      "\n"
     ],
     "output_type": "stream"
    }
   ]
  },
  {
   "cell_type": "code",
   "source": [],
   "metadata": {
    "id": "0DFUViiVQXJl",
    "pycharm": {
     "is_executing": false
    }
   },
   "execution_count": 314,
   "outputs": []
  }
 ]
}